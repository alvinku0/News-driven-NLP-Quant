{
 "cells": [
  {
   "cell_type": "code",
   "execution_count": 1,
   "id": "2e45e061",
   "metadata": {},
   "outputs": [
    {
     "name": "stderr",
     "output_type": "stream",
     "text": [
      "c:\\Users\\phku0\\AppData\\Local\\Programs\\Python\\Python312\\Lib\\site-packages\\tqdm\\auto.py:21: TqdmWarning: IProgress not found. Please update jupyter and ipywidgets. See https://ipywidgets.readthedocs.io/en/stable/user_install.html\n",
      "  from .autonotebook import tqdm as notebook_tqdm\n"
     ]
    }
   ],
   "source": [
    "from openai import OpenAI\n",
    "import pandas as pd\n",
    "from datasets import Dataset\n",
    "import os\n",
    "import json\n",
    "from concurrent.futures import ThreadPoolExecutor, as_completed"
   ]
  },
  {
   "cell_type": "code",
   "execution_count": null,
   "id": "a56cd24f",
   "metadata": {},
   "outputs": [],
   "source": [
    "client = OpenAI(api_key=\"sk-xxxxxxxxxxxxxxxxx\", base_url=\"https://api.deepseek.com\")"
   ]
  },
  {
   "cell_type": "code",
   "execution_count": null,
   "id": "968dadce",
   "metadata": {},
   "outputs": [],
   "source": [
    "system_message = \"\"\"\n",
    "You are a financial analyst extracting structured data from news articles. \n",
    "Output JSON format with:\n",
    "- ticker_sentiments: list of {ticker, sentiment(-1 to 1)}\n",
    "- sector_sentiments: list of {GICS sector, sentiment(-1 to 1)} \n",
    "\"\"\"\n",
    "\n",
    "user_prompt = \"\"\"\n",
    "Fossil Fuels Initially Needed for AI Boom, Nuclear Expert Says\n",
    "Bloomberg News | December 12, 2024\n",
    "Dale Klein, chair of Tokyo Electric Power Co.'s nuclear reform committee and former head of the U.S. Nuclear Regulatory Commission, stated that the rapid rise in AI and the resulting surge in electricity demand will initially be met by fossil fuels, especially natural gas, before nuclear power can catch up.\n",
    "Klein noted that data center growth in countries like the U.S. and Japan is outpacing the speed at which nuclear plants can be built. While companies like Microsoft and Google are investing in nuclear to meet clean energy needs, widespread deployment will take time.\n",
    "He emphasized that nuclear energy will be essential to meet long-term demand while reducing greenhouse gas emissions. In the U.S., even with political support for nuclear, gas will fill the gap temporarily. In Japan, where nuclear remains controversial post-Fukushima, electricity demand could rise again due to new data centers and semiconductor facilities, potentially reigniting the need for nuclear power.\n",
    "\"\"\"\n",
    "\n",
    "messages = [\n",
    "  {\"role\": \"system\", \"content\": system_message},\n",
    "  {\"role\": \"user\", \"content\": user_prompt}\n",
    "]\n",
    "\n",
    "response = client.chat.completions.create(\n",
    "  model=\"deepseek-chat\",\n",
    "  messages=messages,\n",
    "  response_format={'type': 'json_object'}\n",
    ")"
   ]
  },
  {
   "cell_type": "code",
   "execution_count": 12,
   "id": "014b86eb",
   "metadata": {},
   "outputs": [
    {
     "name": "stdout",
     "output_type": "stream",
     "text": [
      "{\n",
      "  \"ticker_sentiments\": [\n",
      "    {\n",
      "      \"ticker\": \"MSFT\",\n",
      "      \"sentiment\": 0.5\n",
      "    },\n",
      "    {\n",
      "      \"ticker\": \"GOOGL\",\n",
      "      \"sentiment\": 0.5\n",
      "    },\n",
      "    {\n",
      "      \"ticker\": \"TEPCO\",\n",
      "      \"sentiment\": 0.3\n",
      "    }\n",
      "  ],\n",
      "  \"sector_sentiments\": [\n",
      "    {\n",
      "      \"GICS sector\": \"Energy\",\n",
      "      \"sentiment\": 0.2\n",
      "    },\n",
      "    {\n",
      "      \"GICS sector\": \"Information Technology\",\n",
      "      \"sentiment\": 0.6\n",
      "    },\n",
      "    {\n",
      "      \"GICS sector\": \"Utilities\",\n",
      "      \"sentiment\": 0.4\n",
      "    }\n",
      "  ]\n",
      "}\n"
     ]
    }
   ],
   "source": [
    "print(response.choices[0].message.content)"
   ]
  },
  {
   "cell_type": "code",
   "execution_count": 13,
   "id": "d5f5bfab",
   "metadata": {},
   "outputs": [],
   "source": [
    "system_message = \"\"\"\n",
    "Analyze the following news article and extract the following information:\n",
    "1. Determine if the news is related to a merger or acquisition (M&A). Answer \"Yes\" or \"No\".  \n",
    "2. If applicable:  \n",
    "  - Identify the **acquirer** (company making the purchase).  \n",
    "  - Identify the **target** (company being acquired).  \n",
    "  - Extract the **target share price** offered.  \n",
    "  - Extract the **valuation** (total transaction value).  \n",
    "3. List all **people names mentioned** in the article.  \n",
    "\n",
    "Return the output in JSON format with keys:  \n",
    "- `is_related_to_ma` (boolean)  \n",
    "- `acquirer` (string or N/A)  \n",
    "- `target` (string or N/A)  \n",
    "- `target_share_price` (number or N/A)  \n",
    "- `valuation` (string or N/A)  \n",
    "- `people_names` (list of strings or empty list).\n",
    "\n",
    "If information is unavailable, use \"N/A\".\n",
    "\n",
    "Example Output:\n",
    "{\n",
    "  \"is_related_to_ma\": true,\n",
    "  \"acquirer\": \"Tesla Inc.\",\n",
    "  \"target\": \"SolarCity Corp.\",\n",
    "  \"target_share_price\": 43,\n",
    "  \"valuation\": \"1570000000\",\n",
    "  \"people_names\": [\"Elon Musk\", \"Lyndon Rive\"]\n",
    "}\n",
    "\"\"\"\n",
    "\n",
    "user_prompt = \"\"\"\n",
    "Microsoft to acquire LinkedIn\n",
    "June 13, 2016\n",
    "Microsoft Corp. (Nasdaq: MSFT) and LinkedIn Corporation (NYSE: LNKD) on Monday announced they have entered into a definitive agreement under which Microsoft will acquire LinkedIn for $196 per share in an all-cash transaction valued at $26.2 billion, inclusive of LinkedIn's net cash.\n",
    "LinkedIn will retain its distinct brand, culture and independence. Jeff Weiner will remain CEO of LinkedIn, reporting to Satya Nadella, CEO of Microsoft.\n",
    "Reid Hoffman, chairman of the board, co-founder and controlling shareholder of LinkedIn, and Weiner both fully support this transaction.\n",
    "The transaction is expected to close this calendar year.\n",
    "\"\"\"\n",
    "\n",
    "messages = [\n",
    "  {\"role\": \"system\", \"content\": system_message},\n",
    "  {\"role\": \"user\", \"content\": user_prompt}\n",
    "]\n",
    "\n",
    "response = client.chat.completions.create(\n",
    "  model=\"deepseek-chat\",\n",
    "  messages=messages,\n",
    "  response_format={'type': 'json_object'}\n",
    ")"
   ]
  },
  {
   "cell_type": "code",
   "execution_count": 14,
   "id": "41526b82",
   "metadata": {},
   "outputs": [
    {
     "name": "stdout",
     "output_type": "stream",
     "text": [
      "{\n",
      "  \"is_related_to_ma\": true,\n",
      "  \"acquirer\": \"Microsoft Corp.\",\n",
      "  \"target\": \"LinkedIn Corporation\",\n",
      "  \"target_share_price\": 196,\n",
      "  \"valuation\": \"26.2 billion\",\n",
      "  \"people_names\": [\"Jeff Weiner\", \"Satya Nadella\", \"Reid Hoffman\"]\n",
      "}\n"
     ]
    }
   ],
   "source": [
    "print(response.choices[0].message.content)"
   ]
  }
 ],
 "metadata": {
  "kernelspec": {
   "display_name": "Python 3",
   "language": "python",
   "name": "python3"
  },
  "language_info": {
   "codemirror_mode": {
    "name": "ipython",
    "version": 3
   },
   "file_extension": ".py",
   "mimetype": "text/x-python",
   "name": "python",
   "nbconvert_exporter": "python",
   "pygments_lexer": "ipython3",
   "version": "3.12.9"
  }
 },
 "nbformat": 4,
 "nbformat_minor": 5
}
