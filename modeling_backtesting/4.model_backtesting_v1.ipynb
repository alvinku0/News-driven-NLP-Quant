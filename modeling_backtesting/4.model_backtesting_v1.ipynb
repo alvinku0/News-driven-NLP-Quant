{
 "cells": [
  {
   "cell_type": "code",
   "execution_count": 1,
   "id": "0ca9f658",
   "metadata": {},
   "outputs": [],
   "source": [
    "import pandas as pd\n",
    "import numpy as np\n",
    "import matplotlib.pyplot as plt\n",
    "from sklearn.preprocessing import StandardScaler"
   ]
  },
  {
   "cell_type": "code",
   "execution_count": 2,
   "id": "ea96eaba",
   "metadata": {},
   "outputs": [
    {
     "name": "stdout",
     "output_type": "stream",
     "text": [
      "(17601669, 28)\n"
     ]
    },
    {
     "data": {
      "application/vnd.microsoft.datawrangler.viewer.v0+json": {
       "columns": [
        {
         "name": "index",
         "rawType": "int64",
         "type": "integer"
        },
        {
         "name": "timestamp",
         "rawType": "datetime64[ns]",
         "type": "datetime"
        },
        {
         "name": "ticker",
         "rawType": "object",
         "type": "string"
        },
        {
         "name": "news_count",
         "rawType": "float64",
         "type": "float"
        },
        {
         "name": "title_sentiment_finbert",
         "rawType": "float64",
         "type": "float"
        },
        {
         "name": "summary_sentiment_finbert",
         "rawType": "float64",
         "type": "float"
        },
        {
         "name": "title_sentiment_vader",
         "rawType": "float64",
         "type": "float"
        },
        {
         "name": "summary_sentiment_vader",
         "rawType": "float64",
         "type": "float"
        },
        {
         "name": "topic_announcements",
         "rawType": "float64",
         "type": "float"
        },
        {
         "name": "topic_market_movements",
         "rawType": "float64",
         "type": "float"
        },
        {
         "name": "topic_legal_actions",
         "rawType": "float64",
         "type": "float"
        },
        {
         "name": "topic_investment_sentiment",
         "rawType": "float64",
         "type": "float"
        },
        {
         "name": "topic_earnings",
         "rawType": "float64",
         "type": "float"
        },
        {
         "name": "topic_analyst_ratings",
         "rawType": "float64",
         "type": "float"
        },
        {
         "name": "topic_macro_econ",
         "rawType": "float64",
         "type": "float"
        },
        {
         "name": "topic_research_insights",
         "rawType": "float64",
         "type": "float"
        },
        {
         "name": "NER_US",
         "rawType": "float64",
         "type": "float"
        },
        {
         "name": "NER_China",
         "rawType": "float64",
         "type": "float"
        },
        {
         "name": "NER_India",
         "rawType": "float64",
         "type": "float"
        },
        {
         "name": "NER_Russia",
         "rawType": "float64",
         "type": "float"
        },
        {
         "name": "NER_Canada",
         "rawType": "float64",
         "type": "float"
        },
        {
         "name": "NER_UK",
         "rawType": "float64",
         "type": "float"
        },
        {
         "name": "NER_Trump",
         "rawType": "float64",
         "type": "float"
        },
        {
         "name": "NER_ElonMusk",
         "rawType": "float64",
         "type": "float"
        },
        {
         "name": "NER_JoeBiden",
         "rawType": "float64",
         "type": "float"
        },
        {
         "name": "NER_FED",
         "rawType": "float64",
         "type": "float"
        },
        {
         "name": "NER_Ukraine",
         "rawType": "float64",
         "type": "float"
        },
        {
         "name": "NER_Japan",
         "rawType": "float64",
         "type": "float"
        },
        {
         "name": "return_forwarded",
         "rawType": "float64",
         "type": "float"
        }
       ],
       "conversionMethod": "pd.DataFrame",
       "ref": "c7fe6fc8-8546-4819-a319-25d4e35da21a",
       "rows": [
        [
         "0",
         "2022-03-01 09:00:00",
         "A",
         null,
         null,
         null,
         null,
         null,
         null,
         null,
         null,
         null,
         null,
         null,
         null,
         null,
         null,
         null,
         null,
         null,
         null,
         null,
         null,
         null,
         null,
         null,
         null,
         null,
         "0.004980343015551947"
        ],
        [
         "1",
         "2022-03-01 10:00:00",
         "A",
         null,
         null,
         null,
         null,
         null,
         null,
         null,
         null,
         null,
         null,
         null,
         null,
         null,
         null,
         null,
         null,
         null,
         null,
         null,
         null,
         null,
         null,
         null,
         null,
         null,
         "-0.00129592860484129"
        ],
        [
         "2",
         "2022-03-01 11:00:00",
         "A",
         null,
         null,
         null,
         null,
         null,
         null,
         null,
         null,
         null,
         null,
         null,
         null,
         null,
         null,
         null,
         null,
         null,
         null,
         null,
         null,
         null,
         null,
         null,
         null,
         null,
         "0.010229688698243589"
        ],
        [
         "3",
         "2022-03-01 12:00:00",
         "A",
         null,
         null,
         null,
         null,
         null,
         null,
         null,
         null,
         null,
         null,
         null,
         null,
         null,
         null,
         null,
         null,
         null,
         null,
         null,
         null,
         null,
         null,
         null,
         null,
         null,
         "-0.0019270914496697378"
        ],
        [
         "4",
         "2022-03-01 13:00:00",
         "A",
         null,
         null,
         null,
         null,
         null,
         null,
         null,
         null,
         null,
         null,
         null,
         null,
         null,
         null,
         null,
         null,
         null,
         null,
         null,
         null,
         null,
         null,
         null,
         null,
         null,
         "0.0001893711024336664"
        ]
       ],
       "shape": {
        "columns": 28,
        "rows": 5
       }
      },
      "text/html": [
       "<div>\n",
       "<style scoped>\n",
       "    .dataframe tbody tr th:only-of-type {\n",
       "        vertical-align: middle;\n",
       "    }\n",
       "\n",
       "    .dataframe tbody tr th {\n",
       "        vertical-align: top;\n",
       "    }\n",
       "\n",
       "    .dataframe thead th {\n",
       "        text-align: right;\n",
       "    }\n",
       "</style>\n",
       "<table border=\"1\" class=\"dataframe\">\n",
       "  <thead>\n",
       "    <tr style=\"text-align: right;\">\n",
       "      <th></th>\n",
       "      <th>timestamp</th>\n",
       "      <th>ticker</th>\n",
       "      <th>news_count</th>\n",
       "      <th>title_sentiment_finbert</th>\n",
       "      <th>summary_sentiment_finbert</th>\n",
       "      <th>title_sentiment_vader</th>\n",
       "      <th>summary_sentiment_vader</th>\n",
       "      <th>topic_announcements</th>\n",
       "      <th>topic_market_movements</th>\n",
       "      <th>topic_legal_actions</th>\n",
       "      <th>...</th>\n",
       "      <th>NER_Russia</th>\n",
       "      <th>NER_Canada</th>\n",
       "      <th>NER_UK</th>\n",
       "      <th>NER_Trump</th>\n",
       "      <th>NER_ElonMusk</th>\n",
       "      <th>NER_JoeBiden</th>\n",
       "      <th>NER_FED</th>\n",
       "      <th>NER_Ukraine</th>\n",
       "      <th>NER_Japan</th>\n",
       "      <th>return_forwarded</th>\n",
       "    </tr>\n",
       "  </thead>\n",
       "  <tbody>\n",
       "    <tr>\n",
       "      <th>0</th>\n",
       "      <td>2022-03-01 09:00:00</td>\n",
       "      <td>A</td>\n",
       "      <td>NaN</td>\n",
       "      <td>NaN</td>\n",
       "      <td>NaN</td>\n",
       "      <td>NaN</td>\n",
       "      <td>NaN</td>\n",
       "      <td>NaN</td>\n",
       "      <td>NaN</td>\n",
       "      <td>NaN</td>\n",
       "      <td>...</td>\n",
       "      <td>NaN</td>\n",
       "      <td>NaN</td>\n",
       "      <td>NaN</td>\n",
       "      <td>NaN</td>\n",
       "      <td>NaN</td>\n",
       "      <td>NaN</td>\n",
       "      <td>NaN</td>\n",
       "      <td>NaN</td>\n",
       "      <td>NaN</td>\n",
       "      <td>0.004980</td>\n",
       "    </tr>\n",
       "    <tr>\n",
       "      <th>1</th>\n",
       "      <td>2022-03-01 10:00:00</td>\n",
       "      <td>A</td>\n",
       "      <td>NaN</td>\n",
       "      <td>NaN</td>\n",
       "      <td>NaN</td>\n",
       "      <td>NaN</td>\n",
       "      <td>NaN</td>\n",
       "      <td>NaN</td>\n",
       "      <td>NaN</td>\n",
       "      <td>NaN</td>\n",
       "      <td>...</td>\n",
       "      <td>NaN</td>\n",
       "      <td>NaN</td>\n",
       "      <td>NaN</td>\n",
       "      <td>NaN</td>\n",
       "      <td>NaN</td>\n",
       "      <td>NaN</td>\n",
       "      <td>NaN</td>\n",
       "      <td>NaN</td>\n",
       "      <td>NaN</td>\n",
       "      <td>-0.001296</td>\n",
       "    </tr>\n",
       "    <tr>\n",
       "      <th>2</th>\n",
       "      <td>2022-03-01 11:00:00</td>\n",
       "      <td>A</td>\n",
       "      <td>NaN</td>\n",
       "      <td>NaN</td>\n",
       "      <td>NaN</td>\n",
       "      <td>NaN</td>\n",
       "      <td>NaN</td>\n",
       "      <td>NaN</td>\n",
       "      <td>NaN</td>\n",
       "      <td>NaN</td>\n",
       "      <td>...</td>\n",
       "      <td>NaN</td>\n",
       "      <td>NaN</td>\n",
       "      <td>NaN</td>\n",
       "      <td>NaN</td>\n",
       "      <td>NaN</td>\n",
       "      <td>NaN</td>\n",
       "      <td>NaN</td>\n",
       "      <td>NaN</td>\n",
       "      <td>NaN</td>\n",
       "      <td>0.010230</td>\n",
       "    </tr>\n",
       "    <tr>\n",
       "      <th>3</th>\n",
       "      <td>2022-03-01 12:00:00</td>\n",
       "      <td>A</td>\n",
       "      <td>NaN</td>\n",
       "      <td>NaN</td>\n",
       "      <td>NaN</td>\n",
       "      <td>NaN</td>\n",
       "      <td>NaN</td>\n",
       "      <td>NaN</td>\n",
       "      <td>NaN</td>\n",
       "      <td>NaN</td>\n",
       "      <td>...</td>\n",
       "      <td>NaN</td>\n",
       "      <td>NaN</td>\n",
       "      <td>NaN</td>\n",
       "      <td>NaN</td>\n",
       "      <td>NaN</td>\n",
       "      <td>NaN</td>\n",
       "      <td>NaN</td>\n",
       "      <td>NaN</td>\n",
       "      <td>NaN</td>\n",
       "      <td>-0.001927</td>\n",
       "    </tr>\n",
       "    <tr>\n",
       "      <th>4</th>\n",
       "      <td>2022-03-01 13:00:00</td>\n",
       "      <td>A</td>\n",
       "      <td>NaN</td>\n",
       "      <td>NaN</td>\n",
       "      <td>NaN</td>\n",
       "      <td>NaN</td>\n",
       "      <td>NaN</td>\n",
       "      <td>NaN</td>\n",
       "      <td>NaN</td>\n",
       "      <td>NaN</td>\n",
       "      <td>...</td>\n",
       "      <td>NaN</td>\n",
       "      <td>NaN</td>\n",
       "      <td>NaN</td>\n",
       "      <td>NaN</td>\n",
       "      <td>NaN</td>\n",
       "      <td>NaN</td>\n",
       "      <td>NaN</td>\n",
       "      <td>NaN</td>\n",
       "      <td>NaN</td>\n",
       "      <td>0.000189</td>\n",
       "    </tr>\n",
       "  </tbody>\n",
       "</table>\n",
       "<p>5 rows × 28 columns</p>\n",
       "</div>"
      ],
      "text/plain": [
       "            timestamp ticker  news_count  title_sentiment_finbert  \\\n",
       "0 2022-03-01 09:00:00      A         NaN                      NaN   \n",
       "1 2022-03-01 10:00:00      A         NaN                      NaN   \n",
       "2 2022-03-01 11:00:00      A         NaN                      NaN   \n",
       "3 2022-03-01 12:00:00      A         NaN                      NaN   \n",
       "4 2022-03-01 13:00:00      A         NaN                      NaN   \n",
       "\n",
       "   summary_sentiment_finbert  title_sentiment_vader  summary_sentiment_vader  \\\n",
       "0                        NaN                    NaN                      NaN   \n",
       "1                        NaN                    NaN                      NaN   \n",
       "2                        NaN                    NaN                      NaN   \n",
       "3                        NaN                    NaN                      NaN   \n",
       "4                        NaN                    NaN                      NaN   \n",
       "\n",
       "   topic_announcements  topic_market_movements  topic_legal_actions  ...  \\\n",
       "0                  NaN                     NaN                  NaN  ...   \n",
       "1                  NaN                     NaN                  NaN  ...   \n",
       "2                  NaN                     NaN                  NaN  ...   \n",
       "3                  NaN                     NaN                  NaN  ...   \n",
       "4                  NaN                     NaN                  NaN  ...   \n",
       "\n",
       "   NER_Russia  NER_Canada  NER_UK  NER_Trump  NER_ElonMusk  NER_JoeBiden  \\\n",
       "0         NaN         NaN     NaN        NaN           NaN           NaN   \n",
       "1         NaN         NaN     NaN        NaN           NaN           NaN   \n",
       "2         NaN         NaN     NaN        NaN           NaN           NaN   \n",
       "3         NaN         NaN     NaN        NaN           NaN           NaN   \n",
       "4         NaN         NaN     NaN        NaN           NaN           NaN   \n",
       "\n",
       "   NER_FED  NER_Ukraine  NER_Japan  return_forwarded  \n",
       "0      NaN          NaN        NaN          0.004980  \n",
       "1      NaN          NaN        NaN         -0.001296  \n",
       "2      NaN          NaN        NaN          0.010230  \n",
       "3      NaN          NaN        NaN         -0.001927  \n",
       "4      NaN          NaN        NaN          0.000189  \n",
       "\n",
       "[5 rows x 28 columns]"
      ]
     },
     "execution_count": 2,
     "metadata": {},
     "output_type": "execute_result"
    }
   ],
   "source": [
    "df = pd.read_parquet('data/dataset_features_return.parquet')\n",
    "df['timestamp'] = pd.to_datetime(df['timestamp'])\n",
    "print(df.shape)\n",
    "df.head()"
   ]
  },
  {
   "cell_type": "code",
   "execution_count": 3,
   "id": "c4a0b956",
   "metadata": {},
   "outputs": [
    {
     "data": {
      "image/png": "[encoded data removed]",
      "text/plain": [
       "<Figure size 600x400 with 1 Axes>"
      ]
     },
     "metadata": {},
     "output_type": "display_data"
    },
    {
     "name": "stdout",
     "output_type": "stream",
     "text": [
      "count    1.760167e+07\n",
      "mean     1.075740e-04\n",
      "std      1.721199e-02\n",
      "min     -9.303023e-01\n",
      "25%     -4.166961e-03\n",
      "50%      0.000000e+00\n",
      "75%      4.134938e-03\n",
      "max      8.385745e+00\n",
      "Name: return_forwarded, dtype: float64\n"
     ]
    }
   ],
   "source": [
    "# Plot distribution of returns\n",
    "plt.figure(figsize=(6, 4))\n",
    "df['return_forwarded'].hist(bins=100, range=(-0.1, 0.1)) # Adjust range and bins as needed\n",
    "plt.title('Distribution of Forwarded Returns')\n",
    "plt.xlabel('Return')\n",
    "plt.ylabel('Frequency')\n",
    "plt.grid(True)\n",
    "plt.show()\n",
    "\n",
    "print(df['return_forwarded'].describe())"
   ]
  },
  {
   "cell_type": "code",
   "execution_count": 4,
   "id": "b7c65c8b",
   "metadata": {},
   "outputs": [
    {
     "data": {
      "application/vnd.microsoft.datawrangler.viewer.v0+json": {
       "columns": [
        {
         "name": "index",
         "rawType": "int64",
         "type": "integer"
        },
        {
         "name": "timestamp",
         "rawType": "datetime64[ns]",
         "type": "datetime"
        },
        {
         "name": "ticker",
         "rawType": "object",
         "type": "string"
        },
        {
         "name": "news_count",
         "rawType": "float64",
         "type": "float"
        },
        {
         "name": "topic_announcements",
         "rawType": "float64",
         "type": "float"
        },
        {
         "name": "topic_market_movements",
         "rawType": "float64",
         "type": "float"
        },
        {
         "name": "topic_legal_actions",
         "rawType": "float64",
         "type": "float"
        },
        {
         "name": "topic_investment_sentiment",
         "rawType": "float64",
         "type": "float"
        },
        {
         "name": "topic_earnings",
         "rawType": "float64",
         "type": "float"
        },
        {
         "name": "topic_analyst_ratings",
         "rawType": "float64",
         "type": "float"
        },
        {
         "name": "topic_macro_econ",
         "rawType": "float64",
         "type": "float"
        },
        {
         "name": "topic_research_insights",
         "rawType": "float64",
         "type": "float"
        },
        {
         "name": "NER_US",
         "rawType": "float64",
         "type": "float"
        },
        {
         "name": "NER_China",
         "rawType": "float64",
         "type": "float"
        },
        {
         "name": "NER_India",
         "rawType": "float64",
         "type": "float"
        },
        {
         "name": "NER_Russia",
         "rawType": "float64",
         "type": "float"
        },
        {
         "name": "NER_Canada",
         "rawType": "float64",
         "type": "float"
        },
        {
         "name": "NER_UK",
         "rawType": "float64",
         "type": "float"
        },
        {
         "name": "NER_Trump",
         "rawType": "float64",
         "type": "float"
        },
        {
         "name": "NER_ElonMusk",
         "rawType": "float64",
         "type": "float"
        },
        {
         "name": "NER_JoeBiden",
         "rawType": "float64",
         "type": "float"
        },
        {
         "name": "NER_FED",
         "rawType": "float64",
         "type": "float"
        },
        {
         "name": "NER_Ukraine",
         "rawType": "float64",
         "type": "float"
        },
        {
         "name": "NER_Japan",
         "rawType": "float64",
         "type": "float"
        },
        {
         "name": "return_forwarded",
         "rawType": "float64",
         "type": "float"
        },
        {
         "name": "sentiment",
         "rawType": "float64",
         "type": "float"
        }
       ],
       "conversionMethod": "pd.DataFrame",
       "ref": "e84433c1-7de5-42e2-ab86-c2630c71fa6b",
       "rows": [
        [
         "0",
         "2022-03-01 09:00:00",
         "A",
         null,
         null,
         null,
         null,
         null,
         null,
         null,
         null,
         null,
         null,
         null,
         null,
         null,
         null,
         null,
         null,
         null,
         null,
         null,
         null,
         null,
         "0.004980343015551947",
         null
        ],
        [
         "1",
         "2022-03-01 10:00:00",
         "A",
         null,
         null,
         null,
         null,
         null,
         null,
         null,
         null,
         null,
         null,
         null,
         null,
         null,
         null,
         null,
         null,
         null,
         null,
         null,
         null,
         null,
         "-0.00129592860484129",
         null
        ],
        [
         "2",
         "2022-03-01 11:00:00",
         "A",
         null,
         null,
         null,
         null,
         null,
         null,
         null,
         null,
         null,
         null,
         null,
         null,
         null,
         null,
         null,
         null,
         null,
         null,
         null,
         null,
         null,
         "0.010229688698243589",
         null
        ],
        [
         "3",
         "2022-03-01 12:00:00",
         "A",
         null,
         null,
         null,
         null,
         null,
         null,
         null,
         null,
         null,
         null,
         null,
         null,
         null,
         null,
         null,
         null,
         null,
         null,
         null,
         null,
         null,
         "-0.0019270914496697378",
         null
        ],
        [
         "4",
         "2022-03-01 13:00:00",
         "A",
         null,
         null,
         null,
         null,
         null,
         null,
         null,
         null,
         null,
         null,
         null,
         null,
         null,
         null,
         null,
         null,
         null,
         null,
         null,
         null,
         null,
         "0.0001893711024336664",
         null
        ]
       ],
       "shape": {
        "columns": 25,
        "rows": 5
       }
      },
      "text/html": [
       "<div>\n",
       "<style scoped>\n",
       "    .dataframe tbody tr th:only-of-type {\n",
       "        vertical-align: middle;\n",
       "    }\n",
       "\n",
       "    .dataframe tbody tr th {\n",
       "        vertical-align: top;\n",
       "    }\n",
       "\n",
       "    .dataframe thead th {\n",
       "        text-align: right;\n",
       "    }\n",
       "</style>\n",
       "<table border=\"1\" class=\"dataframe\">\n",
       "  <thead>\n",
       "    <tr style=\"text-align: right;\">\n",
       "      <th></th>\n",
       "      <th>timestamp</th>\n",
       "      <th>ticker</th>\n",
       "      <th>news_count</th>\n",
       "      <th>topic_announcements</th>\n",
       "      <th>topic_market_movements</th>\n",
       "      <th>topic_legal_actions</th>\n",
       "      <th>topic_investment_sentiment</th>\n",
       "      <th>topic_earnings</th>\n",
       "      <th>topic_analyst_ratings</th>\n",
       "      <th>topic_macro_econ</th>\n",
       "      <th>...</th>\n",
       "      <th>NER_Canada</th>\n",
       "      <th>NER_UK</th>\n",
       "      <th>NER_Trump</th>\n",
       "      <th>NER_ElonMusk</th>\n",
       "      <th>NER_JoeBiden</th>\n",
       "      <th>NER_FED</th>\n",
       "      <th>NER_Ukraine</th>\n",
       "      <th>NER_Japan</th>\n",
       "      <th>return_forwarded</th>\n",
       "      <th>sentiment</th>\n",
       "    </tr>\n",
       "  </thead>\n",
       "  <tbody>\n",
       "    <tr>\n",
       "      <th>0</th>\n",
       "      <td>2022-03-01 09:00:00</td>\n",
       "      <td>A</td>\n",
       "      <td>NaN</td>\n",
       "      <td>NaN</td>\n",
       "      <td>NaN</td>\n",
       "      <td>NaN</td>\n",
       "      <td>NaN</td>\n",
       "      <td>NaN</td>\n",
       "      <td>NaN</td>\n",
       "      <td>NaN</td>\n",
       "      <td>...</td>\n",
       "      <td>NaN</td>\n",
       "      <td>NaN</td>\n",
       "      <td>NaN</td>\n",
       "      <td>NaN</td>\n",
       "      <td>NaN</td>\n",
       "      <td>NaN</td>\n",
       "      <td>NaN</td>\n",
       "      <td>NaN</td>\n",
       "      <td>0.004980</td>\n",
       "      <td>NaN</td>\n",
       "    </tr>\n",
       "    <tr>\n",
       "      <th>1</th>\n",
       "      <td>2022-03-01 10:00:00</td>\n",
       "      <td>A</td>\n",
       "      <td>NaN</td>\n",
       "      <td>NaN</td>\n",
       "      <td>NaN</td>\n",
       "      <td>NaN</td>\n",
       "      <td>NaN</td>\n",
       "      <td>NaN</td>\n",
       "      <td>NaN</td>\n",
       "      <td>NaN</td>\n",
       "      <td>...</td>\n",
       "      <td>NaN</td>\n",
       "      <td>NaN</td>\n",
       "      <td>NaN</td>\n",
       "      <td>NaN</td>\n",
       "      <td>NaN</td>\n",
       "      <td>NaN</td>\n",
       "      <td>NaN</td>\n",
       "      <td>NaN</td>\n",
       "      <td>-0.001296</td>\n",
       "      <td>NaN</td>\n",
       "    </tr>\n",
       "    <tr>\n",
       "      <th>2</th>\n",
       "      <td>2022-03-01 11:00:00</td>\n",
       "      <td>A</td>\n",
       "      <td>NaN</td>\n",
       "      <td>NaN</td>\n",
       "      <td>NaN</td>\n",
       "      <td>NaN</td>\n",
       "      <td>NaN</td>\n",
       "      <td>NaN</td>\n",
       "      <td>NaN</td>\n",
       "      <td>NaN</td>\n",
       "      <td>...</td>\n",
       "      <td>NaN</td>\n",
       "      <td>NaN</td>\n",
       "      <td>NaN</td>\n",
       "      <td>NaN</td>\n",
       "      <td>NaN</td>\n",
       "      <td>NaN</td>\n",
       "      <td>NaN</td>\n",
       "      <td>NaN</td>\n",
       "      <td>0.010230</td>\n",
       "      <td>NaN</td>\n",
       "    </tr>\n",
       "    <tr>\n",
       "      <th>3</th>\n",
       "      <td>2022-03-01 12:00:00</td>\n",
       "      <td>A</td>\n",
       "      <td>NaN</td>\n",
       "      <td>NaN</td>\n",
       "      <td>NaN</td>\n",
       "      <td>NaN</td>\n",
       "      <td>NaN</td>\n",
       "      <td>NaN</td>\n",
       "      <td>NaN</td>\n",
       "      <td>NaN</td>\n",
       "      <td>...</td>\n",
       "      <td>NaN</td>\n",
       "      <td>NaN</td>\n",
       "      <td>NaN</td>\n",
       "      <td>NaN</td>\n",
       "      <td>NaN</td>\n",
       "      <td>NaN</td>\n",
       "      <td>NaN</td>\n",
       "      <td>NaN</td>\n",
       "      <td>-0.001927</td>\n",
       "      <td>NaN</td>\n",
       "    </tr>\n",
       "    <tr>\n",
       "      <th>4</th>\n",
       "      <td>2022-03-01 13:00:00</td>\n",
       "      <td>A</td>\n",
       "      <td>NaN</td>\n",
       "      <td>NaN</td>\n",
       "      <td>NaN</td>\n",
       "      <td>NaN</td>\n",
       "      <td>NaN</td>\n",
       "      <td>NaN</td>\n",
       "      <td>NaN</td>\n",
       "      <td>NaN</td>\n",
       "      <td>...</td>\n",
       "      <td>NaN</td>\n",
       "      <td>NaN</td>\n",
       "      <td>NaN</td>\n",
       "      <td>NaN</td>\n",
       "      <td>NaN</td>\n",
       "      <td>NaN</td>\n",
       "      <td>NaN</td>\n",
       "      <td>NaN</td>\n",
       "      <td>0.000189</td>\n",
       "      <td>NaN</td>\n",
       "    </tr>\n",
       "  </tbody>\n",
       "</table>\n",
       "<p>5 rows × 25 columns</p>\n",
       "</div>"
      ],
      "text/plain": [
       "            timestamp ticker  news_count  topic_announcements  \\\n",
       "0 2022-03-01 09:00:00      A         NaN                  NaN   \n",
       "1 2022-03-01 10:00:00      A         NaN                  NaN   \n",
       "2 2022-03-01 11:00:00      A         NaN                  NaN   \n",
       "3 2022-03-01 12:00:00      A         NaN                  NaN   \n",
       "4 2022-03-01 13:00:00      A         NaN                  NaN   \n",
       "\n",
       "   topic_market_movements  topic_legal_actions  topic_investment_sentiment  \\\n",
       "0                     NaN                  NaN                         NaN   \n",
       "1                     NaN                  NaN                         NaN   \n",
       "2                     NaN                  NaN                         NaN   \n",
       "3                     NaN                  NaN                         NaN   \n",
       "4                     NaN                  NaN                         NaN   \n",
       "\n",
       "   topic_earnings  topic_analyst_ratings  topic_macro_econ  ...  NER_Canada  \\\n",
       "0             NaN                    NaN               NaN  ...         NaN   \n",
       "1             NaN                    NaN               NaN  ...         NaN   \n",
       "2             NaN                    NaN               NaN  ...         NaN   \n",
       "3             NaN                    NaN               NaN  ...         NaN   \n",
       "4             NaN                    NaN               NaN  ...         NaN   \n",
       "\n",
       "   NER_UK  NER_Trump  NER_ElonMusk  NER_JoeBiden  NER_FED  NER_Ukraine  \\\n",
       "0     NaN        NaN           NaN           NaN      NaN          NaN   \n",
       "1     NaN        NaN           NaN           NaN      NaN          NaN   \n",
       "2     NaN        NaN           NaN           NaN      NaN          NaN   \n",
       "3     NaN        NaN           NaN           NaN      NaN          NaN   \n",
       "4     NaN        NaN           NaN           NaN      NaN          NaN   \n",
       "\n",
       "   NER_Japan  return_forwarded  sentiment  \n",
       "0        NaN          0.004980        NaN  \n",
       "1        NaN         -0.001296        NaN  \n",
       "2        NaN          0.010230        NaN  \n",
       "3        NaN         -0.001927        NaN  \n",
       "4        NaN          0.000189        NaN  \n",
       "\n",
       "[5 rows x 25 columns]"
      ]
     },
     "execution_count": 4,
     "metadata": {},
     "output_type": "execute_result"
    }
   ],
   "source": [
    "# Take average of sentiment columns\n",
    "\n",
    "sentiment_cols = ['title_sentiment_finbert', 'summary_sentiment_finbert', 'title_sentiment_vader', 'summary_sentiment_vader']\n",
    "df['sentiment'] = df[sentiment_cols].mean(axis=1)\n",
    "df.drop(columns=sentiment_cols, inplace=True)\n",
    "\n",
    "df.head()"
   ]
  },
  {
   "cell_type": "code",
   "execution_count": 5,
   "id": "966b9264",
   "metadata": {},
   "outputs": [
    {
     "data": {
      "image/png": "[encoded data removed]",
      "text/plain": [
       "<Figure size 600x400 with 1 Axes>"
      ]
     },
     "metadata": {},
     "output_type": "display_data"
    },
    {
     "name": "stdout",
     "output_type": "stream",
     "text": [
      "count    457470.000000\n",
      "mean          0.228052\n",
      "std           0.314153\n",
      "min          -0.972733\n",
      "25%           0.040778\n",
      "50%           0.209276\n",
      "75%           0.427021\n",
      "max           0.981125\n",
      "Name: sentiment, dtype: float64\n"
     ]
    }
   ],
   "source": [
    "# Plot distribution of the calculated sentiment score\n",
    "plt.figure(figsize=(6, 4))\n",
    "df['sentiment'].hist(bins=100)\n",
    "plt.title('Distribution of Average Sentiment Score')\n",
    "plt.xlabel('Sentiment Score')\n",
    "plt.ylabel('Frequency')\n",
    "plt.grid(True)\n",
    "plt.show()\n",
    "\n",
    "print(df['sentiment'].describe())"
   ]
  },
  {
   "cell_type": "code",
   "execution_count": 6,
   "id": "d4fe0afc",
   "metadata": {},
   "outputs": [
    {
     "data": {
      "image/png": "[encoded data removed]",
      "text/plain": [
       "<Figure size 600x400 with 1 Axes>"
      ]
     },
     "metadata": {},
     "output_type": "display_data"
    }
   ],
   "source": [
    "# Apply EWM smoothing to the sentiment score\n",
    "df['sentiment_ewm'] = df.groupby('ticker')['sentiment'].transform(lambda x: x.ewm(span=24, min_periods=1).mean())\n",
    "\n",
    "# Plot distribution of the EWM sentiment score\n",
    "plt.figure(figsize=(6, 4))\n",
    "df['sentiment_ewm'].hist(bins=100)\n",
    "plt.title('Distribution of EWM Sentiment Score (span=24)')\n",
    "plt.xlabel('EWM Sentiment Score')\n",
    "plt.ylabel('Frequency')\n",
    "plt.grid(True)\n",
    "plt.show()"
   ]
  },
  {
   "cell_type": "markdown",
   "id": "879d4015",
   "metadata": {},
   "source": [
    "### Calculate Returns"
   ]
  },
  {
   "cell_type": "code",
   "execution_count": 7,
   "id": "5a38e239",
   "metadata": {},
   "outputs": [
    {
     "data": {
      "application/vnd.microsoft.datawrangler.viewer.v0+json": {
       "columns": [
        {
         "name": "index",
         "rawType": "int64",
         "type": "integer"
        },
        {
         "name": "timestamp",
         "rawType": "datetime64[ns]",
         "type": "datetime"
        },
        {
         "name": "ticker",
         "rawType": "object",
         "type": "string"
        },
        {
         "name": "news_count",
         "rawType": "float64",
         "type": "float"
        },
        {
         "name": "topic_announcements",
         "rawType": "float64",
         "type": "float"
        },
        {
         "name": "topic_market_movements",
         "rawType": "float64",
         "type": "float"
        },
        {
         "name": "topic_legal_actions",
         "rawType": "float64",
         "type": "float"
        },
        {
         "name": "topic_investment_sentiment",
         "rawType": "float64",
         "type": "float"
        },
        {
         "name": "topic_earnings",
         "rawType": "float64",
         "type": "float"
        },
        {
         "name": "topic_analyst_ratings",
         "rawType": "float64",
         "type": "float"
        },
        {
         "name": "topic_macro_econ",
         "rawType": "float64",
         "type": "float"
        },
        {
         "name": "topic_research_insights",
         "rawType": "float64",
         "type": "float"
        },
        {
         "name": "NER_US",
         "rawType": "float64",
         "type": "float"
        },
        {
         "name": "NER_China",
         "rawType": "float64",
         "type": "float"
        },
        {
         "name": "NER_India",
         "rawType": "float64",
         "type": "float"
        },
        {
         "name": "NER_Russia",
         "rawType": "float64",
         "type": "float"
        },
        {
         "name": "NER_Canada",
         "rawType": "float64",
         "type": "float"
        },
        {
         "name": "NER_UK",
         "rawType": "float64",
         "type": "float"
        },
        {
         "name": "NER_Trump",
         "rawType": "float64",
         "type": "float"
        },
        {
         "name": "NER_ElonMusk",
         "rawType": "float64",
         "type": "float"
        },
        {
         "name": "NER_JoeBiden",
         "rawType": "float64",
         "type": "float"
        },
        {
         "name": "NER_FED",
         "rawType": "float64",
         "type": "float"
        },
        {
         "name": "NER_Ukraine",
         "rawType": "float64",
         "type": "float"
        },
        {
         "name": "NER_Japan",
         "rawType": "float64",
         "type": "float"
        },
        {
         "name": "return_forwarded",
         "rawType": "float64",
         "type": "float"
        },
        {
         "name": "sentiment",
         "rawType": "float64",
         "type": "float"
        },
        {
         "name": "sentiment_ewm",
         "rawType": "float64",
         "type": "float"
        },
        {
         "name": "strategy_return",
         "rawType": "float64",
         "type": "float"
        }
       ],
       "conversionMethod": "pd.DataFrame",
       "ref": "c873f55b-a3ce-4e83-86e6-fd3f821e11e0",
       "rows": [
        [
         "0",
         "2022-03-01 09:00:00",
         "A",
         null,
         null,
         null,
         null,
         null,
         null,
         null,
         null,
         null,
         null,
         null,
         null,
         null,
         null,
         null,
         null,
         null,
         null,
         null,
         null,
         null,
         "0.004980343015551947",
         null,
         null,
         null
        ],
        [
         "1",
         "2022-03-01 10:00:00",
         "A",
         null,
         null,
         null,
         null,
         null,
         null,
         null,
         null,
         null,
         null,
         null,
         null,
         null,
         null,
         null,
         null,
         null,
         null,
         null,
         null,
         null,
         "-0.00129592860484129",
         null,
         null,
         null
        ],
        [
         "2",
         "2022-03-01 11:00:00",
         "A",
         null,
         null,
         null,
         null,
         null,
         null,
         null,
         null,
         null,
         null,
         null,
         null,
         null,
         null,
         null,
         null,
         null,
         null,
         null,
         null,
         null,
         "0.010229688698243589",
         null,
         null,
         null
        ],
        [
         "3",
         "2022-03-01 12:00:00",
         "A",
         null,
         null,
         null,
         null,
         null,
         null,
         null,
         null,
         null,
         null,
         null,
         null,
         null,
         null,
         null,
         null,
         null,
         null,
         null,
         null,
         null,
         "-0.0019270914496697378",
         null,
         null,
         null
        ],
        [
         "4",
         "2022-03-01 13:00:00",
         "A",
         null,
         null,
         null,
         null,
         null,
         null,
         null,
         null,
         null,
         null,
         null,
         null,
         null,
         null,
         null,
         null,
         null,
         null,
         null,
         null,
         null,
         "0.0001893711024336664",
         null,
         null,
         null
        ]
       ],
       "shape": {
        "columns": 27,
        "rows": 5
       }
      },
      "text/html": [
       "<div>\n",
       "<style scoped>\n",
       "    .dataframe tbody tr th:only-of-type {\n",
       "        vertical-align: middle;\n",
       "    }\n",
       "\n",
       "    .dataframe tbody tr th {\n",
       "        vertical-align: top;\n",
       "    }\n",
       "\n",
       "    .dataframe thead th {\n",
       "        text-align: right;\n",
       "    }\n",
       "</style>\n",
       "<table border=\"1\" class=\"dataframe\">\n",
       "  <thead>\n",
       "    <tr style=\"text-align: right;\">\n",
       "      <th></th>\n",
       "      <th>timestamp</th>\n",
       "      <th>ticker</th>\n",
       "      <th>news_count</th>\n",
       "      <th>topic_announcements</th>\n",
       "      <th>topic_market_movements</th>\n",
       "      <th>topic_legal_actions</th>\n",
       "      <th>topic_investment_sentiment</th>\n",
       "      <th>topic_earnings</th>\n",
       "      <th>topic_analyst_ratings</th>\n",
       "      <th>topic_macro_econ</th>\n",
       "      <th>...</th>\n",
       "      <th>NER_Trump</th>\n",
       "      <th>NER_ElonMusk</th>\n",
       "      <th>NER_JoeBiden</th>\n",
       "      <th>NER_FED</th>\n",
       "      <th>NER_Ukraine</th>\n",
       "      <th>NER_Japan</th>\n",
       "      <th>return_forwarded</th>\n",
       "      <th>sentiment</th>\n",
       "      <th>sentiment_ewm</th>\n",
       "      <th>strategy_return</th>\n",
       "    </tr>\n",
       "  </thead>\n",
       "  <tbody>\n",
       "    <tr>\n",
       "      <th>0</th>\n",
       "      <td>2022-03-01 09:00:00</td>\n",
       "      <td>A</td>\n",
       "      <td>NaN</td>\n",
       "      <td>NaN</td>\n",
       "      <td>NaN</td>\n",
       "      <td>NaN</td>\n",
       "      <td>NaN</td>\n",
       "      <td>NaN</td>\n",
       "      <td>NaN</td>\n",
       "      <td>NaN</td>\n",
       "      <td>...</td>\n",
       "      <td>NaN</td>\n",
       "      <td>NaN</td>\n",
       "      <td>NaN</td>\n",
       "      <td>NaN</td>\n",
       "      <td>NaN</td>\n",
       "      <td>NaN</td>\n",
       "      <td>0.004980</td>\n",
       "      <td>NaN</td>\n",
       "      <td>NaN</td>\n",
       "      <td>NaN</td>\n",
       "    </tr>\n",
       "    <tr>\n",
       "      <th>1</th>\n",
       "      <td>2022-03-01 10:00:00</td>\n",
       "      <td>A</td>\n",
       "      <td>NaN</td>\n",
       "      <td>NaN</td>\n",
       "      <td>NaN</td>\n",
       "      <td>NaN</td>\n",
       "      <td>NaN</td>\n",
       "      <td>NaN</td>\n",
       "      <td>NaN</td>\n",
       "      <td>NaN</td>\n",
       "      <td>...</td>\n",
       "      <td>NaN</td>\n",
       "      <td>NaN</td>\n",
       "      <td>NaN</td>\n",
       "      <td>NaN</td>\n",
       "      <td>NaN</td>\n",
       "      <td>NaN</td>\n",
       "      <td>-0.001296</td>\n",
       "      <td>NaN</td>\n",
       "      <td>NaN</td>\n",
       "      <td>NaN</td>\n",
       "    </tr>\n",
       "    <tr>\n",
       "      <th>2</th>\n",
       "      <td>2022-03-01 11:00:00</td>\n",
       "      <td>A</td>\n",
       "      <td>NaN</td>\n",
       "      <td>NaN</td>\n",
       "      <td>NaN</td>\n",
       "      <td>NaN</td>\n",
       "      <td>NaN</td>\n",
       "      <td>NaN</td>\n",
       "      <td>NaN</td>\n",
       "      <td>NaN</td>\n",
       "      <td>...</td>\n",
       "      <td>NaN</td>\n",
       "      <td>NaN</td>\n",
       "      <td>NaN</td>\n",
       "      <td>NaN</td>\n",
       "      <td>NaN</td>\n",
       "      <td>NaN</td>\n",
       "      <td>0.010230</td>\n",
       "      <td>NaN</td>\n",
       "      <td>NaN</td>\n",
       "      <td>NaN</td>\n",
       "    </tr>\n",
       "    <tr>\n",
       "      <th>3</th>\n",
       "      <td>2022-03-01 12:00:00</td>\n",
       "      <td>A</td>\n",
       "      <td>NaN</td>\n",
       "      <td>NaN</td>\n",
       "      <td>NaN</td>\n",
       "      <td>NaN</td>\n",
       "      <td>NaN</td>\n",
       "      <td>NaN</td>\n",
       "      <td>NaN</td>\n",
       "      <td>NaN</td>\n",
       "      <td>...</td>\n",
       "      <td>NaN</td>\n",
       "      <td>NaN</td>\n",
       "      <td>NaN</td>\n",
       "      <td>NaN</td>\n",
       "      <td>NaN</td>\n",
       "      <td>NaN</td>\n",
       "      <td>-0.001927</td>\n",
       "      <td>NaN</td>\n",
       "      <td>NaN</td>\n",
       "      <td>NaN</td>\n",
       "    </tr>\n",
       "    <tr>\n",
       "      <th>4</th>\n",
       "      <td>2022-03-01 13:00:00</td>\n",
       "      <td>A</td>\n",
       "      <td>NaN</td>\n",
       "      <td>NaN</td>\n",
       "      <td>NaN</td>\n",
       "      <td>NaN</td>\n",
       "      <td>NaN</td>\n",
       "      <td>NaN</td>\n",
       "      <td>NaN</td>\n",
       "      <td>NaN</td>\n",
       "      <td>...</td>\n",
       "      <td>NaN</td>\n",
       "      <td>NaN</td>\n",
       "      <td>NaN</td>\n",
       "      <td>NaN</td>\n",
       "      <td>NaN</td>\n",
       "      <td>NaN</td>\n",
       "      <td>0.000189</td>\n",
       "      <td>NaN</td>\n",
       "      <td>NaN</td>\n",
       "      <td>NaN</td>\n",
       "    </tr>\n",
       "  </tbody>\n",
       "</table>\n",
       "<p>5 rows × 27 columns</p>\n",
       "</div>"
      ],
      "text/plain": [
       "            timestamp ticker  news_count  topic_announcements  \\\n",
       "0 2022-03-01 09:00:00      A         NaN                  NaN   \n",
       "1 2022-03-01 10:00:00      A         NaN                  NaN   \n",
       "2 2022-03-01 11:00:00      A         NaN                  NaN   \n",
       "3 2022-03-01 12:00:00      A         NaN                  NaN   \n",
       "4 2022-03-01 13:00:00      A         NaN                  NaN   \n",
       "\n",
       "   topic_market_movements  topic_legal_actions  topic_investment_sentiment  \\\n",
       "0                     NaN                  NaN                         NaN   \n",
       "1                     NaN                  NaN                         NaN   \n",
       "2                     NaN                  NaN                         NaN   \n",
       "3                     NaN                  NaN                         NaN   \n",
       "4                     NaN                  NaN                         NaN   \n",
       "\n",
       "   topic_earnings  topic_analyst_ratings  topic_macro_econ  ...  NER_Trump  \\\n",
       "0             NaN                    NaN               NaN  ...        NaN   \n",
       "1             NaN                    NaN               NaN  ...        NaN   \n",
       "2             NaN                    NaN               NaN  ...        NaN   \n",
       "3             NaN                    NaN               NaN  ...        NaN   \n",
       "4             NaN                    NaN               NaN  ...        NaN   \n",
       "\n",
       "   NER_ElonMusk  NER_JoeBiden  NER_FED  NER_Ukraine  NER_Japan  \\\n",
       "0           NaN           NaN      NaN          NaN        NaN   \n",
       "1           NaN           NaN      NaN          NaN        NaN   \n",
       "2           NaN           NaN      NaN          NaN        NaN   \n",
       "3           NaN           NaN      NaN          NaN        NaN   \n",
       "4           NaN           NaN      NaN          NaN        NaN   \n",
       "\n",
       "   return_forwarded  sentiment  sentiment_ewm  strategy_return  \n",
       "0          0.004980        NaN            NaN              NaN  \n",
       "1         -0.001296        NaN            NaN              NaN  \n",
       "2          0.010230        NaN            NaN              NaN  \n",
       "3         -0.001927        NaN            NaN              NaN  \n",
       "4          0.000189        NaN            NaN              NaN  \n",
       "\n",
       "[5 rows x 27 columns]"
      ]
     },
     "execution_count": 7,
     "metadata": {},
     "output_type": "execute_result"
    }
   ],
   "source": [
    "# Positive sentiment_ewm -> long\n",
    "# Negative sentiment_ewm -> short\n",
    "\n",
    "df['strategy_return'] = df['return_forwarded'] * df['sentiment_ewm']\n",
    "\n",
    "df.head()"
   ]
  },
  {
   "cell_type": "code",
   "execution_count": 8,
   "id": "f6d0d1e1",
   "metadata": {},
   "outputs": [],
   "source": [
    "# Get returns per ticker\n",
    "strategy_returns_pivot = df.pivot(index='timestamp', columns='ticker', values='strategy_return')\n",
    "\n",
    "# Pivot the sentiment scores to calculate total weight per timestamp\n",
    "sentiment_ewm_pivot = df.pivot(index='timestamp', columns='ticker', values='sentiment_ewm')\n",
    "\n",
    "# Calculate the sum of abs weights for each timestamp\n",
    "total_weights = sentiment_ewm_pivot.abs().sum(axis=1)\n",
    "\n",
    "# Calculate the sum of weighted returns for each timestamp\n",
    "total_weighted_returns = strategy_returns_pivot.sum(axis=1)\n",
    "\n",
    "# Calculate the equal-weighted portfolio return for each timestamp\n",
    "# Normalizes the return based on the total capital allocated\n",
    "portfolio_return = total_weighted_returns / total_weights\n",
    "\n",
    "# Handle division by zero\n",
    "portfolio_return.replace([np.inf, -np.inf], 0, inplace=True)\n",
    "portfolio_return.fillna(0, inplace=True)"
   ]
  },
  {
   "cell_type": "code",
   "execution_count": 9,
   "id": "23f51b0a",
   "metadata": {},
   "outputs": [
    {
     "data": {
      "text/plain": [
       "timestamp\n",
       "2022-03-01 04:00:00    0.000000\n",
       "2022-03-01 05:00:00    0.000000\n",
       "2022-03-01 06:00:00    0.000000\n",
       "2022-03-01 07:00:00    0.000000\n",
       "2022-03-01 08:00:00    0.005558\n",
       "2022-03-01 09:00:00   -0.002968\n",
       "2022-03-01 10:00:00    0.000779\n",
       "2022-03-01 11:00:00    0.002722\n",
       "2022-03-01 12:00:00   -0.002509\n",
       "2022-03-01 13:00:00    0.002606\n",
       "dtype: float64"
      ]
     },
     "execution_count": 9,
     "metadata": {},
     "output_type": "execute_result"
    }
   ],
   "source": [
    "portfolio_return.head(10)"
   ]
  },
  {
   "cell_type": "code",
   "execution_count": 10,
   "id": "ecd8755a",
   "metadata": {},
   "outputs": [
    {
     "data": {
      "text/plain": [
       "timestamp\n",
       "2022-03-01 04:00:00    0.000000\n",
       "2022-03-01 05:00:00    0.000000\n",
       "2022-03-01 06:00:00    0.000000\n",
       "2022-03-01 07:00:00    0.000000\n",
       "2022-03-01 08:00:00    1.170329\n",
       "2022-03-01 09:00:00    1.170329\n",
       "2022-03-01 10:00:00    2.141681\n",
       "2022-03-01 11:00:00    2.481753\n",
       "2022-03-01 12:00:00    2.240257\n",
       "2022-03-01 13:00:00    2.989087\n",
       "dtype: float64"
      ]
     },
     "execution_count": 10,
     "metadata": {},
     "output_type": "execute_result"
    }
   ],
   "source": [
    "total_weights.head(10)"
   ]
  },
  {
   "cell_type": "code",
   "execution_count": 11,
   "id": "1f29a4fe",
   "metadata": {},
   "outputs": [
    {
     "data": {
      "image/png": "[encoded data removed]",
      "text/plain": [
       "<Figure size 1200x600 with 1 Axes>"
      ]
     },
     "metadata": {},
     "output_type": "display_data"
    }
   ],
   "source": [
    "# Plot total_weights over time\n",
    "plt.figure(figsize=(12, 6))\n",
    "plt.plot(total_weights.index, total_weights.values, label='Total Weights', color='blue')\n",
    "plt.title('Total Weights Over Time')\n",
    "plt.xlabel('Timestamp')\n",
    "plt.ylabel('Total Weights')\n",
    "plt.grid(True)\n",
    "plt.legend()\n",
    "plt.show()"
   ]
  },
  {
   "cell_type": "code",
   "execution_count": 12,
   "id": "4b9ecf05",
   "metadata": {},
   "outputs": [
    {
     "data": {
      "image/png": "[encoded data removed]",
      "text/plain": [
       "<Figure size 1200x600 with 1 Axes>"
      ]
     },
     "metadata": {},
     "output_type": "display_data"
    }
   ],
   "source": [
    "net_weights = sentiment_ewm_pivot.sum(axis=1)\n",
    "net_weights\n",
    "\n",
    "# plot net_weights over time\n",
    "plt.figure(figsize=(12, 6))\n",
    "plt.plot(net_weights.index, net_weights.values, label='Net Weights', color='blue')\n",
    "plt.title('Net Weights Over Time')\n",
    "plt.xlabel('Timestamp')\n",
    "plt.ylabel('Net Weights')\n",
    "plt.grid(True)\n",
    "plt.legend()\n",
    "plt.show()"
   ]
  },
  {
   "cell_type": "markdown",
   "id": "7aa85f05",
   "metadata": {},
   "source": [
    "### Plot Cumulative Returns"
   ]
  },
  {
   "cell_type": "code",
   "execution_count": 13,
   "id": "bb5b81f9",
   "metadata": {},
   "outputs": [
    {
     "data": {
      "image/png": "[encoded data removed]",
      "text/plain": [
       "<Figure size 1200x600 with 1 Axes>"
      ]
     },
     "metadata": {},
     "output_type": "display_data"
    }
   ],
   "source": [
    "# Calculate cumulative returns\n",
    "cumulative_returns = (1 + portfolio_return).cumprod()\n",
    "\n",
    "# Plot cumulative returns\n",
    "plt.figure(figsize=(12, 6))\n",
    "cumulative_returns.plot(label='Strategy Cumulative Return')\n",
    "plt.title('Portfolio Cumulative Returns Over Time')\n",
    "plt.xlabel('Timestamp')\n",
    "plt.ylabel('Cumulative Return (1 = Initial Capital)')\n",
    "plt.grid(True)"
   ]
  },
  {
   "cell_type": "markdown",
   "id": "a1335898",
   "metadata": {},
   "source": [
    "### Calculate Financial Metrics"
   ]
  },
  {
   "cell_type": "code",
   "execution_count": 14,
   "id": "8586f584",
   "metadata": {},
   "outputs": [],
   "source": [
    "# Get first day and last day of backtesting\n",
    "first_day = cumulative_returns.index[0]\n",
    "last_day = cumulative_returns.index[-1]"
   ]
  },
  {
   "cell_type": "code",
   "execution_count": 15,
   "id": "0a584913",
   "metadata": {},
   "outputs": [
    {
     "name": "stdout",
     "output_type": "stream",
     "text": [
      "Backtesting results from 2022-03-01 04:00:00 to 2025-01-31 19:00:00\n",
      "--------------\n",
      "Overall Annual Sharpe Ratio: 1.8825915697285065\n",
      "--------------\n",
      "Yearly Sharpe Ratio\n",
      "timestamp\n",
      "2022   -0.646025\n",
      "2023    2.900934\n",
      "2024    4.267531\n",
      "2025    1.289532\n",
      "dtype: float64\n",
      "--------------\n",
      "Yearly Return (%)\n",
      "timestamp\n",
      "2022    -21.681210\n",
      "2023    111.284160\n",
      "2024    204.739923\n",
      "2025      3.070632\n",
      "dtype: float64\n",
      "--------------\n",
      "Monthly Return (%)\n",
      "timestamp\n",
      "2022-03    10.413206\n",
      "2022-04    -8.937537\n",
      "2022-05    -6.372750\n",
      "2022-06   -10.269787\n",
      "2022-07     1.173489\n",
      "2022-08    -1.803026\n",
      "2022-09   -14.915787\n",
      "2022-10    13.482999\n",
      "2022-11     2.813889\n",
      "2022-12    -5.991272\n",
      "2023-01    16.718338\n",
      "2023-02    -5.358053\n",
      "2023-03    -5.299190\n",
      "2023-04    -1.909487\n",
      "2023-05     2.340160\n",
      "2023-06    18.499305\n",
      "2023-07    14.942575\n",
      "2023-08     2.089721\n",
      "2023-09     3.878648\n",
      "2023-10    -6.228961\n",
      "2023-11    21.510200\n",
      "2023-12    22.244941\n",
      "2024-01     4.909106\n",
      "2024-02    10.090738\n",
      "2024-03    10.686813\n",
      "2024-04    -2.337936\n",
      "2024-05    14.506252\n",
      "2024-06     2.598511\n",
      "2024-07    21.405179\n",
      "2024-08     8.548734\n",
      "2024-09    14.232955\n",
      "2024-10    11.698124\n",
      "2024-11    24.965177\n",
      "2024-12    -1.125324\n",
      "2025-01     3.070632\n",
      "Freq: M, dtype: float64\n"
     ]
    }
   ],
   "source": [
    "print(\"Backtesting results from \" + str(first_day) + \" to \" + str(last_day))\n",
    "print(\"--------------\")\n",
    "trading_hours_per_year = 252 * 7\n",
    "print(\"Overall Annual Sharpe Ratio: \" + str(np.sqrt(trading_hours_per_year) * portfolio_return.mean() / portfolio_return.std()))\n",
    "print(\"--------------\")\n",
    "print(\"Yearly Sharpe Ratio\")\n",
    "print(np.sqrt(trading_hours_per_year) * portfolio_return.groupby(portfolio_return.index.year).mean() / portfolio_return.groupby(portfolio_return.index.year).std())\n",
    "print(\"--------------\")\n",
    "print(\"Yearly Return (%)\")\n",
    "print(((portfolio_return+1).groupby(portfolio_return.index.year).prod() -1)*100)\n",
    "print(\"--------------\")\n",
    "print(\"Monthly Return (%)\")\n",
    "print(((portfolio_return+1).groupby(portfolio_return.index.to_period('M')).prod() -1)*100)"
   ]
  }
 ],
 "metadata": {
  "kernelspec": {
   "display_name": "Python 3",
   "language": "python",
   "name": "python3"
  },
  "language_info": {
   "codemirror_mode": {
    "name": "ipython",
    "version": 3
   },
   "file_extension": ".py",
   "mimetype": "text/x-python",
   "name": "python",
   "nbconvert_exporter": "python",
   "pygments_lexer": "ipython3",
   "version": "3.12.9"
  }
 },
 "nbformat": 4,
 "nbformat_minor": 5
}
