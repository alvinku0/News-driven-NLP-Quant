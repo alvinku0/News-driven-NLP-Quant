{
 "cells": [
  {
   "cell_type": "code",
   "execution_count": 1,
   "metadata": {},
   "outputs": [
    {
     "name": "stderr",
     "output_type": "stream",
     "text": [
      "c:\\Users\\phku0\\AppData\\Local\\Programs\\Python\\Python312\\Lib\\site-packages\\tqdm\\auto.py:21: TqdmWarning: IProgress not found. Please update jupyter and ipywidgets. See https://ipywidgets.readthedocs.io/en/stable/user_install.html\n",
      "  from .autonotebook import tqdm as notebook_tqdm\n"
     ]
    }
   ],
   "source": [
    "import pandas as pd\n",
    "from vaderSentiment.vaderSentiment import SentimentIntensityAnalyzer\n",
    "import swifter\n",
    "from transformers import pipeline\n",
    "from datasets import Dataset, DatasetDict"
   ]
  },
  {
   "cell_type": "code",
   "execution_count": null,
   "metadata": {},
   "outputs": [
    {
     "name": "stdout",
     "output_type": "stream",
     "text": [
      "(1904666, 5)\n"
     ]
    },
    {
     "data": {
      "application/vnd.microsoft.datawrangler.viewer.v0+json": {
       "columns": [
        {
         "name": "newsID",
         "rawType": "int64",
         "type": "integer"
        },
        {
         "name": "title",
         "rawType": "object",
         "type": "string"
        },
        {
         "name": "summary",
         "rawType": "object",
         "type": "string"
        },
        {
         "name": "time_published",
         "rawType": "datetime64[ns]",
         "type": "datetime"
        },
        {
         "name": "authors",
         "rawType": "object",
         "type": "unknown"
        },
        {
         "name": "source",
         "rawType": "object",
         "type": "string"
        }
       ],
       "conversionMethod": "pd.DataFrame",
       "ref": "d2267479-cc84-4c41-ab8d-33f102d50269",
       "rows": [
        [
         "1",
         "Oil prices could determine how markets react to Russia's Ukraine invasion",
         "The heavy new round of sanctions on Russia by the U.S. and its allies are likely to push oil prices - and inflation - even higher.",
         "2022-03-01 00:02:02",
         "['Patti Domm']",
         "CNBC"
        ],
        [
         "2",
         "Zoom provides disappointing revenue forecast for first quarter and full year",
         "Zoom's revenue growth is continuing to slow after its business surged during the first year of the Covid-19 pandemic.",
         "2022-03-01 00:15:56",
         "['Jordan Novet']",
         "CNBC"
        ],
        [
         "3",
         "Wall Street rallies as West hits Russia with new sanctions",
         "The SP 500 rose more than 1%, ending a four-day slide amid worries over the escalating crisis. The Dow also ended in positive territory.",
         "2022-03-01 00:46:51",
         "[]",
         "Money Control"
        ],
        [
         "4",
         "Weak manufacturing drags down Q3 GDP growth, oil inflation casts a shadow on future growth - ETCFO",
         "India's economy grew 5.4% in the three months ended December, a shade lower by about 30-40 basis points expected.",
         "2022-03-01 02:23:00",
         "['www.ETCFO.com']",
         "Economic Times"
        ],
        [
         "5",
         "Singapore banks halt lending for Russian goods; Japan imposes more sanctions",
         "Singapore's biggest banks are restricting trade financing for Russian raw materials, as the war in Ukraine spurs lenders in Asia's largest energy and commodities trading hub to reduce exposure to the sanction-hit country.The limits include a halt on issuing so-called letters of credit in US dollars ",
         "2022-03-01 02:30:56",
         "['Bloomberg']",
         "South China Morning Post"
        ]
       ],
       "shape": {
        "columns": 5,
        "rows": 5
       }
      },
      "text/html": [
       "<div>\n",
       "<style scoped>\n",
       "    .dataframe tbody tr th:only-of-type {\n",
       "        vertical-align: middle;\n",
       "    }\n",
       "\n",
       "    .dataframe tbody tr th {\n",
       "        vertical-align: top;\n",
       "    }\n",
       "\n",
       "    .dataframe thead th {\n",
       "        text-align: right;\n",
       "    }\n",
       "</style>\n",
       "<table border=\"1\" class=\"dataframe\">\n",
       "  <thead>\n",
       "    <tr style=\"text-align: right;\">\n",
       "      <th></th>\n",
       "      <th>title</th>\n",
       "      <th>summary</th>\n",
       "      <th>time_published</th>\n",
       "      <th>authors</th>\n",
       "      <th>source</th>\n",
       "    </tr>\n",
       "    <tr>\n",
       "      <th>newsID</th>\n",
       "      <th></th>\n",
       "      <th></th>\n",
       "      <th></th>\n",
       "      <th></th>\n",
       "      <th></th>\n",
       "    </tr>\n",
       "  </thead>\n",
       "  <tbody>\n",
       "    <tr>\n",
       "      <th>1</th>\n",
       "      <td>Oil prices could determine how markets react t...</td>\n",
       "      <td>The heavy new round of sanctions on Russia by ...</td>\n",
       "      <td>2022-03-01 00:02:02</td>\n",
       "      <td>[Patti Domm]</td>\n",
       "      <td>CNBC</td>\n",
       "    </tr>\n",
       "    <tr>\n",
       "      <th>2</th>\n",
       "      <td>Zoom provides disappointing revenue forecast f...</td>\n",
       "      <td>Zoom's revenue growth is continuing to slow af...</td>\n",
       "      <td>2022-03-01 00:15:56</td>\n",
       "      <td>[Jordan Novet]</td>\n",
       "      <td>CNBC</td>\n",
       "    </tr>\n",
       "    <tr>\n",
       "      <th>3</th>\n",
       "      <td>Wall Street rallies as West hits Russia with n...</td>\n",
       "      <td>The SP 500 rose more than 1%, ending a four-da...</td>\n",
       "      <td>2022-03-01 00:46:51</td>\n",
       "      <td>[]</td>\n",
       "      <td>Money Control</td>\n",
       "    </tr>\n",
       "    <tr>\n",
       "      <th>4</th>\n",
       "      <td>Weak manufacturing drags down Q3 GDP growth, o...</td>\n",
       "      <td>India's economy grew 5.4% in the three months ...</td>\n",
       "      <td>2022-03-01 02:23:00</td>\n",
       "      <td>[www.ETCFO.com]</td>\n",
       "      <td>Economic Times</td>\n",
       "    </tr>\n",
       "    <tr>\n",
       "      <th>5</th>\n",
       "      <td>Singapore banks halt lending for Russian goods...</td>\n",
       "      <td>Singapore's biggest banks are restricting trad...</td>\n",
       "      <td>2022-03-01 02:30:56</td>\n",
       "      <td>[Bloomberg]</td>\n",
       "      <td>South China Morning Post</td>\n",
       "    </tr>\n",
       "  </tbody>\n",
       "</table>\n",
       "</div>"
      ],
      "text/plain": [
       "                                                    title  \\\n",
       "newsID                                                      \n",
       "1       Oil prices could determine how markets react t...   \n",
       "2       Zoom provides disappointing revenue forecast f...   \n",
       "3       Wall Street rallies as West hits Russia with n...   \n",
       "4       Weak manufacturing drags down Q3 GDP growth, o...   \n",
       "5       Singapore banks halt lending for Russian goods...   \n",
       "\n",
       "                                                  summary      time_published  \\\n",
       "newsID                                                                          \n",
       "1       The heavy new round of sanctions on Russia by ... 2022-03-01 00:02:02   \n",
       "2       Zoom's revenue growth is continuing to slow af... 2022-03-01 00:15:56   \n",
       "3       The SP 500 rose more than 1%, ending a four-da... 2022-03-01 00:46:51   \n",
       "4       India's economy grew 5.4% in the three months ... 2022-03-01 02:23:00   \n",
       "5       Singapore's biggest banks are restricting trad... 2022-03-01 02:30:56   \n",
       "\n",
       "                authors                    source  \n",
       "newsID                                             \n",
       "1          [Patti Domm]                      CNBC  \n",
       "2        [Jordan Novet]                      CNBC  \n",
       "3                    []             Money Control  \n",
       "4       [www.ETCFO.com]            Economic Times  \n",
       "5           [Bloomberg]  South China Morning Post  "
      ]
     },
     "execution_count": 2,
     "metadata": {},
     "output_type": "execute_result"
    }
   ],
   "source": [
    "df_news = pd.read_parquet('../data_collection/data_warehouse/news_articles.parquet')\n",
    "df_news = df_news[['title', 'summary', 'time_published', 'authors', 'source']]\n",
    "\n",
    "print(df_news.shape)\n",
    "df_news.head()"
   ]
  },
  {
   "cell_type": "code",
   "execution_count": 3,
   "metadata": {},
   "outputs": [
    {
     "name": "stderr",
     "output_type": "stream",
     "text": [
      "Pandas Apply: 100%|██████████| 1904666/1904666 [01:02<00:00, 30369.02it/s]\n",
      "Pandas Apply: 100%|██████████| 1904666/1904666 [02:15<00:00, 14038.37it/s]\n"
     ]
    }
   ],
   "source": [
    "analyzer = SentimentIntensityAnalyzer()\n",
    "\n",
    "def analyze_sentiment_vader(text):\n",
    "  sentiment = analyzer.polarity_scores(text)\n",
    "  return sentiment['compound']\n",
    "\n",
    "df_news['title_sentiment_vader'] = df_news['title'].swifter.apply(analyze_sentiment_vader)\n",
    "df_news['summary_sentiment_vader'] = df_news['summary'].swifter.apply(analyze_sentiment_vader)"
   ]
  },
  {
   "cell_type": "code",
   "execution_count": 4,
   "metadata": {},
   "outputs": [
    {
     "data": {
      "application/vnd.microsoft.datawrangler.viewer.v0+json": {
       "columns": [
        {
         "name": "newsID",
         "rawType": "int64",
         "type": "integer"
        },
        {
         "name": "title",
         "rawType": "object",
         "type": "string"
        },
        {
         "name": "summary",
         "rawType": "object",
         "type": "string"
        },
        {
         "name": "time_published",
         "rawType": "datetime64[ns]",
         "type": "datetime"
        },
        {
         "name": "authors",
         "rawType": "object",
         "type": "unknown"
        },
        {
         "name": "source",
         "rawType": "object",
         "type": "string"
        },
        {
         "name": "title_sentiment_vader",
         "rawType": "float64",
         "type": "float"
        },
        {
         "name": "summary_sentiment_vader",
         "rawType": "float64",
         "type": "float"
        }
       ],
       "conversionMethod": "pd.DataFrame",
       "ref": "740368f7-e5ac-4d81-8904-5e797de2d27c",
       "rows": [
        [
         "1",
         "Oil prices could determine how markets react to Russia's Ukraine invasion",
         "The heavy new round of sanctions on Russia by the U.S. and its allies are likely to push oil prices - and inflation - even higher.",
         "2022-03-01 00:02:02",
         "['Patti Domm']",
         "CNBC",
         "0.0",
         "0.0"
        ],
        [
         "2",
         "Zoom provides disappointing revenue forecast for first quarter and full year",
         "Zoom's revenue growth is continuing to slow after its business surged during the first year of the Covid-19 pandemic.",
         "2022-03-01 00:15:56",
         "['Jordan Novet']",
         "CNBC",
         "-0.4939",
         "0.3818"
        ],
        [
         "3",
         "Wall Street rallies as West hits Russia with new sanctions",
         "The SP 500 rose more than 1%, ending a four-day slide amid worries over the escalating crisis. The Dow also ended in positive territory.",
         "2022-03-01 00:46:51",
         "[]",
         "Money Control",
         "0.0",
         "-0.5106"
        ],
        [
         "4",
         "Weak manufacturing drags down Q3 GDP growth, oil inflation casts a shadow on future growth - ETCFO",
         "India's economy grew 5.4% in the three months ended December, a shade lower by about 30-40 basis points expected.",
         "2022-03-01 02:23:00",
         "['www.ETCFO.com']",
         "Economic Times",
         "0.1531",
         "-0.296"
        ],
        [
         "5",
         "Singapore banks halt lending for Russian goods; Japan imposes more sanctions",
         "Singapore's biggest banks are restricting trade financing for Russian raw materials, as the war in Ukraine spurs lenders in Asia's largest energy and commodities trading hub to reduce exposure to the sanction-hit country.The limits include a halt on issuing so-called letters of credit in US dollars ",
         "2022-03-01 02:30:56",
         "['Bloomberg']",
         "South China Morning Post",
         "-0.1027",
         "-0.4215"
        ]
       ],
       "shape": {
        "columns": 7,
        "rows": 5
       }
      },
      "text/html": [
       "<div>\n",
       "<style scoped>\n",
       "    .dataframe tbody tr th:only-of-type {\n",
       "        vertical-align: middle;\n",
       "    }\n",
       "\n",
       "    .dataframe tbody tr th {\n",
       "        vertical-align: top;\n",
       "    }\n",
       "\n",
       "    .dataframe thead th {\n",
       "        text-align: right;\n",
       "    }\n",
       "</style>\n",
       "<table border=\"1\" class=\"dataframe\">\n",
       "  <thead>\n",
       "    <tr style=\"text-align: right;\">\n",
       "      <th></th>\n",
       "      <th>title</th>\n",
       "      <th>summary</th>\n",
       "      <th>time_published</th>\n",
       "      <th>authors</th>\n",
       "      <th>source</th>\n",
       "      <th>title_sentiment_vader</th>\n",
       "      <th>summary_sentiment_vader</th>\n",
       "    </tr>\n",
       "    <tr>\n",
       "      <th>newsID</th>\n",
       "      <th></th>\n",
       "      <th></th>\n",
       "      <th></th>\n",
       "      <th></th>\n",
       "      <th></th>\n",
       "      <th></th>\n",
       "      <th></th>\n",
       "    </tr>\n",
       "  </thead>\n",
       "  <tbody>\n",
       "    <tr>\n",
       "      <th>1</th>\n",
       "      <td>Oil prices could determine how markets react t...</td>\n",
       "      <td>The heavy new round of sanctions on Russia by ...</td>\n",
       "      <td>2022-03-01 00:02:02</td>\n",
       "      <td>[Patti Domm]</td>\n",
       "      <td>CNBC</td>\n",
       "      <td>0.0000</td>\n",
       "      <td>0.0000</td>\n",
       "    </tr>\n",
       "    <tr>\n",
       "      <th>2</th>\n",
       "      <td>Zoom provides disappointing revenue forecast f...</td>\n",
       "      <td>Zoom's revenue growth is continuing to slow af...</td>\n",
       "      <td>2022-03-01 00:15:56</td>\n",
       "      <td>[Jordan Novet]</td>\n",
       "      <td>CNBC</td>\n",
       "      <td>-0.4939</td>\n",
       "      <td>0.3818</td>\n",
       "    </tr>\n",
       "    <tr>\n",
       "      <th>3</th>\n",
       "      <td>Wall Street rallies as West hits Russia with n...</td>\n",
       "      <td>The SP 500 rose more than 1%, ending a four-da...</td>\n",
       "      <td>2022-03-01 00:46:51</td>\n",
       "      <td>[]</td>\n",
       "      <td>Money Control</td>\n",
       "      <td>0.0000</td>\n",
       "      <td>-0.5106</td>\n",
       "    </tr>\n",
       "    <tr>\n",
       "      <th>4</th>\n",
       "      <td>Weak manufacturing drags down Q3 GDP growth, o...</td>\n",
       "      <td>India's economy grew 5.4% in the three months ...</td>\n",
       "      <td>2022-03-01 02:23:00</td>\n",
       "      <td>[www.ETCFO.com]</td>\n",
       "      <td>Economic Times</td>\n",
       "      <td>0.1531</td>\n",
       "      <td>-0.2960</td>\n",
       "    </tr>\n",
       "    <tr>\n",
       "      <th>5</th>\n",
       "      <td>Singapore banks halt lending for Russian goods...</td>\n",
       "      <td>Singapore's biggest banks are restricting trad...</td>\n",
       "      <td>2022-03-01 02:30:56</td>\n",
       "      <td>[Bloomberg]</td>\n",
       "      <td>South China Morning Post</td>\n",
       "      <td>-0.1027</td>\n",
       "      <td>-0.4215</td>\n",
       "    </tr>\n",
       "  </tbody>\n",
       "</table>\n",
       "</div>"
      ],
      "text/plain": [
       "                                                    title  \\\n",
       "newsID                                                      \n",
       "1       Oil prices could determine how markets react t...   \n",
       "2       Zoom provides disappointing revenue forecast f...   \n",
       "3       Wall Street rallies as West hits Russia with n...   \n",
       "4       Weak manufacturing drags down Q3 GDP growth, o...   \n",
       "5       Singapore banks halt lending for Russian goods...   \n",
       "\n",
       "                                                  summary      time_published  \\\n",
       "newsID                                                                          \n",
       "1       The heavy new round of sanctions on Russia by ... 2022-03-01 00:02:02   \n",
       "2       Zoom's revenue growth is continuing to slow af... 2022-03-01 00:15:56   \n",
       "3       The SP 500 rose more than 1%, ending a four-da... 2022-03-01 00:46:51   \n",
       "4       India's economy grew 5.4% in the three months ... 2022-03-01 02:23:00   \n",
       "5       Singapore's biggest banks are restricting trad... 2022-03-01 02:30:56   \n",
       "\n",
       "                authors                    source  title_sentiment_vader  \\\n",
       "newsID                                                                     \n",
       "1          [Patti Domm]                      CNBC                 0.0000   \n",
       "2        [Jordan Novet]                      CNBC                -0.4939   \n",
       "3                    []             Money Control                 0.0000   \n",
       "4       [www.ETCFO.com]            Economic Times                 0.1531   \n",
       "5           [Bloomberg]  South China Morning Post                -0.1027   \n",
       "\n",
       "        summary_sentiment_vader  \n",
       "newsID                           \n",
       "1                        0.0000  \n",
       "2                        0.3818  \n",
       "3                       -0.5106  \n",
       "4                       -0.2960  \n",
       "5                       -0.4215  "
      ]
     },
     "execution_count": 4,
     "metadata": {},
     "output_type": "execute_result"
    }
   ],
   "source": [
    "df_news.head()"
   ]
  },
  {
   "cell_type": "code",
   "execution_count": 5,
   "metadata": {},
   "outputs": [
    {
     "name": "stdout",
     "output_type": "stream",
     "text": [
      "Dataset({\n",
      "    features: ['title', 'summary', 'time_published', 'authors', 'source', 'title_sentiment_vader', 'summary_sentiment_vader', 'newsID'],\n",
      "    num_rows: 1904666\n",
      "})\n"
     ]
    }
   ],
   "source": [
    "dataset = Dataset.from_pandas(df_news)\n",
    "print(dataset)"
   ]
  },
  {
   "cell_type": "code",
   "execution_count": 6,
   "metadata": {},
   "outputs": [
    {
     "name": "stderr",
     "output_type": "stream",
     "text": [
      "Device set to use cuda:0\n",
      "Map:   0%|          | 25/1904666 [00:00<10:57:53, 48.25 examples/s]You seem to be using the pipelines sequentially on GPU. In order to maximize efficiency please use a dataset\n",
      "Map: 100%|██████████| 1904666/1904666 [9:54:28<00:00, 53.40 examples/s]  \n"
     ]
    }
   ],
   "source": [
    "pipe = pipeline(\"text-classification\", model=\"yiyanghkust/finbert-tone\", truncation=True, max_length=512)\n",
    "\n",
    "def classify_batch(batch):\n",
    "  return {\n",
    "    'title_sentiment_finbert': pipe(batch['title']),\n",
    "    'summary_sentiment_finbert': pipe(batch['summary'])\n",
    "  }\n",
    "\n",
    "dataset = dataset.map(classify_batch, batched=True, batch_size=5)"
   ]
  },
  {
   "cell_type": "code",
   "execution_count": 7,
   "metadata": {},
   "outputs": [
    {
     "data": {
      "application/vnd.microsoft.datawrangler.viewer.v0+json": {
       "columns": [
        {
         "name": "index",
         "rawType": "int64",
         "type": "integer"
        },
        {
         "name": "title",
         "rawType": "object",
         "type": "string"
        },
        {
         "name": "summary",
         "rawType": "object",
         "type": "string"
        },
        {
         "name": "time_published",
         "rawType": "datetime64[ns]",
         "type": "datetime"
        },
        {
         "name": "authors",
         "rawType": "object",
         "type": "unknown"
        },
        {
         "name": "source",
         "rawType": "object",
         "type": "string"
        },
        {
         "name": "title_sentiment_vader",
         "rawType": "float64",
         "type": "float"
        },
        {
         "name": "summary_sentiment_vader",
         "rawType": "float64",
         "type": "float"
        },
        {
         "name": "newsID",
         "rawType": "int64",
         "type": "integer"
        },
        {
         "name": "title_sentiment_finbert",
         "rawType": "object",
         "type": "unknown"
        },
        {
         "name": "summary_sentiment_finbert",
         "rawType": "object",
         "type": "unknown"
        }
       ],
       "conversionMethod": "pd.DataFrame",
       "ref": "662252b3-9742-47d6-afaf-95b391c1dd0d",
       "rows": [
        [
         "0",
         "Oil prices could determine how markets react to Russia's Ukraine invasion",
         "The heavy new round of sanctions on Russia by the U.S. and its allies are likely to push oil prices - and inflation - even higher.",
         "2022-03-01 00:02:02",
         "['Patti Domm']",
         "CNBC",
         "0.0",
         "0.0",
         "1",
         "{'label': 'Negative', 'score': 0.63124018907547}",
         "{'label': 'Negative', 'score': 0.6197944283485413}"
        ],
        [
         "1",
         "Zoom provides disappointing revenue forecast for first quarter and full year",
         "Zoom's revenue growth is continuing to slow after its business surged during the first year of the Covid-19 pandemic.",
         "2022-03-01 00:15:56",
         "['Jordan Novet']",
         "CNBC",
         "-0.4939",
         "0.3818",
         "2",
         "{'label': 'Negative', 'score': 0.9999985694885254}",
         "{'label': 'Negative', 'score': 0.9999996423721313}"
        ],
        [
         "2",
         "Wall Street rallies as West hits Russia with new sanctions",
         "The SP 500 rose more than 1%, ending a four-day slide amid worries over the escalating crisis. The Dow also ended in positive territory.",
         "2022-03-01 00:46:51",
         "[]",
         "Money Control",
         "0.0",
         "-0.5106",
         "3",
         "{'label': 'Neutral', 'score': 0.9479693174362183}",
         "{'label': 'Positive', 'score': 0.9999978542327881}"
        ],
        [
         "3",
         "Weak manufacturing drags down Q3 GDP growth, oil inflation casts a shadow on future growth - ETCFO",
         "India's economy grew 5.4% in the three months ended December, a shade lower by about 30-40 basis points expected.",
         "2022-03-01 02:23:00",
         "['www.ETCFO.com']",
         "Economic Times",
         "0.1531",
         "-0.296",
         "4",
         "{'label': 'Negative', 'score': 0.9999984502792358}",
         "{'label': 'Negative', 'score': 0.9954470992088318}"
        ],
        [
         "4",
         "Singapore banks halt lending for Russian goods; Japan imposes more sanctions",
         "Singapore's biggest banks are restricting trade financing for Russian raw materials, as the war in Ukraine spurs lenders in Asia's largest energy and commodities trading hub to reduce exposure to the sanction-hit country.The limits include a halt on issuing so-called letters of credit in US dollars ",
         "2022-03-01 02:30:56",
         "['Bloomberg']",
         "South China Morning Post",
         "-0.1027",
         "-0.4215",
         "5",
         "{'label': 'Negative', 'score': 0.9858503937721252}",
         "{'label': 'Negative', 'score': 0.9719559550285339}"
        ]
       ],
       "shape": {
        "columns": 10,
        "rows": 5
       }
      },
      "text/html": [
       "<div>\n",
       "<style scoped>\n",
       "    .dataframe tbody tr th:only-of-type {\n",
       "        vertical-align: middle;\n",
       "    }\n",
       "\n",
       "    .dataframe tbody tr th {\n",
       "        vertical-align: top;\n",
       "    }\n",
       "\n",
       "    .dataframe thead th {\n",
       "        text-align: right;\n",
       "    }\n",
       "</style>\n",
       "<table border=\"1\" class=\"dataframe\">\n",
       "  <thead>\n",
       "    <tr style=\"text-align: right;\">\n",
       "      <th></th>\n",
       "      <th>title</th>\n",
       "      <th>summary</th>\n",
       "      <th>time_published</th>\n",
       "      <th>authors</th>\n",
       "      <th>source</th>\n",
       "      <th>title_sentiment_vader</th>\n",
       "      <th>summary_sentiment_vader</th>\n",
       "      <th>newsID</th>\n",
       "      <th>title_sentiment_finbert</th>\n",
       "      <th>summary_sentiment_finbert</th>\n",
       "    </tr>\n",
       "  </thead>\n",
       "  <tbody>\n",
       "    <tr>\n",
       "      <th>0</th>\n",
       "      <td>Oil prices could determine how markets react t...</td>\n",
       "      <td>The heavy new round of sanctions on Russia by ...</td>\n",
       "      <td>2022-03-01 00:02:02</td>\n",
       "      <td>[Patti Domm]</td>\n",
       "      <td>CNBC</td>\n",
       "      <td>0.0000</td>\n",
       "      <td>0.0000</td>\n",
       "      <td>1</td>\n",
       "      <td>{'label': 'Negative', 'score': 0.63124018907547}</td>\n",
       "      <td>{'label': 'Negative', 'score': 0.6197944283485...</td>\n",
       "    </tr>\n",
       "    <tr>\n",
       "      <th>1</th>\n",
       "      <td>Zoom provides disappointing revenue forecast f...</td>\n",
       "      <td>Zoom's revenue growth is continuing to slow af...</td>\n",
       "      <td>2022-03-01 00:15:56</td>\n",
       "      <td>[Jordan Novet]</td>\n",
       "      <td>CNBC</td>\n",
       "      <td>-0.4939</td>\n",
       "      <td>0.3818</td>\n",
       "      <td>2</td>\n",
       "      <td>{'label': 'Negative', 'score': 0.9999985694885...</td>\n",
       "      <td>{'label': 'Negative', 'score': 0.9999996423721...</td>\n",
       "    </tr>\n",
       "    <tr>\n",
       "      <th>2</th>\n",
       "      <td>Wall Street rallies as West hits Russia with n...</td>\n",
       "      <td>The SP 500 rose more than 1%, ending a four-da...</td>\n",
       "      <td>2022-03-01 00:46:51</td>\n",
       "      <td>[]</td>\n",
       "      <td>Money Control</td>\n",
       "      <td>0.0000</td>\n",
       "      <td>-0.5106</td>\n",
       "      <td>3</td>\n",
       "      <td>{'label': 'Neutral', 'score': 0.9479693174362183}</td>\n",
       "      <td>{'label': 'Positive', 'score': 0.9999978542327...</td>\n",
       "    </tr>\n",
       "    <tr>\n",
       "      <th>3</th>\n",
       "      <td>Weak manufacturing drags down Q3 GDP growth, o...</td>\n",
       "      <td>India's economy grew 5.4% in the three months ...</td>\n",
       "      <td>2022-03-01 02:23:00</td>\n",
       "      <td>[www.ETCFO.com]</td>\n",
       "      <td>Economic Times</td>\n",
       "      <td>0.1531</td>\n",
       "      <td>-0.2960</td>\n",
       "      <td>4</td>\n",
       "      <td>{'label': 'Negative', 'score': 0.9999984502792...</td>\n",
       "      <td>{'label': 'Negative', 'score': 0.9954470992088...</td>\n",
       "    </tr>\n",
       "    <tr>\n",
       "      <th>4</th>\n",
       "      <td>Singapore banks halt lending for Russian goods...</td>\n",
       "      <td>Singapore's biggest banks are restricting trad...</td>\n",
       "      <td>2022-03-01 02:30:56</td>\n",
       "      <td>[Bloomberg]</td>\n",
       "      <td>South China Morning Post</td>\n",
       "      <td>-0.1027</td>\n",
       "      <td>-0.4215</td>\n",
       "      <td>5</td>\n",
       "      <td>{'label': 'Negative', 'score': 0.9858503937721...</td>\n",
       "      <td>{'label': 'Negative', 'score': 0.9719559550285...</td>\n",
       "    </tr>\n",
       "  </tbody>\n",
       "</table>\n",
       "</div>"
      ],
      "text/plain": [
       "                                               title  \\\n",
       "0  Oil prices could determine how markets react t...   \n",
       "1  Zoom provides disappointing revenue forecast f...   \n",
       "2  Wall Street rallies as West hits Russia with n...   \n",
       "3  Weak manufacturing drags down Q3 GDP growth, o...   \n",
       "4  Singapore banks halt lending for Russian goods...   \n",
       "\n",
       "                                             summary      time_published  \\\n",
       "0  The heavy new round of sanctions on Russia by ... 2022-03-01 00:02:02   \n",
       "1  Zoom's revenue growth is continuing to slow af... 2022-03-01 00:15:56   \n",
       "2  The SP 500 rose more than 1%, ending a four-da... 2022-03-01 00:46:51   \n",
       "3  India's economy grew 5.4% in the three months ... 2022-03-01 02:23:00   \n",
       "4  Singapore's biggest banks are restricting trad... 2022-03-01 02:30:56   \n",
       "\n",
       "           authors                    source  title_sentiment_vader  \\\n",
       "0     [Patti Domm]                      CNBC                 0.0000   \n",
       "1   [Jordan Novet]                      CNBC                -0.4939   \n",
       "2               []             Money Control                 0.0000   \n",
       "3  [www.ETCFO.com]            Economic Times                 0.1531   \n",
       "4      [Bloomberg]  South China Morning Post                -0.1027   \n",
       "\n",
       "   summary_sentiment_vader  newsID  \\\n",
       "0                   0.0000       1   \n",
       "1                   0.3818       2   \n",
       "2                  -0.5106       3   \n",
       "3                  -0.2960       4   \n",
       "4                  -0.4215       5   \n",
       "\n",
       "                             title_sentiment_finbert  \\\n",
       "0   {'label': 'Negative', 'score': 0.63124018907547}   \n",
       "1  {'label': 'Negative', 'score': 0.9999985694885...   \n",
       "2  {'label': 'Neutral', 'score': 0.9479693174362183}   \n",
       "3  {'label': 'Negative', 'score': 0.9999984502792...   \n",
       "4  {'label': 'Negative', 'score': 0.9858503937721...   \n",
       "\n",
       "                           summary_sentiment_finbert  \n",
       "0  {'label': 'Negative', 'score': 0.6197944283485...  \n",
       "1  {'label': 'Negative', 'score': 0.9999996423721...  \n",
       "2  {'label': 'Positive', 'score': 0.9999978542327...  \n",
       "3  {'label': 'Negative', 'score': 0.9954470992088...  \n",
       "4  {'label': 'Negative', 'score': 0.9719559550285...  "
      ]
     },
     "execution_count": 7,
     "metadata": {},
     "output_type": "execute_result"
    }
   ],
   "source": [
    "df_sentiment = dataset.to_pandas()\n",
    "df_sentiment.head()"
   ]
  },
  {
   "cell_type": "code",
   "execution_count": 8,
   "metadata": {},
   "outputs": [
    {
     "data": {
      "application/vnd.microsoft.datawrangler.viewer.v0+json": {
       "columns": [
        {
         "name": "newsID",
         "rawType": "int64",
         "type": "integer"
        },
        {
         "name": "title_sentiment_finbert",
         "rawType": "object",
         "type": "unknown"
        },
        {
         "name": "summary_sentiment_finbert",
         "rawType": "object",
         "type": "unknown"
        },
        {
         "name": "title_sentiment_vader",
         "rawType": "float64",
         "type": "float"
        },
        {
         "name": "summary_sentiment_vader",
         "rawType": "float64",
         "type": "float"
        }
       ],
       "conversionMethod": "pd.DataFrame",
       "ref": "48ac9b42-4b49-4ba1-a409-bc68ac42b743",
       "rows": [
        [
         "1",
         "{'label': 'Negative', 'score': 0.63124018907547}",
         "{'label': 'Negative', 'score': 0.6197944283485413}",
         "0.0",
         "0.0"
        ],
        [
         "2",
         "{'label': 'Negative', 'score': 0.9999985694885254}",
         "{'label': 'Negative', 'score': 0.9999996423721313}",
         "-0.4939",
         "0.3818"
        ],
        [
         "3",
         "{'label': 'Neutral', 'score': 0.9479693174362183}",
         "{'label': 'Positive', 'score': 0.9999978542327881}",
         "0.0",
         "-0.5106"
        ],
        [
         "4",
         "{'label': 'Negative', 'score': 0.9999984502792358}",
         "{'label': 'Negative', 'score': 0.9954470992088318}",
         "0.1531",
         "-0.296"
        ],
        [
         "5",
         "{'label': 'Negative', 'score': 0.9858503937721252}",
         "{'label': 'Negative', 'score': 0.9719559550285339}",
         "-0.1027",
         "-0.4215"
        ]
       ],
       "shape": {
        "columns": 4,
        "rows": 5
       }
      },
      "text/html": [
       "<div>\n",
       "<style scoped>\n",
       "    .dataframe tbody tr th:only-of-type {\n",
       "        vertical-align: middle;\n",
       "    }\n",
       "\n",
       "    .dataframe tbody tr th {\n",
       "        vertical-align: top;\n",
       "    }\n",
       "\n",
       "    .dataframe thead th {\n",
       "        text-align: right;\n",
       "    }\n",
       "</style>\n",
       "<table border=\"1\" class=\"dataframe\">\n",
       "  <thead>\n",
       "    <tr style=\"text-align: right;\">\n",
       "      <th></th>\n",
       "      <th>title_sentiment_finbert</th>\n",
       "      <th>summary_sentiment_finbert</th>\n",
       "      <th>title_sentiment_vader</th>\n",
       "      <th>summary_sentiment_vader</th>\n",
       "    </tr>\n",
       "    <tr>\n",
       "      <th>newsID</th>\n",
       "      <th></th>\n",
       "      <th></th>\n",
       "      <th></th>\n",
       "      <th></th>\n",
       "    </tr>\n",
       "  </thead>\n",
       "  <tbody>\n",
       "    <tr>\n",
       "      <th>1</th>\n",
       "      <td>{'label': 'Negative', 'score': 0.63124018907547}</td>\n",
       "      <td>{'label': 'Negative', 'score': 0.6197944283485...</td>\n",
       "      <td>0.0000</td>\n",
       "      <td>0.0000</td>\n",
       "    </tr>\n",
       "    <tr>\n",
       "      <th>2</th>\n",
       "      <td>{'label': 'Negative', 'score': 0.9999985694885...</td>\n",
       "      <td>{'label': 'Negative', 'score': 0.9999996423721...</td>\n",
       "      <td>-0.4939</td>\n",
       "      <td>0.3818</td>\n",
       "    </tr>\n",
       "    <tr>\n",
       "      <th>3</th>\n",
       "      <td>{'label': 'Neutral', 'score': 0.9479693174362183}</td>\n",
       "      <td>{'label': 'Positive', 'score': 0.9999978542327...</td>\n",
       "      <td>0.0000</td>\n",
       "      <td>-0.5106</td>\n",
       "    </tr>\n",
       "    <tr>\n",
       "      <th>4</th>\n",
       "      <td>{'label': 'Negative', 'score': 0.9999984502792...</td>\n",
       "      <td>{'label': 'Negative', 'score': 0.9954470992088...</td>\n",
       "      <td>0.1531</td>\n",
       "      <td>-0.2960</td>\n",
       "    </tr>\n",
       "    <tr>\n",
       "      <th>5</th>\n",
       "      <td>{'label': 'Negative', 'score': 0.9858503937721...</td>\n",
       "      <td>{'label': 'Negative', 'score': 0.9719559550285...</td>\n",
       "      <td>-0.1027</td>\n",
       "      <td>-0.4215</td>\n",
       "    </tr>\n",
       "  </tbody>\n",
       "</table>\n",
       "</div>"
      ],
      "text/plain": [
       "                                  title_sentiment_finbert  \\\n",
       "newsID                                                      \n",
       "1        {'label': 'Negative', 'score': 0.63124018907547}   \n",
       "2       {'label': 'Negative', 'score': 0.9999985694885...   \n",
       "3       {'label': 'Neutral', 'score': 0.9479693174362183}   \n",
       "4       {'label': 'Negative', 'score': 0.9999984502792...   \n",
       "5       {'label': 'Negative', 'score': 0.9858503937721...   \n",
       "\n",
       "                                summary_sentiment_finbert  \\\n",
       "newsID                                                      \n",
       "1       {'label': 'Negative', 'score': 0.6197944283485...   \n",
       "2       {'label': 'Negative', 'score': 0.9999996423721...   \n",
       "3       {'label': 'Positive', 'score': 0.9999978542327...   \n",
       "4       {'label': 'Negative', 'score': 0.9954470992088...   \n",
       "5       {'label': 'Negative', 'score': 0.9719559550285...   \n",
       "\n",
       "        title_sentiment_vader  summary_sentiment_vader  \n",
       "newsID                                                  \n",
       "1                      0.0000                   0.0000  \n",
       "2                     -0.4939                   0.3818  \n",
       "3                      0.0000                  -0.5106  \n",
       "4                      0.1531                  -0.2960  \n",
       "5                     -0.1027                  -0.4215  "
      ]
     },
     "execution_count": 8,
     "metadata": {},
     "output_type": "execute_result"
    }
   ],
   "source": [
    "df_sentiment = df_sentiment[['newsID', 'title_sentiment_finbert', 'summary_sentiment_finbert', 'title_sentiment_vader', 'summary_sentiment_vader']]\n",
    "df_sentiment.set_index('newsID', inplace=True)\n",
    "df_sentiment.head()"
   ]
  },
  {
   "cell_type": "code",
   "execution_count": 9,
   "metadata": {},
   "outputs": [],
   "source": [
    "df_sentiment.to_parquet('data/news_sentiment.parquet')"
   ]
  }
 ],
 "metadata": {
  "kernelspec": {
   "display_name": "Python 3",
   "language": "python",
   "name": "python3"
  },
  "language_info": {
   "codemirror_mode": {
    "name": "ipython",
    "version": 3
   },
   "file_extension": ".py",
   "mimetype": "text/x-python",
   "name": "python",
   "nbconvert_exporter": "python",
   "pygments_lexer": "ipython3",
   "version": "3.12.9"
  }
 },
 "nbformat": 4,
 "nbformat_minor": 2
}
