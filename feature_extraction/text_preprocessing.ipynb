{
 "cells": [
  {
   "cell_type": "code",
   "execution_count": 1,
   "metadata": {},
   "outputs": [
    {
     "name": "stderr",
     "output_type": "stream",
     "text": [
      "c:\\Users\\phku0\\AppData\\Local\\Programs\\Python\\Python312\\Lib\\site-packages\\tqdm\\auto.py:21: TqdmWarning: IProgress not found. Please update jupyter and ipywidgets. See https://ipywidgets.readthedocs.io/en/stable/user_install.html\n",
      "  from .autonotebook import tqdm as notebook_tqdm\n",
      "[nltk_data] Downloading package punkt_tab to\n",
      "[nltk_data]     C:\\Users\\phku0\\AppData\\Roaming\\nltk_data...\n",
      "[nltk_data]   Package punkt_tab is already up-to-date!\n",
      "[nltk_data] Downloading package stopwords to\n",
      "[nltk_data]     C:\\Users\\phku0\\AppData\\Roaming\\nltk_data...\n",
      "[nltk_data]   Package stopwords is already up-to-date!\n",
      "[nltk_data] Downloading package wordnet to\n",
      "[nltk_data]     C:\\Users\\phku0\\AppData\\Roaming\\nltk_data...\n",
      "[nltk_data]   Package wordnet is already up-to-date!\n",
      "[nltk_data] Downloading package omw-1.4 to\n",
      "[nltk_data]     C:\\Users\\phku0\\AppData\\Roaming\\nltk_data...\n",
      "[nltk_data]   Package omw-1.4 is already up-to-date!\n",
      "[nltk_data] Downloading package averaged_perceptron_tagger to\n",
      "[nltk_data]     C:\\Users\\phku0\\AppData\\Roaming\\nltk_data...\n",
      "[nltk_data]   Package averaged_perceptron_tagger is already up-to-\n",
      "[nltk_data]       date!\n",
      "[nltk_data] Downloading package averaged_perceptron_tagger_eng to\n",
      "[nltk_data]     C:\\Users\\phku0\\AppData\\Roaming\\nltk_data...\n",
      "[nltk_data]   Package averaged_perceptron_tagger_eng is already up-to-\n",
      "[nltk_data]       date!\n"
     ]
    },
    {
     "data": {
      "text/plain": [
       "True"
      ]
     },
     "execution_count": 1,
     "metadata": {},
     "output_type": "execute_result"
    }
   ],
   "source": [
    "import pandas as pd\n",
    "import numpy as np\n",
    "import re\n",
    "import swifter\n",
    "import string\n",
    "\n",
    "import nltk\n",
    "from nltk.tokenize import word_tokenize\n",
    "from nltk.corpus import stopwords, wordnet\n",
    "from nltk.stem import WordNetLemmatizer\n",
    "\n",
    "nltk.download('punkt_tab')\n",
    "nltk.download('stopwords')\n",
    "nltk.download('wordnet')\n",
    "nltk.download('omw-1.4')\n",
    "nltk.download('averaged_perceptron_tagger')\n",
    "nltk.download('averaged_perceptron_tagger_eng')"
   ]
  },
  {
   "cell_type": "code",
   "execution_count": 2,
   "metadata": {},
   "outputs": [
    {
     "name": "stdout",
     "output_type": "stream",
     "text": [
      "(1904666, 5)\n"
     ]
    },
    {
     "data": {
      "application/vnd.microsoft.datawrangler.viewer.v0+json": {
       "columns": [
        {
         "name": "newsID",
         "rawType": "int64",
         "type": "integer"
        },
        {
         "name": "title",
         "rawType": "object",
         "type": "string"
        },
        {
         "name": "summary",
         "rawType": "object",
         "type": "string"
        },
        {
         "name": "time_published",
         "rawType": "datetime64[ns]",
         "type": "datetime"
        },
        {
         "name": "authors",
         "rawType": "object",
         "type": "unknown"
        },
        {
         "name": "source",
         "rawType": "object",
         "type": "string"
        }
       ],
       "conversionMethod": "pd.DataFrame",
       "ref": "2f0ea050-6d55-41c4-94b4-ad7864fa83eb",
       "rows": [
        [
         "1",
         "Oil prices could determine how markets react to Russia's Ukraine invasion",
         "The heavy new round of sanctions on Russia by the U.S. and its allies are likely to push oil prices - and inflation - even higher.",
         "2022-03-01 00:02:02",
         "['Patti Domm']",
         "CNBC"
        ],
        [
         "2",
         "Zoom provides disappointing revenue forecast for first quarter and full year",
         "Zoom's revenue growth is continuing to slow after its business surged during the first year of the Covid-19 pandemic.",
         "2022-03-01 00:15:56",
         "['Jordan Novet']",
         "CNBC"
        ],
        [
         "3",
         "Wall Street rallies as West hits Russia with new sanctions",
         "The SP 500 rose more than 1%, ending a four-day slide amid worries over the escalating crisis. The Dow also ended in positive territory.",
         "2022-03-01 00:46:51",
         "[]",
         "Money Control"
        ],
        [
         "4",
         "Weak manufacturing drags down Q3 GDP growth, oil inflation casts a shadow on future growth - ETCFO",
         "India's economy grew 5.4% in the three months ended December, a shade lower by about 30-40 basis points expected.",
         "2022-03-01 02:23:00",
         "['www.ETCFO.com']",
         "Economic Times"
        ],
        [
         "5",
         "Singapore banks halt lending for Russian goods; Japan imposes more sanctions",
         "Singapore's biggest banks are restricting trade financing for Russian raw materials, as the war in Ukraine spurs lenders in Asia's largest energy and commodities trading hub to reduce exposure to the sanction-hit country.The limits include a halt on issuing so-called letters of credit in US dollars ",
         "2022-03-01 02:30:56",
         "['Bloomberg']",
         "South China Morning Post"
        ]
       ],
       "shape": {
        "columns": 5,
        "rows": 5
       }
      },
      "text/html": [
       "<div>\n",
       "<style scoped>\n",
       "    .dataframe tbody tr th:only-of-type {\n",
       "        vertical-align: middle;\n",
       "    }\n",
       "\n",
       "    .dataframe tbody tr th {\n",
       "        vertical-align: top;\n",
       "    }\n",
       "\n",
       "    .dataframe thead th {\n",
       "        text-align: right;\n",
       "    }\n",
       "</style>\n",
       "<table border=\"1\" class=\"dataframe\">\n",
       "  <thead>\n",
       "    <tr style=\"text-align: right;\">\n",
       "      <th></th>\n",
       "      <th>title</th>\n",
       "      <th>summary</th>\n",
       "      <th>time_published</th>\n",
       "      <th>authors</th>\n",
       "      <th>source</th>\n",
       "    </tr>\n",
       "    <tr>\n",
       "      <th>newsID</th>\n",
       "      <th></th>\n",
       "      <th></th>\n",
       "      <th></th>\n",
       "      <th></th>\n",
       "      <th></th>\n",
       "    </tr>\n",
       "  </thead>\n",
       "  <tbody>\n",
       "    <tr>\n",
       "      <th>1</th>\n",
       "      <td>Oil prices could determine how markets react t...</td>\n",
       "      <td>The heavy new round of sanctions on Russia by ...</td>\n",
       "      <td>2022-03-01 00:02:02</td>\n",
       "      <td>[Patti Domm]</td>\n",
       "      <td>CNBC</td>\n",
       "    </tr>\n",
       "    <tr>\n",
       "      <th>2</th>\n",
       "      <td>Zoom provides disappointing revenue forecast f...</td>\n",
       "      <td>Zoom's revenue growth is continuing to slow af...</td>\n",
       "      <td>2022-03-01 00:15:56</td>\n",
       "      <td>[Jordan Novet]</td>\n",
       "      <td>CNBC</td>\n",
       "    </tr>\n",
       "    <tr>\n",
       "      <th>3</th>\n",
       "      <td>Wall Street rallies as West hits Russia with n...</td>\n",
       "      <td>The SP 500 rose more than 1%, ending a four-da...</td>\n",
       "      <td>2022-03-01 00:46:51</td>\n",
       "      <td>[]</td>\n",
       "      <td>Money Control</td>\n",
       "    </tr>\n",
       "    <tr>\n",
       "      <th>4</th>\n",
       "      <td>Weak manufacturing drags down Q3 GDP growth, o...</td>\n",
       "      <td>India's economy grew 5.4% in the three months ...</td>\n",
       "      <td>2022-03-01 02:23:00</td>\n",
       "      <td>[www.ETCFO.com]</td>\n",
       "      <td>Economic Times</td>\n",
       "    </tr>\n",
       "    <tr>\n",
       "      <th>5</th>\n",
       "      <td>Singapore banks halt lending for Russian goods...</td>\n",
       "      <td>Singapore's biggest banks are restricting trad...</td>\n",
       "      <td>2022-03-01 02:30:56</td>\n",
       "      <td>[Bloomberg]</td>\n",
       "      <td>South China Morning Post</td>\n",
       "    </tr>\n",
       "  </tbody>\n",
       "</table>\n",
       "</div>"
      ],
      "text/plain": [
       "                                                    title  \\\n",
       "newsID                                                      \n",
       "1       Oil prices could determine how markets react t...   \n",
       "2       Zoom provides disappointing revenue forecast f...   \n",
       "3       Wall Street rallies as West hits Russia with n...   \n",
       "4       Weak manufacturing drags down Q3 GDP growth, o...   \n",
       "5       Singapore banks halt lending for Russian goods...   \n",
       "\n",
       "                                                  summary      time_published  \\\n",
       "newsID                                                                          \n",
       "1       The heavy new round of sanctions on Russia by ... 2022-03-01 00:02:02   \n",
       "2       Zoom's revenue growth is continuing to slow af... 2022-03-01 00:15:56   \n",
       "3       The SP 500 rose more than 1%, ending a four-da... 2022-03-01 00:46:51   \n",
       "4       India's economy grew 5.4% in the three months ... 2022-03-01 02:23:00   \n",
       "5       Singapore's biggest banks are restricting trad... 2022-03-01 02:30:56   \n",
       "\n",
       "                authors                    source  \n",
       "newsID                                             \n",
       "1          [Patti Domm]                      CNBC  \n",
       "2        [Jordan Novet]                      CNBC  \n",
       "3                    []             Money Control  \n",
       "4       [www.ETCFO.com]            Economic Times  \n",
       "5           [Bloomberg]  South China Morning Post  "
      ]
     },
     "execution_count": 2,
     "metadata": {},
     "output_type": "execute_result"
    }
   ],
   "source": [
    "df = pd.read_parquet('../data_collection/data_warehouse/news_articles.parquet')\n",
    "df = df[['title', 'summary', 'time_published', 'authors', 'source']]\n",
    "\n",
    "print(df.shape)\n",
    "df.head()"
   ]
  },
  {
   "cell_type": "code",
   "execution_count": 3,
   "metadata": {},
   "outputs": [
    {
     "name": "stderr",
     "output_type": "stream",
     "text": [
      "Pandas Apply: 100%|██████████| 1904666/1904666 [10:11<00:00, 3115.65it/s]\n",
      "Pandas Apply: 100%|██████████| 1904666/1904666 [19:46<00:00, 1605.22it/s]\n"
     ]
    }
   ],
   "source": [
    "stop_words = set(stopwords.words('english'))\n",
    "punctuation_set = set(string.punctuation)\n",
    "lemmatizer = WordNetLemmatizer()\n",
    "\n",
    "custom_stopwords = ['inc', 'ltd', 'co', 'com', 'plc', 'corp', 'llc']\n",
    "stop_words.update(custom_stopwords)\n",
    "\n",
    "def get_pos(tag):\n",
    "    if tag.startswith('J'):\n",
    "        return wordnet.ADJ\n",
    "    elif tag.startswith('V'):\n",
    "        return wordnet.VERB\n",
    "    elif tag.startswith('N'):\n",
    "        return wordnet.NOUN\n",
    "    elif tag.startswith('R'):\n",
    "        return wordnet.ADV\n",
    "    else:\n",
    "        return wordnet.NOUN\n",
    "\n",
    "def preprocess(text):\n",
    "    # type check\n",
    "    if not isinstance(text, str):\n",
    "        return []\n",
    "    \n",
    "    # Only keep word character and space\n",
    "    text = re.sub(r'[^A-Za-z\\s]', ' ', text).strip()\n",
    "\n",
    "    # Remove extra spaces\n",
    "    text = re.sub(r'\\s+', ' ', text).strip()\n",
    "    \n",
    "    # lowercase\n",
    "    text = text.lower()\n",
    "    \n",
    "    # tokenize\n",
    "    tokens = word_tokenize(text)\n",
    "\n",
    "    # Remove stopwords, punctuation, whitespace\n",
    "    tokens = [token for token in tokens if token not in stop_words and token not in punctuation_set and token.strip() and len(token) > 2]\n",
    "\n",
    "    # Part of speech tagging\n",
    "    pos_tags = nltk.pos_tag(tokens)\n",
    "    \n",
    "    # Lemmatize with POS tagging\n",
    "    tokens = [lemmatizer.lemmatize(token, get_pos(tag)) for token, tag in pos_tags]\n",
    "    \n",
    "    return tokens\n",
    "\n",
    "df[\"title_preprocessed\"] = df[\"title\"].swifter.apply(preprocess)\n",
    "df[\"summary_preprocessed\"] = df[\"summary\"].swifter.apply(preprocess)"
   ]
  },
  {
   "cell_type": "code",
   "execution_count": 4,
   "metadata": {},
   "outputs": [],
   "source": [
    "# def extract_synonyms(word):\n",
    "#     synonyms = set()\n",
    "#     for syn in wordnet.synsets(word):\n",
    "#         for lemma in syn.lemmas():\n",
    "#             synonyms.add(lemma.name())\n",
    "#     return synonyms"
   ]
  },
  {
   "cell_type": "code",
   "execution_count": 5,
   "metadata": {},
   "outputs": [
    {
     "data": {
      "application/vnd.microsoft.datawrangler.viewer.v0+json": {
       "columns": [
        {
         "name": "newsID",
         "rawType": "int64",
         "type": "integer"
        },
        {
         "name": "title",
         "rawType": "object",
         "type": "string"
        },
        {
         "name": "summary",
         "rawType": "object",
         "type": "string"
        },
        {
         "name": "time_published",
         "rawType": "datetime64[ns]",
         "type": "datetime"
        },
        {
         "name": "authors",
         "rawType": "object",
         "type": "unknown"
        },
        {
         "name": "source",
         "rawType": "object",
         "type": "string"
        },
        {
         "name": "title_preprocessed",
         "rawType": "object",
         "type": "unknown"
        },
        {
         "name": "summary_preprocessed",
         "rawType": "object",
         "type": "unknown"
        }
       ],
       "conversionMethod": "pd.DataFrame",
       "ref": "d4fda6da-d400-4781-8135-6462d72e0abf",
       "rows": [
        [
         "1",
         "Oil prices could determine how markets react to Russia's Ukraine invasion",
         "The heavy new round of sanctions on Russia by the U.S. and its allies are likely to push oil prices - and inflation - even higher.",
         "2022-03-01 00:02:02",
         "['Patti Domm']",
         "CNBC",
         "['oil', 'price', 'could', 'determine', 'market', 'react', 'russia', 'ukraine', 'invasion']",
         "['heavy', 'new', 'round', 'sanction', 'russia', 'ally', 'likely', 'push', 'oil', 'price', 'inflation', 'even', 'high']"
        ],
        [
         "2",
         "Zoom provides disappointing revenue forecast for first quarter and full year",
         "Zoom's revenue growth is continuing to slow after its business surged during the first year of the Covid-19 pandemic.",
         "2022-03-01 00:15:56",
         "['Jordan Novet']",
         "CNBC",
         "['zoom', 'provide', 'disappointing', 'revenue', 'forecast', 'first', 'quarter', 'full', 'year']",
         "['zoom', 'revenue', 'growth', 'continue', 'slow', 'business', 'surge', 'first', 'year', 'covid', 'pandemic']"
        ],
        [
         "3",
         "Wall Street rallies as West hits Russia with new sanctions",
         "The SP 500 rose more than 1%, ending a four-day slide amid worries over the escalating crisis. The Dow also ended in positive territory.",
         "2022-03-01 00:46:51",
         "[]",
         "Money Control",
         "['wall', 'street', 'rally', 'west', 'hit', 'russia', 'new', 'sanction']",
         "['rise', 'end', 'four', 'day', 'slide', 'amid', 'worry', 'escalate', 'crisis', 'dow', 'also', 'end', 'positive', 'territory']"
        ],
        [
         "4",
         "Weak manufacturing drags down Q3 GDP growth, oil inflation casts a shadow on future growth - ETCFO",
         "India's economy grew 5.4% in the three months ended December, a shade lower by about 30-40 basis points expected.",
         "2022-03-01 02:23:00",
         "['www.ETCFO.com']",
         "Economic Times",
         "['weak', 'manufacturing', 'drag', 'gdp', 'growth', 'oil', 'inflation', 'cast', 'shadow', 'future', 'growth', 'etcfo']",
         "['india', 'economy', 'grow', 'three', 'month', 'end', 'december', 'shade', 'low', 'basis', 'point', 'expect']"
        ],
        [
         "5",
         "Singapore banks halt lending for Russian goods; Japan imposes more sanctions",
         "Singapore's biggest banks are restricting trade financing for Russian raw materials, as the war in Ukraine spurs lenders in Asia's largest energy and commodities trading hub to reduce exposure to the sanction-hit country.The limits include a halt on issuing so-called letters of credit in US dollars ",
         "2022-03-01 02:30:56",
         "['Bloomberg']",
         "South China Morning Post",
         "['singapore', 'bank', 'halt', 'lend', 'russian', 'good', 'japan', 'imposes', 'sanction']",
         "['singapore', 'big', 'bank', 'restrict', 'trade', 'financing', 'russian', 'raw', 'material', 'war', 'ukraine', 'spur', 'lender', 'asia', 'large', 'energy', 'commodity', 'trade', 'hub', 'reduce', 'exposure', 'sanction', 'hit', 'country', 'limit', 'include', 'halt', 'issue', 'call', 'letter', 'credit', 'dollar']"
        ]
       ],
       "shape": {
        "columns": 7,
        "rows": 5
       }
      },
      "text/html": [
       "<div>\n",
       "<style scoped>\n",
       "    .dataframe tbody tr th:only-of-type {\n",
       "        vertical-align: middle;\n",
       "    }\n",
       "\n",
       "    .dataframe tbody tr th {\n",
       "        vertical-align: top;\n",
       "    }\n",
       "\n",
       "    .dataframe thead th {\n",
       "        text-align: right;\n",
       "    }\n",
       "</style>\n",
       "<table border=\"1\" class=\"dataframe\">\n",
       "  <thead>\n",
       "    <tr style=\"text-align: right;\">\n",
       "      <th></th>\n",
       "      <th>title</th>\n",
       "      <th>summary</th>\n",
       "      <th>time_published</th>\n",
       "      <th>authors</th>\n",
       "      <th>source</th>\n",
       "      <th>title_preprocessed</th>\n",
       "      <th>summary_preprocessed</th>\n",
       "    </tr>\n",
       "    <tr>\n",
       "      <th>newsID</th>\n",
       "      <th></th>\n",
       "      <th></th>\n",
       "      <th></th>\n",
       "      <th></th>\n",
       "      <th></th>\n",
       "      <th></th>\n",
       "      <th></th>\n",
       "    </tr>\n",
       "  </thead>\n",
       "  <tbody>\n",
       "    <tr>\n",
       "      <th>1</th>\n",
       "      <td>Oil prices could determine how markets react t...</td>\n",
       "      <td>The heavy new round of sanctions on Russia by ...</td>\n",
       "      <td>2022-03-01 00:02:02</td>\n",
       "      <td>[Patti Domm]</td>\n",
       "      <td>CNBC</td>\n",
       "      <td>[oil, price, could, determine, market, react, ...</td>\n",
       "      <td>[heavy, new, round, sanction, russia, ally, li...</td>\n",
       "    </tr>\n",
       "    <tr>\n",
       "      <th>2</th>\n",
       "      <td>Zoom provides disappointing revenue forecast f...</td>\n",
       "      <td>Zoom's revenue growth is continuing to slow af...</td>\n",
       "      <td>2022-03-01 00:15:56</td>\n",
       "      <td>[Jordan Novet]</td>\n",
       "      <td>CNBC</td>\n",
       "      <td>[zoom, provide, disappointing, revenue, foreca...</td>\n",
       "      <td>[zoom, revenue, growth, continue, slow, busine...</td>\n",
       "    </tr>\n",
       "    <tr>\n",
       "      <th>3</th>\n",
       "      <td>Wall Street rallies as West hits Russia with n...</td>\n",
       "      <td>The SP 500 rose more than 1%, ending a four-da...</td>\n",
       "      <td>2022-03-01 00:46:51</td>\n",
       "      <td>[]</td>\n",
       "      <td>Money Control</td>\n",
       "      <td>[wall, street, rally, west, hit, russia, new, ...</td>\n",
       "      <td>[rise, end, four, day, slide, amid, worry, esc...</td>\n",
       "    </tr>\n",
       "    <tr>\n",
       "      <th>4</th>\n",
       "      <td>Weak manufacturing drags down Q3 GDP growth, o...</td>\n",
       "      <td>India's economy grew 5.4% in the three months ...</td>\n",
       "      <td>2022-03-01 02:23:00</td>\n",
       "      <td>[www.ETCFO.com]</td>\n",
       "      <td>Economic Times</td>\n",
       "      <td>[weak, manufacturing, drag, gdp, growth, oil, ...</td>\n",
       "      <td>[india, economy, grow, three, month, end, dece...</td>\n",
       "    </tr>\n",
       "    <tr>\n",
       "      <th>5</th>\n",
       "      <td>Singapore banks halt lending for Russian goods...</td>\n",
       "      <td>Singapore's biggest banks are restricting trad...</td>\n",
       "      <td>2022-03-01 02:30:56</td>\n",
       "      <td>[Bloomberg]</td>\n",
       "      <td>South China Morning Post</td>\n",
       "      <td>[singapore, bank, halt, lend, russian, good, j...</td>\n",
       "      <td>[singapore, big, bank, restrict, trade, financ...</td>\n",
       "    </tr>\n",
       "  </tbody>\n",
       "</table>\n",
       "</div>"
      ],
      "text/plain": [
       "                                                    title  \\\n",
       "newsID                                                      \n",
       "1       Oil prices could determine how markets react t...   \n",
       "2       Zoom provides disappointing revenue forecast f...   \n",
       "3       Wall Street rallies as West hits Russia with n...   \n",
       "4       Weak manufacturing drags down Q3 GDP growth, o...   \n",
       "5       Singapore banks halt lending for Russian goods...   \n",
       "\n",
       "                                                  summary      time_published  \\\n",
       "newsID                                                                          \n",
       "1       The heavy new round of sanctions on Russia by ... 2022-03-01 00:02:02   \n",
       "2       Zoom's revenue growth is continuing to slow af... 2022-03-01 00:15:56   \n",
       "3       The SP 500 rose more than 1%, ending a four-da... 2022-03-01 00:46:51   \n",
       "4       India's economy grew 5.4% in the three months ... 2022-03-01 02:23:00   \n",
       "5       Singapore's biggest banks are restricting trad... 2022-03-01 02:30:56   \n",
       "\n",
       "                authors                    source  \\\n",
       "newsID                                              \n",
       "1          [Patti Domm]                      CNBC   \n",
       "2        [Jordan Novet]                      CNBC   \n",
       "3                    []             Money Control   \n",
       "4       [www.ETCFO.com]            Economic Times   \n",
       "5           [Bloomberg]  South China Morning Post   \n",
       "\n",
       "                                       title_preprocessed  \\\n",
       "newsID                                                      \n",
       "1       [oil, price, could, determine, market, react, ...   \n",
       "2       [zoom, provide, disappointing, revenue, foreca...   \n",
       "3       [wall, street, rally, west, hit, russia, new, ...   \n",
       "4       [weak, manufacturing, drag, gdp, growth, oil, ...   \n",
       "5       [singapore, bank, halt, lend, russian, good, j...   \n",
       "\n",
       "                                     summary_preprocessed  \n",
       "newsID                                                     \n",
       "1       [heavy, new, round, sanction, russia, ally, li...  \n",
       "2       [zoom, revenue, growth, continue, slow, busine...  \n",
       "3       [rise, end, four, day, slide, amid, worry, esc...  \n",
       "4       [india, economy, grow, three, month, end, dece...  \n",
       "5       [singapore, big, bank, restrict, trade, financ...  "
      ]
     },
     "execution_count": 5,
     "metadata": {},
     "output_type": "execute_result"
    }
   ],
   "source": [
    "df.head()"
   ]
  },
  {
   "cell_type": "code",
   "execution_count": 6,
   "metadata": {},
   "outputs": [
    {
     "data": {
      "application/vnd.microsoft.datawrangler.viewer.v0+json": {
       "columns": [
        {
         "name": "newsID",
         "rawType": "int64",
         "type": "integer"
        },
        {
         "name": "title_preprocessed",
         "rawType": "object",
         "type": "unknown"
        },
        {
         "name": "summary_preprocessed",
         "rawType": "object",
         "type": "unknown"
        }
       ],
       "conversionMethod": "pd.DataFrame",
       "ref": "754100f5-5db3-4574-9422-2475ed37478c",
       "rows": [
        [
         "1",
         "['oil', 'price', 'could', 'determine', 'market', 'react', 'russia', 'ukraine', 'invasion']",
         "['heavy', 'new', 'round', 'sanction', 'russia', 'ally', 'likely', 'push', 'oil', 'price', 'inflation', 'even', 'high']"
        ],
        [
         "2",
         "['zoom', 'provide', 'disappointing', 'revenue', 'forecast', 'first', 'quarter', 'full', 'year']",
         "['zoom', 'revenue', 'growth', 'continue', 'slow', 'business', 'surge', 'first', 'year', 'covid', 'pandemic']"
        ],
        [
         "3",
         "['wall', 'street', 'rally', 'west', 'hit', 'russia', 'new', 'sanction']",
         "['rise', 'end', 'four', 'day', 'slide', 'amid', 'worry', 'escalate', 'crisis', 'dow', 'also', 'end', 'positive', 'territory']"
        ],
        [
         "4",
         "['weak', 'manufacturing', 'drag', 'gdp', 'growth', 'oil', 'inflation', 'cast', 'shadow', 'future', 'growth', 'etcfo']",
         "['india', 'economy', 'grow', 'three', 'month', 'end', 'december', 'shade', 'low', 'basis', 'point', 'expect']"
        ],
        [
         "5",
         "['singapore', 'bank', 'halt', 'lend', 'russian', 'good', 'japan', 'imposes', 'sanction']",
         "['singapore', 'big', 'bank', 'restrict', 'trade', 'financing', 'russian', 'raw', 'material', 'war', 'ukraine', 'spur', 'lender', 'asia', 'large', 'energy', 'commodity', 'trade', 'hub', 'reduce', 'exposure', 'sanction', 'hit', 'country', 'limit', 'include', 'halt', 'issue', 'call', 'letter', 'credit', 'dollar']"
        ]
       ],
       "shape": {
        "columns": 2,
        "rows": 5
       }
      },
      "text/html": [
       "<div>\n",
       "<style scoped>\n",
       "    .dataframe tbody tr th:only-of-type {\n",
       "        vertical-align: middle;\n",
       "    }\n",
       "\n",
       "    .dataframe tbody tr th {\n",
       "        vertical-align: top;\n",
       "    }\n",
       "\n",
       "    .dataframe thead th {\n",
       "        text-align: right;\n",
       "    }\n",
       "</style>\n",
       "<table border=\"1\" class=\"dataframe\">\n",
       "  <thead>\n",
       "    <tr style=\"text-align: right;\">\n",
       "      <th></th>\n",
       "      <th>title_preprocessed</th>\n",
       "      <th>summary_preprocessed</th>\n",
       "    </tr>\n",
       "    <tr>\n",
       "      <th>newsID</th>\n",
       "      <th></th>\n",
       "      <th></th>\n",
       "    </tr>\n",
       "  </thead>\n",
       "  <tbody>\n",
       "    <tr>\n",
       "      <th>1</th>\n",
       "      <td>[oil, price, could, determine, market, react, ...</td>\n",
       "      <td>[heavy, new, round, sanction, russia, ally, li...</td>\n",
       "    </tr>\n",
       "    <tr>\n",
       "      <th>2</th>\n",
       "      <td>[zoom, provide, disappointing, revenue, foreca...</td>\n",
       "      <td>[zoom, revenue, growth, continue, slow, busine...</td>\n",
       "    </tr>\n",
       "    <tr>\n",
       "      <th>3</th>\n",
       "      <td>[wall, street, rally, west, hit, russia, new, ...</td>\n",
       "      <td>[rise, end, four, day, slide, amid, worry, esc...</td>\n",
       "    </tr>\n",
       "    <tr>\n",
       "      <th>4</th>\n",
       "      <td>[weak, manufacturing, drag, gdp, growth, oil, ...</td>\n",
       "      <td>[india, economy, grow, three, month, end, dece...</td>\n",
       "    </tr>\n",
       "    <tr>\n",
       "      <th>5</th>\n",
       "      <td>[singapore, bank, halt, lend, russian, good, j...</td>\n",
       "      <td>[singapore, big, bank, restrict, trade, financ...</td>\n",
       "    </tr>\n",
       "  </tbody>\n",
       "</table>\n",
       "</div>"
      ],
      "text/plain": [
       "                                       title_preprocessed  \\\n",
       "newsID                                                      \n",
       "1       [oil, price, could, determine, market, react, ...   \n",
       "2       [zoom, provide, disappointing, revenue, foreca...   \n",
       "3       [wall, street, rally, west, hit, russia, new, ...   \n",
       "4       [weak, manufacturing, drag, gdp, growth, oil, ...   \n",
       "5       [singapore, bank, halt, lend, russian, good, j...   \n",
       "\n",
       "                                     summary_preprocessed  \n",
       "newsID                                                     \n",
       "1       [heavy, new, round, sanction, russia, ally, li...  \n",
       "2       [zoom, revenue, growth, continue, slow, busine...  \n",
       "3       [rise, end, four, day, slide, amid, worry, esc...  \n",
       "4       [india, economy, grow, three, month, end, dece...  \n",
       "5       [singapore, big, bank, restrict, trade, financ...  "
      ]
     },
     "execution_count": 6,
     "metadata": {},
     "output_type": "execute_result"
    }
   ],
   "source": [
    "df = df[['title_preprocessed', 'summary_preprocessed']]\n",
    "df.head()"
   ]
  },
  {
   "cell_type": "code",
   "execution_count": 7,
   "metadata": {},
   "outputs": [],
   "source": [
    "df.to_parquet('data/text_preprocessed.parquet')"
   ]
  }
 ],
 "metadata": {
  "kernelspec": {
   "display_name": "Python 3",
   "language": "python",
   "name": "python3"
  },
  "language_info": {
   "codemirror_mode": {
    "name": "ipython",
    "version": 3
   },
   "file_extension": ".py",
   "mimetype": "text/x-python",
   "name": "python",
   "nbconvert_exporter": "python",
   "pygments_lexer": "ipython3",
   "version": "3.12.9"
  }
 },
 "nbformat": 4,
 "nbformat_minor": 2
}
