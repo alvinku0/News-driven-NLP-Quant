{
 "cells": [
  {
   "cell_type": "code",
   "execution_count": 1,
   "id": "704e3d34",
   "metadata": {},
   "outputs": [
    {
     "name": "stderr",
     "output_type": "stream",
     "text": [
      "c:\\Users\\phku0\\AppData\\Local\\Programs\\Python\\Python312\\Lib\\site-packages\\tqdm\\auto.py:21: TqdmWarning: IProgress not found. Please update jupyter and ipywidgets. See https://ipywidgets.readthedocs.io/en/stable/user_install.html\n",
      "  from .autonotebook import tqdm as notebook_tqdm\n"
     ]
    }
   ],
   "source": [
    "import pandas as pd\n",
    "import numpy as np\n",
    "import swifter"
   ]
  },
  {
   "cell_type": "code",
   "execution_count": 2,
   "id": "dfd1d92c",
   "metadata": {},
   "outputs": [
    {
     "name": "stdout",
     "output_type": "stream",
     "text": [
      "(1904665, 21)\n"
     ]
    },
    {
     "data": {
      "application/vnd.microsoft.datawrangler.viewer.v0+json": {
       "columns": [
        {
         "name": "newsID",
         "rawType": "int64",
         "type": "integer"
        },
        {
         "name": "title_preprocessed",
         "rawType": "object",
         "type": "unknown"
        },
        {
         "name": "summary_preprocessed",
         "rawType": "object",
         "type": "unknown"
        },
        {
         "name": "title",
         "rawType": "object",
         "type": "string"
        },
        {
         "name": "summary",
         "rawType": "object",
         "type": "string"
        },
        {
         "name": "time_published",
         "rawType": "datetime64[ns]",
         "type": "datetime"
        },
        {
         "name": "source",
         "rawType": "object",
         "type": "string"
        },
        {
         "name": "title_sentiment_finbert",
         "rawType": "object",
         "type": "unknown"
        },
        {
         "name": "summary_sentiment_finbert",
         "rawType": "object",
         "type": "unknown"
        },
        {
         "name": "title_sentiment_vader",
         "rawType": "float64",
         "type": "float"
        },
        {
         "name": "summary_sentiment_vader",
         "rawType": "float64",
         "type": "float"
        },
        {
         "name": "NER",
         "rawType": "object",
         "type": "unknown"
        },
        {
         "name": "topic_announcements",
         "rawType": "bool",
         "type": "boolean"
        },
        {
         "name": "topic_market_movements",
         "rawType": "bool",
         "type": "boolean"
        },
        {
         "name": "topic_legal_actions",
         "rawType": "bool",
         "type": "boolean"
        },
        {
         "name": "topic_investment_sentiment",
         "rawType": "bool",
         "type": "boolean"
        },
        {
         "name": "topic_earnings",
         "rawType": "bool",
         "type": "boolean"
        },
        {
         "name": "topic_analyst_ratings",
         "rawType": "bool",
         "type": "boolean"
        },
        {
         "name": "topic_macro_econ",
         "rawType": "bool",
         "type": "boolean"
        },
        {
         "name": "topic_research_insights",
         "rawType": "bool",
         "type": "boolean"
        },
        {
         "name": "company_names",
         "rawType": "object",
         "type": "unknown"
        },
        {
         "name": "stock_tickers",
         "rawType": "object",
         "type": "unknown"
        }
       ],
       "conversionMethod": "pd.DataFrame",
       "ref": "d6ab492e-7ef8-4bc9-ac50-cb19baf76507",
       "rows": [
        [
         "1",
         "['oil' 'price' 'could' 'determine' 'market' 'react' 'russia' 'ukraine'\n 'invasion']",
         "['heavy' 'new' 'round' 'sanction' 'russia' 'ally' 'likely' 'push' 'oil'\n 'price' 'inflation' 'even' 'high']",
         "Oil prices could determine how markets react to Russia's Ukraine invasion",
         "The heavy new round of sanctions on Russia by the U.S. and its allies are likely to push oil prices - and inflation - even higher.",
         "2022-03-01 00:02:02",
         "CNBC",
         "{'label': 'Negative', 'score': 0.63124018907547}",
         "{'label': 'Negative', 'score': 0.6197944283485413}",
         "0.0",
         "0.0",
         "[array(['Russia', 'GPE'], dtype=object)\n array(['Ukraine', 'GPE'], dtype=object)\n array(['Russia', 'GPE'], dtype=object)\n array(['U.S.', 'GPE'], dtype=object)]",
         "False",
         "False",
         "False",
         "False",
         "False",
         "False",
         "True",
         "False",
         "[]",
         "[]"
        ],
        [
         "2",
         "['zoom' 'provide' 'disappointing' 'revenue' 'forecast' 'first' 'quarter'\n 'full' 'year']",
         "['zoom' 'revenue' 'growth' 'continue' 'slow' 'business' 'surge' 'first'\n 'year' 'covid' 'pandemic']",
         "Zoom provides disappointing revenue forecast for first quarter and full year",
         "Zoom's revenue growth is continuing to slow after its business surged during the first year of the Covid-19 pandemic.",
         "2022-03-01 00:15:56",
         "CNBC",
         "{'label': 'Negative', 'score': 0.9999985694885254}",
         "{'label': 'Negative', 'score': 0.9999996423721313}",
         "-0.4939",
         "0.3818",
         "[array(['Zoom', 'ORG'], dtype=object)\n array(['first quarter', 'DATE'], dtype=object)\n array(['Zoom', 'ORG'], dtype=object)\n array(['the first year', 'DATE'], dtype=object)]",
         "False",
         "False",
         "False",
         "False",
         "False",
         "False",
         "True",
         "False",
         "['Zoom']",
         "[]"
        ],
        [
         "3",
         "['wall' 'street' 'rally' 'west' 'hit' 'russia' 'new' 'sanction']",
         "['rise' 'end' 'four' 'day' 'slide' 'amid' 'worry' 'escalate' 'crisis'\n 'dow' 'also' 'end' 'positive' 'territory']",
         "Wall Street rallies as West hits Russia with new sanctions",
         "The SP 500 rose more than 1%, ending a four-day slide amid worries over the escalating crisis. The Dow also ended in positive territory.",
         "2022-03-01 00:46:51",
         "Money Control",
         "{'label': 'Neutral', 'score': 0.9479693174362183}",
         "{'label': 'Positive', 'score': 0.9999978542327881}",
         "0.0",
         "-0.5106",
         "[array(['Russia', 'GPE'], dtype=object)\n array(['more than 1%', 'PERCENT'], dtype=object)\n array(['four-day', 'DATE'], dtype=object)]",
         "False",
         "False",
         "False",
         "False",
         "True",
         "False",
         "False",
         "False",
         "[]",
         "[]"
        ],
        [
         "4",
         "['weak' 'manufacturing' 'drag' 'gdp' 'growth' 'oil' 'inflation' 'cast'\n 'shadow' 'future' 'growth' 'etcfo']",
         "['india' 'economy' 'grow' 'three' 'month' 'end' 'december' 'shade' 'low'\n 'basis' 'point' 'expect']",
         "Weak manufacturing drags down Q3 GDP growth, oil inflation casts a shadow on future growth - ETCFO",
         "India's economy grew 5.4% in the three months ended December, a shade lower by about 30-40 basis points expected.",
         "2022-03-01 02:23:00",
         "Economic Times",
         "{'label': 'Negative', 'score': 0.9999984502792358}",
         "{'label': 'Negative', 'score': 0.9954470992088318}",
         "0.1531",
         "-0.296",
         "[array(['Q3', 'DATE'], dtype=object) array(['India', 'GPE'], dtype=object)\n array(['5.4%', 'PERCENT'], dtype=object)\n array(['the three months ended December', 'DATE'], dtype=object)\n array(['about 30-40', 'CARDINAL'], dtype=object)]",
         "False",
         "False",
         "False",
         "False",
         "False",
         "False",
         "True",
         "False",
         "[]",
         "[]"
        ],
        [
         "5",
         "['singapore' 'bank' 'halt' 'lend' 'russian' 'good' 'japan' 'imposes'\n 'sanction']",
         "['singapore' 'big' 'bank' 'restrict' 'trade' 'financing' 'russian' 'raw'\n 'material' 'war' 'ukraine' 'spur' 'lender' 'asia' 'large' 'energy'\n 'commodity' 'trade' 'hub' 'reduce' 'exposure' 'sanction' 'hit' 'country'\n 'limit' 'include' 'halt' 'issue' 'call' 'letter' 'credit' 'dollar']",
         "Singapore banks halt lending for Russian goods; Japan imposes more sanctions",
         "Singapore's biggest banks are restricting trade financing for Russian raw materials, as the war in Ukraine spurs lenders in Asia's largest energy and commodities trading hub to reduce exposure to the sanction-hit country.The limits include a halt on issuing so-called letters of credit in US dollars ",
         "2022-03-01 02:30:56",
         "South China Morning Post",
         "{'label': 'Negative', 'score': 0.9858503937721252}",
         "{'label': 'Negative', 'score': 0.9719559550285339}",
         "-0.1027",
         "-0.4215",
         "[array(['Singapore', 'GPE'], dtype=object)\n array(['Russian', 'NORP'], dtype=object)\n array(['Japan', 'GPE'], dtype=object)\n array(['Singapore', 'GPE'], dtype=object)\n array(['Russian', 'NORP'], dtype=object)\n array(['Ukraine', 'GPE'], dtype=object)\n array(['Asia', 'LOC'], dtype=object) array(['US', 'GPE'], dtype=object)]",
         "False",
         "False",
         "False",
         "False",
         "False",
         "False",
         "False",
         "True",
         "[]",
         "[]"
        ]
       ],
       "shape": {
        "columns": 21,
        "rows": 5
       }
      },
      "text/html": [
       "<div>\n",
       "<style scoped>\n",
       "    .dataframe tbody tr th:only-of-type {\n",
       "        vertical-align: middle;\n",
       "    }\n",
       "\n",
       "    .dataframe tbody tr th {\n",
       "        vertical-align: top;\n",
       "    }\n",
       "\n",
       "    .dataframe thead th {\n",
       "        text-align: right;\n",
       "    }\n",
       "</style>\n",
       "<table border=\"1\" class=\"dataframe\">\n",
       "  <thead>\n",
       "    <tr style=\"text-align: right;\">\n",
       "      <th></th>\n",
       "      <th>title_preprocessed</th>\n",
       "      <th>summary_preprocessed</th>\n",
       "      <th>title</th>\n",
       "      <th>summary</th>\n",
       "      <th>time_published</th>\n",
       "      <th>source</th>\n",
       "      <th>title_sentiment_finbert</th>\n",
       "      <th>summary_sentiment_finbert</th>\n",
       "      <th>title_sentiment_vader</th>\n",
       "      <th>summary_sentiment_vader</th>\n",
       "      <th>...</th>\n",
       "      <th>topic_announcements</th>\n",
       "      <th>topic_market_movements</th>\n",
       "      <th>topic_legal_actions</th>\n",
       "      <th>topic_investment_sentiment</th>\n",
       "      <th>topic_earnings</th>\n",
       "      <th>topic_analyst_ratings</th>\n",
       "      <th>topic_macro_econ</th>\n",
       "      <th>topic_research_insights</th>\n",
       "      <th>company_names</th>\n",
       "      <th>stock_tickers</th>\n",
       "    </tr>\n",
       "    <tr>\n",
       "      <th>newsID</th>\n",
       "      <th></th>\n",
       "      <th></th>\n",
       "      <th></th>\n",
       "      <th></th>\n",
       "      <th></th>\n",
       "      <th></th>\n",
       "      <th></th>\n",
       "      <th></th>\n",
       "      <th></th>\n",
       "      <th></th>\n",
       "      <th></th>\n",
       "      <th></th>\n",
       "      <th></th>\n",
       "      <th></th>\n",
       "      <th></th>\n",
       "      <th></th>\n",
       "      <th></th>\n",
       "      <th></th>\n",
       "      <th></th>\n",
       "      <th></th>\n",
       "      <th></th>\n",
       "    </tr>\n",
       "  </thead>\n",
       "  <tbody>\n",
       "    <tr>\n",
       "      <th>1</th>\n",
       "      <td>[oil, price, could, determine, market, react, ...</td>\n",
       "      <td>[heavy, new, round, sanction, russia, ally, li...</td>\n",
       "      <td>Oil prices could determine how markets react t...</td>\n",
       "      <td>The heavy new round of sanctions on Russia by ...</td>\n",
       "      <td>2022-03-01 00:02:02</td>\n",
       "      <td>CNBC</td>\n",
       "      <td>{'label': 'Negative', 'score': 0.63124018907547}</td>\n",
       "      <td>{'label': 'Negative', 'score': 0.6197944283485...</td>\n",
       "      <td>0.0000</td>\n",
       "      <td>0.0000</td>\n",
       "      <td>...</td>\n",
       "      <td>False</td>\n",
       "      <td>False</td>\n",
       "      <td>False</td>\n",
       "      <td>False</td>\n",
       "      <td>False</td>\n",
       "      <td>False</td>\n",
       "      <td>True</td>\n",
       "      <td>False</td>\n",
       "      <td>[]</td>\n",
       "      <td>[]</td>\n",
       "    </tr>\n",
       "    <tr>\n",
       "      <th>2</th>\n",
       "      <td>[zoom, provide, disappointing, revenue, foreca...</td>\n",
       "      <td>[zoom, revenue, growth, continue, slow, busine...</td>\n",
       "      <td>Zoom provides disappointing revenue forecast f...</td>\n",
       "      <td>Zoom's revenue growth is continuing to slow af...</td>\n",
       "      <td>2022-03-01 00:15:56</td>\n",
       "      <td>CNBC</td>\n",
       "      <td>{'label': 'Negative', 'score': 0.9999985694885...</td>\n",
       "      <td>{'label': 'Negative', 'score': 0.9999996423721...</td>\n",
       "      <td>-0.4939</td>\n",
       "      <td>0.3818</td>\n",
       "      <td>...</td>\n",
       "      <td>False</td>\n",
       "      <td>False</td>\n",
       "      <td>False</td>\n",
       "      <td>False</td>\n",
       "      <td>False</td>\n",
       "      <td>False</td>\n",
       "      <td>True</td>\n",
       "      <td>False</td>\n",
       "      <td>[Zoom]</td>\n",
       "      <td>[]</td>\n",
       "    </tr>\n",
       "    <tr>\n",
       "      <th>3</th>\n",
       "      <td>[wall, street, rally, west, hit, russia, new, ...</td>\n",
       "      <td>[rise, end, four, day, slide, amid, worry, esc...</td>\n",
       "      <td>Wall Street rallies as West hits Russia with n...</td>\n",
       "      <td>The SP 500 rose more than 1%, ending a four-da...</td>\n",
       "      <td>2022-03-01 00:46:51</td>\n",
       "      <td>Money Control</td>\n",
       "      <td>{'label': 'Neutral', 'score': 0.9479693174362183}</td>\n",
       "      <td>{'label': 'Positive', 'score': 0.9999978542327...</td>\n",
       "      <td>0.0000</td>\n",
       "      <td>-0.5106</td>\n",
       "      <td>...</td>\n",
       "      <td>False</td>\n",
       "      <td>False</td>\n",
       "      <td>False</td>\n",
       "      <td>False</td>\n",
       "      <td>True</td>\n",
       "      <td>False</td>\n",
       "      <td>False</td>\n",
       "      <td>False</td>\n",
       "      <td>[]</td>\n",
       "      <td>[]</td>\n",
       "    </tr>\n",
       "    <tr>\n",
       "      <th>4</th>\n",
       "      <td>[weak, manufacturing, drag, gdp, growth, oil, ...</td>\n",
       "      <td>[india, economy, grow, three, month, end, dece...</td>\n",
       "      <td>Weak manufacturing drags down Q3 GDP growth, o...</td>\n",
       "      <td>India's economy grew 5.4% in the three months ...</td>\n",
       "      <td>2022-03-01 02:23:00</td>\n",
       "      <td>Economic Times</td>\n",
       "      <td>{'label': 'Negative', 'score': 0.9999984502792...</td>\n",
       "      <td>{'label': 'Negative', 'score': 0.9954470992088...</td>\n",
       "      <td>0.1531</td>\n",
       "      <td>-0.2960</td>\n",
       "      <td>...</td>\n",
       "      <td>False</td>\n",
       "      <td>False</td>\n",
       "      <td>False</td>\n",
       "      <td>False</td>\n",
       "      <td>False</td>\n",
       "      <td>False</td>\n",
       "      <td>True</td>\n",
       "      <td>False</td>\n",
       "      <td>[]</td>\n",
       "      <td>[]</td>\n",
       "    </tr>\n",
       "    <tr>\n",
       "      <th>5</th>\n",
       "      <td>[singapore, bank, halt, lend, russian, good, j...</td>\n",
       "      <td>[singapore, big, bank, restrict, trade, financ...</td>\n",
       "      <td>Singapore banks halt lending for Russian goods...</td>\n",
       "      <td>Singapore's biggest banks are restricting trad...</td>\n",
       "      <td>2022-03-01 02:30:56</td>\n",
       "      <td>South China Morning Post</td>\n",
       "      <td>{'label': 'Negative', 'score': 0.9858503937721...</td>\n",
       "      <td>{'label': 'Negative', 'score': 0.9719559550285...</td>\n",
       "      <td>-0.1027</td>\n",
       "      <td>-0.4215</td>\n",
       "      <td>...</td>\n",
       "      <td>False</td>\n",
       "      <td>False</td>\n",
       "      <td>False</td>\n",
       "      <td>False</td>\n",
       "      <td>False</td>\n",
       "      <td>False</td>\n",
       "      <td>False</td>\n",
       "      <td>True</td>\n",
       "      <td>[]</td>\n",
       "      <td>[]</td>\n",
       "    </tr>\n",
       "  </tbody>\n",
       "</table>\n",
       "<p>5 rows × 21 columns</p>\n",
       "</div>"
      ],
      "text/plain": [
       "                                       title_preprocessed  \\\n",
       "newsID                                                      \n",
       "1       [oil, price, could, determine, market, react, ...   \n",
       "2       [zoom, provide, disappointing, revenue, foreca...   \n",
       "3       [wall, street, rally, west, hit, russia, new, ...   \n",
       "4       [weak, manufacturing, drag, gdp, growth, oil, ...   \n",
       "5       [singapore, bank, halt, lend, russian, good, j...   \n",
       "\n",
       "                                     summary_preprocessed  \\\n",
       "newsID                                                      \n",
       "1       [heavy, new, round, sanction, russia, ally, li...   \n",
       "2       [zoom, revenue, growth, continue, slow, busine...   \n",
       "3       [rise, end, four, day, slide, amid, worry, esc...   \n",
       "4       [india, economy, grow, three, month, end, dece...   \n",
       "5       [singapore, big, bank, restrict, trade, financ...   \n",
       "\n",
       "                                                    title  \\\n",
       "newsID                                                      \n",
       "1       Oil prices could determine how markets react t...   \n",
       "2       Zoom provides disappointing revenue forecast f...   \n",
       "3       Wall Street rallies as West hits Russia with n...   \n",
       "4       Weak manufacturing drags down Q3 GDP growth, o...   \n",
       "5       Singapore banks halt lending for Russian goods...   \n",
       "\n",
       "                                                  summary      time_published  \\\n",
       "newsID                                                                          \n",
       "1       The heavy new round of sanctions on Russia by ... 2022-03-01 00:02:02   \n",
       "2       Zoom's revenue growth is continuing to slow af... 2022-03-01 00:15:56   \n",
       "3       The SP 500 rose more than 1%, ending a four-da... 2022-03-01 00:46:51   \n",
       "4       India's economy grew 5.4% in the three months ... 2022-03-01 02:23:00   \n",
       "5       Singapore's biggest banks are restricting trad... 2022-03-01 02:30:56   \n",
       "\n",
       "                          source  \\\n",
       "newsID                             \n",
       "1                           CNBC   \n",
       "2                           CNBC   \n",
       "3                  Money Control   \n",
       "4                 Economic Times   \n",
       "5       South China Morning Post   \n",
       "\n",
       "                                  title_sentiment_finbert  \\\n",
       "newsID                                                      \n",
       "1        {'label': 'Negative', 'score': 0.63124018907547}   \n",
       "2       {'label': 'Negative', 'score': 0.9999985694885...   \n",
       "3       {'label': 'Neutral', 'score': 0.9479693174362183}   \n",
       "4       {'label': 'Negative', 'score': 0.9999984502792...   \n",
       "5       {'label': 'Negative', 'score': 0.9858503937721...   \n",
       "\n",
       "                                summary_sentiment_finbert  \\\n",
       "newsID                                                      \n",
       "1       {'label': 'Negative', 'score': 0.6197944283485...   \n",
       "2       {'label': 'Negative', 'score': 0.9999996423721...   \n",
       "3       {'label': 'Positive', 'score': 0.9999978542327...   \n",
       "4       {'label': 'Negative', 'score': 0.9954470992088...   \n",
       "5       {'label': 'Negative', 'score': 0.9719559550285...   \n",
       "\n",
       "        title_sentiment_vader  summary_sentiment_vader  ...  \\\n",
       "newsID                                                  ...   \n",
       "1                      0.0000                   0.0000  ...   \n",
       "2                     -0.4939                   0.3818  ...   \n",
       "3                      0.0000                  -0.5106  ...   \n",
       "4                      0.1531                  -0.2960  ...   \n",
       "5                     -0.1027                  -0.4215  ...   \n",
       "\n",
       "       topic_announcements  topic_market_movements  topic_legal_actions  \\\n",
       "newsID                                                                    \n",
       "1                    False                   False                False   \n",
       "2                    False                   False                False   \n",
       "3                    False                   False                False   \n",
       "4                    False                   False                False   \n",
       "5                    False                   False                False   \n",
       "\n",
       "        topic_investment_sentiment  topic_earnings  topic_analyst_ratings  \\\n",
       "newsID                                                                      \n",
       "1                            False           False                  False   \n",
       "2                            False           False                  False   \n",
       "3                            False            True                  False   \n",
       "4                            False           False                  False   \n",
       "5                            False           False                  False   \n",
       "\n",
       "        topic_macro_econ  topic_research_insights  company_names stock_tickers  \n",
       "newsID                                                                          \n",
       "1                   True                    False             []            []  \n",
       "2                   True                    False         [Zoom]            []  \n",
       "3                  False                    False             []            []  \n",
       "4                   True                    False             []            []  \n",
       "5                  False                     True             []            []  \n",
       "\n",
       "[5 rows x 21 columns]"
      ]
     },
     "execution_count": 2,
     "metadata": {},
     "output_type": "execute_result"
    }
   ],
   "source": [
    "df = pd.read_parquet('merged_data/news_with_features_merged.parquet')\n",
    "print(df.shape)\n",
    "df.head()"
   ]
  },
  {
   "cell_type": "code",
   "execution_count": 3,
   "id": "a46576dc",
   "metadata": {},
   "outputs": [
    {
     "data": {
      "application/vnd.microsoft.datawrangler.viewer.v0+json": {
       "columns": [
        {
         "name": "newsID",
         "rawType": "int64",
         "type": "integer"
        },
        {
         "name": "title_preprocessed",
         "rawType": "object",
         "type": "unknown"
        },
        {
         "name": "summary_preprocessed",
         "rawType": "object",
         "type": "unknown"
        },
        {
         "name": "stock_tickers",
         "rawType": "object",
         "type": "unknown"
        }
       ],
       "conversionMethod": "pd.DataFrame",
       "ref": "1ed7ca61-20d5-4a74-889d-7293a604b4f1",
       "rows": [
        [
         "1",
         "['oil' 'price' 'could' 'determine' 'market' 'react' 'russia' 'ukraine'\n 'invasion']",
         "['heavy' 'new' 'round' 'sanction' 'russia' 'ally' 'likely' 'push' 'oil'\n 'price' 'inflation' 'even' 'high']",
         "[]"
        ],
        [
         "2",
         "['zoom' 'provide' 'disappointing' 'revenue' 'forecast' 'first' 'quarter'\n 'full' 'year']",
         "['zoom' 'revenue' 'growth' 'continue' 'slow' 'business' 'surge' 'first'\n 'year' 'covid' 'pandemic']",
         "[]"
        ],
        [
         "3",
         "['wall' 'street' 'rally' 'west' 'hit' 'russia' 'new' 'sanction']",
         "['rise' 'end' 'four' 'day' 'slide' 'amid' 'worry' 'escalate' 'crisis'\n 'dow' 'also' 'end' 'positive' 'territory']",
         "[]"
        ],
        [
         "4",
         "['weak' 'manufacturing' 'drag' 'gdp' 'growth' 'oil' 'inflation' 'cast'\n 'shadow' 'future' 'growth' 'etcfo']",
         "['india' 'economy' 'grow' 'three' 'month' 'end' 'december' 'shade' 'low'\n 'basis' 'point' 'expect']",
         "[]"
        ],
        [
         "5",
         "['singapore' 'bank' 'halt' 'lend' 'russian' 'good' 'japan' 'imposes'\n 'sanction']",
         "['singapore' 'big' 'bank' 'restrict' 'trade' 'financing' 'russian' 'raw'\n 'material' 'war' 'ukraine' 'spur' 'lender' 'asia' 'large' 'energy'\n 'commodity' 'trade' 'hub' 'reduce' 'exposure' 'sanction' 'hit' 'country'\n 'limit' 'include' 'halt' 'issue' 'call' 'letter' 'credit' 'dollar']",
         "[]"
        ]
       ],
       "shape": {
        "columns": 3,
        "rows": 5
       }
      },
      "text/html": [
       "<div>\n",
       "<style scoped>\n",
       "    .dataframe tbody tr th:only-of-type {\n",
       "        vertical-align: middle;\n",
       "    }\n",
       "\n",
       "    .dataframe tbody tr th {\n",
       "        vertical-align: top;\n",
       "    }\n",
       "\n",
       "    .dataframe thead th {\n",
       "        text-align: right;\n",
       "    }\n",
       "</style>\n",
       "<table border=\"1\" class=\"dataframe\">\n",
       "  <thead>\n",
       "    <tr style=\"text-align: right;\">\n",
       "      <th></th>\n",
       "      <th>title_preprocessed</th>\n",
       "      <th>summary_preprocessed</th>\n",
       "      <th>stock_tickers</th>\n",
       "    </tr>\n",
       "    <tr>\n",
       "      <th>newsID</th>\n",
       "      <th></th>\n",
       "      <th></th>\n",
       "      <th></th>\n",
       "    </tr>\n",
       "  </thead>\n",
       "  <tbody>\n",
       "    <tr>\n",
       "      <th>1</th>\n",
       "      <td>[oil, price, could, determine, market, react, ...</td>\n",
       "      <td>[heavy, new, round, sanction, russia, ally, li...</td>\n",
       "      <td>[]</td>\n",
       "    </tr>\n",
       "    <tr>\n",
       "      <th>2</th>\n",
       "      <td>[zoom, provide, disappointing, revenue, foreca...</td>\n",
       "      <td>[zoom, revenue, growth, continue, slow, busine...</td>\n",
       "      <td>[]</td>\n",
       "    </tr>\n",
       "    <tr>\n",
       "      <th>3</th>\n",
       "      <td>[wall, street, rally, west, hit, russia, new, ...</td>\n",
       "      <td>[rise, end, four, day, slide, amid, worry, esc...</td>\n",
       "      <td>[]</td>\n",
       "    </tr>\n",
       "    <tr>\n",
       "      <th>4</th>\n",
       "      <td>[weak, manufacturing, drag, gdp, growth, oil, ...</td>\n",
       "      <td>[india, economy, grow, three, month, end, dece...</td>\n",
       "      <td>[]</td>\n",
       "    </tr>\n",
       "    <tr>\n",
       "      <th>5</th>\n",
       "      <td>[singapore, bank, halt, lend, russian, good, j...</td>\n",
       "      <td>[singapore, big, bank, restrict, trade, financ...</td>\n",
       "      <td>[]</td>\n",
       "    </tr>\n",
       "  </tbody>\n",
       "</table>\n",
       "</div>"
      ],
      "text/plain": [
       "                                       title_preprocessed  \\\n",
       "newsID                                                      \n",
       "1       [oil, price, could, determine, market, react, ...   \n",
       "2       [zoom, provide, disappointing, revenue, foreca...   \n",
       "3       [wall, street, rally, west, hit, russia, new, ...   \n",
       "4       [weak, manufacturing, drag, gdp, growth, oil, ...   \n",
       "5       [singapore, bank, halt, lend, russian, good, j...   \n",
       "\n",
       "                                     summary_preprocessed stock_tickers  \n",
       "newsID                                                                   \n",
       "1       [heavy, new, round, sanction, russia, ally, li...            []  \n",
       "2       [zoom, revenue, growth, continue, slow, busine...            []  \n",
       "3       [rise, end, four, day, slide, amid, worry, esc...            []  \n",
       "4       [india, economy, grow, three, month, end, dece...            []  \n",
       "5       [singapore, big, bank, restrict, trade, financ...            []  "
      ]
     },
     "execution_count": 3,
     "metadata": {},
     "output_type": "execute_result"
    }
   ],
   "source": [
    "df = df[['title_preprocessed', 'summary_preprocessed', 'stock_tickers']]\n",
    "df.head()"
   ]
  },
  {
   "cell_type": "code",
   "execution_count": 4,
   "id": "8713dcb5",
   "metadata": {},
   "outputs": [
    {
     "name": "stderr",
     "output_type": "stream",
     "text": [
      "Pandas Apply: 100%|██████████| 1904665/1904665 [00:14<00:00, 130111.80it/s]\n"
     ]
    },
    {
     "data": {
      "application/vnd.microsoft.datawrangler.viewer.v0+json": {
       "columns": [
        {
         "name": "newsID",
         "rawType": "int64",
         "type": "integer"
        },
        {
         "name": "stock_tickers",
         "rawType": "object",
         "type": "unknown"
        },
        {
         "name": "text_tokens",
         "rawType": "object",
         "type": "unknown"
        }
       ],
       "conversionMethod": "pd.DataFrame",
       "ref": "cb14aa02-9c1f-4d2c-b295-626ca6708b78",
       "rows": [
        [
         "1",
         "[]",
         "['oil', 'price', 'could', 'determine', 'market', 'react', 'russia', 'ukraine', 'invasion', 'heavy', 'new', 'round', 'sanction', 'russia', 'ally', 'likely', 'push', 'oil', 'price', 'inflation', 'even', 'high']"
        ],
        [
         "2",
         "[]",
         "['zoom', 'provide', 'disappointing', 'revenue', 'forecast', 'first', 'quarter', 'full', 'year', 'zoom', 'revenue', 'growth', 'continue', 'slow', 'business', 'surge', 'first', 'year', 'covid', 'pandemic']"
        ],
        [
         "3",
         "[]",
         "['wall', 'street', 'rally', 'west', 'hit', 'russia', 'new', 'sanction', 'rise', 'end', 'four', 'day', 'slide', 'amid', 'worry', 'escalate', 'crisis', 'dow', 'also', 'end', 'positive', 'territory']"
        ],
        [
         "4",
         "[]",
         "['weak', 'manufacturing', 'drag', 'gdp', 'growth', 'oil', 'inflation', 'cast', 'shadow', 'future', 'growth', 'etcfo', 'india', 'economy', 'grow', 'three', 'month', 'end', 'december', 'shade', 'low', 'basis', 'point', 'expect']"
        ],
        [
         "5",
         "[]",
         "['singapore', 'bank', 'halt', 'lend', 'russian', 'good', 'japan', 'imposes', 'sanction', 'singapore', 'big', 'bank', 'restrict', 'trade', 'financing', 'russian', 'raw', 'material', 'war', 'ukraine', 'spur', 'lender', 'asia', 'large', 'energy', 'commodity', 'trade', 'hub', 'reduce', 'exposure', 'sanction', 'hit', 'country', 'limit', 'include', 'halt', 'issue', 'call', 'letter', 'credit', 'dollar']"
        ]
       ],
       "shape": {
        "columns": 2,
        "rows": 5
       }
      },
      "text/html": [
       "<div>\n",
       "<style scoped>\n",
       "    .dataframe tbody tr th:only-of-type {\n",
       "        vertical-align: middle;\n",
       "    }\n",
       "\n",
       "    .dataframe tbody tr th {\n",
       "        vertical-align: top;\n",
       "    }\n",
       "\n",
       "    .dataframe thead th {\n",
       "        text-align: right;\n",
       "    }\n",
       "</style>\n",
       "<table border=\"1\" class=\"dataframe\">\n",
       "  <thead>\n",
       "    <tr style=\"text-align: right;\">\n",
       "      <th></th>\n",
       "      <th>stock_tickers</th>\n",
       "      <th>text_tokens</th>\n",
       "    </tr>\n",
       "    <tr>\n",
       "      <th>newsID</th>\n",
       "      <th></th>\n",
       "      <th></th>\n",
       "    </tr>\n",
       "  </thead>\n",
       "  <tbody>\n",
       "    <tr>\n",
       "      <th>1</th>\n",
       "      <td>[]</td>\n",
       "      <td>[oil, price, could, determine, market, react, ...</td>\n",
       "    </tr>\n",
       "    <tr>\n",
       "      <th>2</th>\n",
       "      <td>[]</td>\n",
       "      <td>[zoom, provide, disappointing, revenue, foreca...</td>\n",
       "    </tr>\n",
       "    <tr>\n",
       "      <th>3</th>\n",
       "      <td>[]</td>\n",
       "      <td>[wall, street, rally, west, hit, russia, new, ...</td>\n",
       "    </tr>\n",
       "    <tr>\n",
       "      <th>4</th>\n",
       "      <td>[]</td>\n",
       "      <td>[weak, manufacturing, drag, gdp, growth, oil, ...</td>\n",
       "    </tr>\n",
       "    <tr>\n",
       "      <th>5</th>\n",
       "      <td>[]</td>\n",
       "      <td>[singapore, bank, halt, lend, russian, good, j...</td>\n",
       "    </tr>\n",
       "  </tbody>\n",
       "</table>\n",
       "</div>"
      ],
      "text/plain": [
       "       stock_tickers                                        text_tokens\n",
       "newsID                                                                 \n",
       "1                 []  [oil, price, could, determine, market, react, ...\n",
       "2                 []  [zoom, provide, disappointing, revenue, foreca...\n",
       "3                 []  [wall, street, rally, west, hit, russia, new, ...\n",
       "4                 []  [weak, manufacturing, drag, gdp, growth, oil, ...\n",
       "5                 []  [singapore, bank, halt, lend, russian, good, j..."
      ]
     },
     "execution_count": 4,
     "metadata": {},
     "output_type": "execute_result"
    }
   ],
   "source": [
    "# join title and summary tokens\n",
    "df['text_tokens'] = df.swifter.apply(lambda row: list(row['title_preprocessed']) + list(row['summary_preprocessed']), axis=1)\n",
    "df.drop(columns=['title_preprocessed', 'summary_preprocessed'], inplace=True)\n",
    "df.head()"
   ]
  },
  {
   "cell_type": "markdown",
   "id": "8826ed53",
   "metadata": {},
   "source": [
    "### sector keywords matching"
   ]
  },
  {
   "cell_type": "code",
   "execution_count": 5,
   "id": "f90ae9c1",
   "metadata": {},
   "outputs": [],
   "source": [
    "# Define sector keywords\n",
    "sector_keywords = {\n",
    "    \"Energy\": [\n",
    "        \"oil\", \"gas\", \"petroleum\", \"drilling\", \"refinery\", \"refining\", \"fossil fuel\", \"coal\" \n",
    "        \"crude\", \"drilling\", \"opec\", \"energy\", \"renewables\", \"solar\", \"wind\", \"hydrocarbon\"\n",
    "    ],\n",
    "    \"Materials\": [\n",
    "        \"chemicals\", \"metals\", \"mining\", \"steel\", \"aluminum\", \"copper\", \"gold\", \"silver\", \"commodity\", \n",
    "        \"paper\", \"forestry\", \"construction materials\", \"packaging\", \"fertilizer\", \"minerals\", \"cement\"\n",
    "    ],\n",
    "    \"Industrials\": [\n",
    "        \"manufacturing\", \"aerospace\", \"defense\", \"machinery\", \"construction\", \"engineering\", \"airlines\", \n",
    "        \"transportation\", \"logistics\", \"shipping\", \"railroad\", \"industrial\", \"waste management\", \n",
    "        \"infrastructure\", \"electrical\", \"distribution\"\n",
    "    ],\n",
    "    \"Consumer Discretionary\": [\n",
    "        \"retail\", \"apparel\", \"luxury\", \"automobile\", \"vehicle\", \"car\", \"hotels\", \"restaurant\", \"leisure\", \n",
    "        \"travel\", \"entertainment\", \"media\", \"e-commerce\", \"consumer spending\", \"durables\", \"homebuilding\", \n",
    "        \"furniture\", \"tourism\", \"discretionary\"\n",
    "    ],\n",
    "    \"Consumer Staples\": [\n",
    "        \"food\", \"beverage\", \"tobacco\", \"household\", \"personal products\", \"grocery\", \"supermarket\", \n",
    "        \"staples\", \"consumer packaged goods\", \"cpg\", \"fmcg\", \"dairy\", \"meat\", \"agriculture\"\n",
    "    ],\n",
    "    \"Health Care\": [\n",
    "        \"pharmaceutical\", \"biotech\", \"medical\", \"healthcare\", \"hospital\", \"drug\", \"medicine\",\n",
    "        \"insurance\", \"health\", \"therapy\", \"diagnostics\", \"dental\", \"clinical\", \"patient\", \"physician\", \n",
    "        \"therapeutic\", \"vaccine\"\n",
    "    ],\n",
    "    \"Financials\": [\n",
    "        \"bank\", \"insurance\", \"investment\", \"asset management\", \"broker\", \"credit\", \"loan\", \"mortgage\", \n",
    "        \"capital market\", \"financial\", \"wealth management\", \"payment\", \"private equity\", \"venture capital\", \n",
    "        \"fintech\", \"banking\", \"real estate investment\"\n",
    "    ],\n",
    "    \"Information Technology\": [\n",
    "        \"software\", \"hardware\", \"semiconductor\", \"technology\", \"computing\", \"internet\", \"cloud\", \"data\", \n",
    "        \"ai\", \"artificial intelligence\", \"machine learning\", \"cybersecurity\", \"tech\", \"digital\", \"it\", \n",
    "        \"information technology\", \"computer\", \"telecom\", \"electronics\", \"fintech\", \"blockchain\"\n",
    "    ],\n",
    "    \"Communication Services\": [\n",
    "        \"telecommunication\", \"telecom\", \"wireless\", \"broadband\", \"internet service\", \"media\", \"advertising\", \n",
    "        \"publishing\", \"entertainment\", \"social media\", \"streaming\", \"cable\", \"network\", \"broadcast\", \n",
    "        \"communication\"\n",
    "    ],\n",
    "    \"Utilities\": [\n",
    "        \"electricity\", \"gas utility\", \"water\", \"power\", \"utility\", \"electric\", \"renewable energy\", \n",
    "        \"grid\", \"nuclear\", \"generation\", \"transmission\", \"distribution\", \"energy company\"\n",
    "    ],\n",
    "    \"Real Estate\": [\n",
    "        \"reit\", \"real estate\", \"property\", \"commercial real estate\", \"residential\", \"housing\", \"apartment\", \n",
    "        \"office\", \"retail space\", \"land\", \"development\", \"leasing\", \"rental\", \"commercial property\"\n",
    "    ]\n",
    "}"
   ]
  },
  {
   "cell_type": "code",
   "execution_count": 6,
   "id": "3e35785d",
   "metadata": {},
   "outputs": [
    {
     "name": "stderr",
     "output_type": "stream",
     "text": [
      "Pandas Apply: 100%|██████████| 1904665/1904665 [01:13<00:00, 25826.68it/s]\n"
     ]
    }
   ],
   "source": [
    "def get_sector_matches(tokens):\n",
    "  matched_sectors = set()\n",
    "  for sector, keywords in sector_keywords.items():\n",
    "    if any(token in keywords for token in tokens):\n",
    "      matched_sectors.add(sector)\n",
    "  return matched_sectors\n",
    "\n",
    "df['sectors'] = df['text_tokens'].swifter.apply(get_sector_matches)"
   ]
  },
  {
   "cell_type": "code",
   "execution_count": 7,
   "id": "fb520927",
   "metadata": {},
   "outputs": [
    {
     "data": {
      "application/vnd.microsoft.datawrangler.viewer.v0+json": {
       "columns": [
        {
         "name": "newsID",
         "rawType": "int64",
         "type": "integer"
        },
        {
         "name": "stock_tickers",
         "rawType": "object",
         "type": "unknown"
        },
        {
         "name": "text_tokens",
         "rawType": "object",
         "type": "unknown"
        },
        {
         "name": "sectors",
         "rawType": "object",
         "type": "unknown"
        }
       ],
       "conversionMethod": "pd.DataFrame",
       "ref": "b4e560cd-c124-43ed-a684-8a81fe809455",
       "rows": [
        [
         "1",
         "[]",
         "['oil', 'price', 'could', 'determine', 'market', 'react', 'russia', 'ukraine', 'invasion', 'heavy', 'new', 'round', 'sanction', 'russia', 'ally', 'likely', 'push', 'oil', 'price', 'inflation', 'even', 'high']",
         "{'Energy'}"
        ],
        [
         "2",
         "[]",
         "['zoom', 'provide', 'disappointing', 'revenue', 'forecast', 'first', 'quarter', 'full', 'year', 'zoom', 'revenue', 'growth', 'continue', 'slow', 'business', 'surge', 'first', 'year', 'covid', 'pandemic']",
         "set()"
        ],
        [
         "3",
         "[]",
         "['wall', 'street', 'rally', 'west', 'hit', 'russia', 'new', 'sanction', 'rise', 'end', 'four', 'day', 'slide', 'amid', 'worry', 'escalate', 'crisis', 'dow', 'also', 'end', 'positive', 'territory']",
         "set()"
        ],
        [
         "4",
         "[]",
         "['weak', 'manufacturing', 'drag', 'gdp', 'growth', 'oil', 'inflation', 'cast', 'shadow', 'future', 'growth', 'etcfo', 'india', 'economy', 'grow', 'three', 'month', 'end', 'december', 'shade', 'low', 'basis', 'point', 'expect']",
         "{'Industrials', 'Energy'}"
        ],
        [
         "5",
         "[]",
         "['singapore', 'bank', 'halt', 'lend', 'russian', 'good', 'japan', 'imposes', 'sanction', 'singapore', 'big', 'bank', 'restrict', 'trade', 'financing', 'russian', 'raw', 'material', 'war', 'ukraine', 'spur', 'lender', 'asia', 'large', 'energy', 'commodity', 'trade', 'hub', 'reduce', 'exposure', 'sanction', 'hit', 'country', 'limit', 'include', 'halt', 'issue', 'call', 'letter', 'credit', 'dollar']",
         "{'Materials', 'Energy', 'Financials'}"
        ]
       ],
       "shape": {
        "columns": 3,
        "rows": 5
       }
      },
      "text/html": [
       "<div>\n",
       "<style scoped>\n",
       "    .dataframe tbody tr th:only-of-type {\n",
       "        vertical-align: middle;\n",
       "    }\n",
       "\n",
       "    .dataframe tbody tr th {\n",
       "        vertical-align: top;\n",
       "    }\n",
       "\n",
       "    .dataframe thead th {\n",
       "        text-align: right;\n",
       "    }\n",
       "</style>\n",
       "<table border=\"1\" class=\"dataframe\">\n",
       "  <thead>\n",
       "    <tr style=\"text-align: right;\">\n",
       "      <th></th>\n",
       "      <th>stock_tickers</th>\n",
       "      <th>text_tokens</th>\n",
       "      <th>sectors</th>\n",
       "    </tr>\n",
       "    <tr>\n",
       "      <th>newsID</th>\n",
       "      <th></th>\n",
       "      <th></th>\n",
       "      <th></th>\n",
       "    </tr>\n",
       "  </thead>\n",
       "  <tbody>\n",
       "    <tr>\n",
       "      <th>1</th>\n",
       "      <td>[]</td>\n",
       "      <td>[oil, price, could, determine, market, react, ...</td>\n",
       "      <td>{Energy}</td>\n",
       "    </tr>\n",
       "    <tr>\n",
       "      <th>2</th>\n",
       "      <td>[]</td>\n",
       "      <td>[zoom, provide, disappointing, revenue, foreca...</td>\n",
       "      <td>{}</td>\n",
       "    </tr>\n",
       "    <tr>\n",
       "      <th>3</th>\n",
       "      <td>[]</td>\n",
       "      <td>[wall, street, rally, west, hit, russia, new, ...</td>\n",
       "      <td>{}</td>\n",
       "    </tr>\n",
       "    <tr>\n",
       "      <th>4</th>\n",
       "      <td>[]</td>\n",
       "      <td>[weak, manufacturing, drag, gdp, growth, oil, ...</td>\n",
       "      <td>{Industrials, Energy}</td>\n",
       "    </tr>\n",
       "    <tr>\n",
       "      <th>5</th>\n",
       "      <td>[]</td>\n",
       "      <td>[singapore, bank, halt, lend, russian, good, j...</td>\n",
       "      <td>{Materials, Energy, Financials}</td>\n",
       "    </tr>\n",
       "  </tbody>\n",
       "</table>\n",
       "</div>"
      ],
      "text/plain": [
       "       stock_tickers                                        text_tokens  \\\n",
       "newsID                                                                    \n",
       "1                 []  [oil, price, could, determine, market, react, ...   \n",
       "2                 []  [zoom, provide, disappointing, revenue, foreca...   \n",
       "3                 []  [wall, street, rally, west, hit, russia, new, ...   \n",
       "4                 []  [weak, manufacturing, drag, gdp, growth, oil, ...   \n",
       "5                 []  [singapore, bank, halt, lend, russian, good, j...   \n",
       "\n",
       "                                sectors  \n",
       "newsID                                   \n",
       "1                              {Energy}  \n",
       "2                                    {}  \n",
       "3                                    {}  \n",
       "4                 {Industrials, Energy}  \n",
       "5       {Materials, Energy, Financials}  "
      ]
     },
     "execution_count": 7,
     "metadata": {},
     "output_type": "execute_result"
    }
   ],
   "source": [
    "df.head()"
   ]
  },
  {
   "cell_type": "code",
   "execution_count": 8,
   "id": "b4802382",
   "metadata": {},
   "outputs": [],
   "source": [
    "df_sector = df.copy()"
   ]
  },
  {
   "cell_type": "markdown",
   "id": "a6b44d50",
   "metadata": {},
   "source": [
    "### match ticker to sector"
   ]
  },
  {
   "cell_type": "code",
   "execution_count": 9,
   "id": "fb6323b7",
   "metadata": {},
   "outputs": [
    {
     "data": {
      "application/vnd.microsoft.datawrangler.viewer.v0+json": {
       "columns": [
        {
         "name": "index",
         "rawType": "int64",
         "type": "integer"
        },
        {
         "name": "ticker",
         "rawType": "object",
         "type": "string"
        },
        {
         "name": "gics_sector_code",
         "rawType": "float64",
         "type": "float"
        }
       ],
       "conversionMethod": "pd.DataFrame",
       "ref": "3605227f-017a-4145-8344-69f08cc79327",
       "rows": [
        [
         "0",
         "0015B",
         "25.0"
        ],
        [
         "1",
         "0030B",
         "45.0"
        ],
        [
         "2",
         "0032A",
         "55.0"
        ],
        [
         "3",
         "0033A",
         "55.0"
        ],
        [
         "4",
         "0038A",
         "25.0"
        ]
       ],
       "shape": {
        "columns": 2,
        "rows": 5
       }
      },
      "text/html": [
       "<div>\n",
       "<style scoped>\n",
       "    .dataframe tbody tr th:only-of-type {\n",
       "        vertical-align: middle;\n",
       "    }\n",
       "\n",
       "    .dataframe tbody tr th {\n",
       "        vertical-align: top;\n",
       "    }\n",
       "\n",
       "    .dataframe thead th {\n",
       "        text-align: right;\n",
       "    }\n",
       "</style>\n",
       "<table border=\"1\" class=\"dataframe\">\n",
       "  <thead>\n",
       "    <tr style=\"text-align: right;\">\n",
       "      <th></th>\n",
       "      <th>ticker</th>\n",
       "      <th>gics_sector_code</th>\n",
       "    </tr>\n",
       "  </thead>\n",
       "  <tbody>\n",
       "    <tr>\n",
       "      <th>0</th>\n",
       "      <td>0015B</td>\n",
       "      <td>25.0</td>\n",
       "    </tr>\n",
       "    <tr>\n",
       "      <th>1</th>\n",
       "      <td>0030B</td>\n",
       "      <td>45.0</td>\n",
       "    </tr>\n",
       "    <tr>\n",
       "      <th>2</th>\n",
       "      <td>0032A</td>\n",
       "      <td>55.0</td>\n",
       "    </tr>\n",
       "    <tr>\n",
       "      <th>3</th>\n",
       "      <td>0033A</td>\n",
       "      <td>55.0</td>\n",
       "    </tr>\n",
       "    <tr>\n",
       "      <th>4</th>\n",
       "      <td>0038A</td>\n",
       "      <td>25.0</td>\n",
       "    </tr>\n",
       "  </tbody>\n",
       "</table>\n",
       "</div>"
      ],
      "text/plain": [
       "  ticker  gics_sector_code\n",
       "0  0015B              25.0\n",
       "1  0030B              45.0\n",
       "2  0032A              55.0\n",
       "3  0033A              55.0\n",
       "4  0038A              25.0"
      ]
     },
     "execution_count": 9,
     "metadata": {},
     "output_type": "execute_result"
    }
   ],
   "source": [
    "df_compustat = pd.read_csv('data/compustat_GICS.csv')\n",
    "df_compustat = df_compustat.sort_values(by=['tic', 'fyear'])\n",
    "df_compustat = df_compustat.drop_duplicates(subset=['tic'], keep='last')\n",
    "df_compustat = df_compustat[['tic', 'gsector']]\n",
    "df_compustat = df_compustat.rename(columns={'tic': 'ticker', 'gsector': 'gics_sector_code'})\n",
    "df_compustat.reset_index(drop=True, inplace=True)\n",
    "df_compustat.head()"
   ]
  },
  {
   "cell_type": "code",
   "execution_count": 10,
   "id": "39e758c1",
   "metadata": {
    "vscode": {
     "languageId": "javascript"
    }
   },
   "outputs": [
    {
     "data": {
      "application/vnd.microsoft.datawrangler.viewer.v0+json": {
       "columns": [
        {
         "name": "index",
         "rawType": "int64",
         "type": "integer"
        },
        {
         "name": "ticker",
         "rawType": "object",
         "type": "string"
        },
        {
         "name": "gics_sector_code",
         "rawType": "float64",
         "type": "float"
        },
        {
         "name": "gics_sector",
         "rawType": "object",
         "type": "string"
        }
       ],
       "conversionMethod": "pd.DataFrame",
       "ref": "eab165e8-bec3-498c-9ab9-417ff4928c1c",
       "rows": [
        [
         "0",
         "0015B",
         "25.0",
         "Consumer Discretionary"
        ],
        [
         "1",
         "0030B",
         "45.0",
         "Information Technology"
        ],
        [
         "2",
         "0032A",
         "55.0",
         "Utilities"
        ],
        [
         "3",
         "0033A",
         "55.0",
         "Utilities"
        ],
        [
         "4",
         "0038A",
         "25.0",
         "Consumer Discretionary"
        ]
       ],
       "shape": {
        "columns": 3,
        "rows": 5
       }
      },
      "text/html": [
       "<div>\n",
       "<style scoped>\n",
       "    .dataframe tbody tr th:only-of-type {\n",
       "        vertical-align: middle;\n",
       "    }\n",
       "\n",
       "    .dataframe tbody tr th {\n",
       "        vertical-align: top;\n",
       "    }\n",
       "\n",
       "    .dataframe thead th {\n",
       "        text-align: right;\n",
       "    }\n",
       "</style>\n",
       "<table border=\"1\" class=\"dataframe\">\n",
       "  <thead>\n",
       "    <tr style=\"text-align: right;\">\n",
       "      <th></th>\n",
       "      <th>ticker</th>\n",
       "      <th>gics_sector_code</th>\n",
       "      <th>gics_sector</th>\n",
       "    </tr>\n",
       "  </thead>\n",
       "  <tbody>\n",
       "    <tr>\n",
       "      <th>0</th>\n",
       "      <td>0015B</td>\n",
       "      <td>25.0</td>\n",
       "      <td>Consumer Discretionary</td>\n",
       "    </tr>\n",
       "    <tr>\n",
       "      <th>1</th>\n",
       "      <td>0030B</td>\n",
       "      <td>45.0</td>\n",
       "      <td>Information Technology</td>\n",
       "    </tr>\n",
       "    <tr>\n",
       "      <th>2</th>\n",
       "      <td>0032A</td>\n",
       "      <td>55.0</td>\n",
       "      <td>Utilities</td>\n",
       "    </tr>\n",
       "    <tr>\n",
       "      <th>3</th>\n",
       "      <td>0033A</td>\n",
       "      <td>55.0</td>\n",
       "      <td>Utilities</td>\n",
       "    </tr>\n",
       "    <tr>\n",
       "      <th>4</th>\n",
       "      <td>0038A</td>\n",
       "      <td>25.0</td>\n",
       "      <td>Consumer Discretionary</td>\n",
       "    </tr>\n",
       "  </tbody>\n",
       "</table>\n",
       "</div>"
      ],
      "text/plain": [
       "  ticker  gics_sector_code             gics_sector\n",
       "0  0015B              25.0  Consumer Discretionary\n",
       "1  0030B              45.0  Information Technology\n",
       "2  0032A              55.0               Utilities\n",
       "3  0033A              55.0               Utilities\n",
       "4  0038A              25.0  Consumer Discretionary"
      ]
     },
     "execution_count": 10,
     "metadata": {},
     "output_type": "execute_result"
    }
   ],
   "source": [
    "gics_sector_mapping = {\n",
    "  10.0: \"Energy\",\n",
    "  15.0: \"Materials\",\n",
    "  20.0: \"Industrials\",\n",
    "  25.0: \"Consumer Discretionary\",\n",
    "  30.0: \"Consumer Staples\",\n",
    "  35.0: \"Health Care\",\n",
    "  40.0: \"Financials\",\n",
    "  45.0: \"Information Technology\",\n",
    "  50.0: \"Communication Services\",\n",
    "  55.0: \"Utilities\",\n",
    "  60.0: \"Real Estate\"\n",
    "}\n",
    "\n",
    "df_compustat['gics_sector'] = df_compustat['gics_sector_code'].map(gics_sector_mapping)\n",
    "df_compustat.dropna(subset=['gics_sector'], inplace=True)\n",
    "df_compustat.head()"
   ]
  },
  {
   "cell_type": "code",
   "execution_count": 11,
   "id": "8418bb42",
   "metadata": {},
   "outputs": [
    {
     "data": {
      "application/vnd.microsoft.datawrangler.viewer.v0+json": {
       "columns": [
        {
         "name": "newsID",
         "rawType": "int64",
         "type": "integer"
        },
        {
         "name": "stock_tickers",
         "rawType": "object",
         "type": "unknown"
        },
        {
         "name": "text_tokens",
         "rawType": "object",
         "type": "unknown"
        },
        {
         "name": "sectors",
         "rawType": "object",
         "type": "unknown"
        }
       ],
       "conversionMethod": "pd.DataFrame",
       "ref": "66757d87-9f89-42b5-b699-ac02da59538f",
       "rows": [
        [
         "1",
         "[]",
         "['oil', 'price', 'could', 'determine', 'market', 'react', 'russia', 'ukraine', 'invasion', 'heavy', 'new', 'round', 'sanction', 'russia', 'ally', 'likely', 'push', 'oil', 'price', 'inflation', 'even', 'high']",
         "{'Energy'}"
        ],
        [
         "2",
         "[]",
         "['zoom', 'provide', 'disappointing', 'revenue', 'forecast', 'first', 'quarter', 'full', 'year', 'zoom', 'revenue', 'growth', 'continue', 'slow', 'business', 'surge', 'first', 'year', 'covid', 'pandemic']",
         "set()"
        ],
        [
         "3",
         "[]",
         "['wall', 'street', 'rally', 'west', 'hit', 'russia', 'new', 'sanction', 'rise', 'end', 'four', 'day', 'slide', 'amid', 'worry', 'escalate', 'crisis', 'dow', 'also', 'end', 'positive', 'territory']",
         "set()"
        ],
        [
         "4",
         "[]",
         "['weak', 'manufacturing', 'drag', 'gdp', 'growth', 'oil', 'inflation', 'cast', 'shadow', 'future', 'growth', 'etcfo', 'india', 'economy', 'grow', 'three', 'month', 'end', 'december', 'shade', 'low', 'basis', 'point', 'expect']",
         "{'Industrials', 'Energy'}"
        ],
        [
         "5",
         "[]",
         "['singapore', 'bank', 'halt', 'lend', 'russian', 'good', 'japan', 'imposes', 'sanction', 'singapore', 'big', 'bank', 'restrict', 'trade', 'financing', 'russian', 'raw', 'material', 'war', 'ukraine', 'spur', 'lender', 'asia', 'large', 'energy', 'commodity', 'trade', 'hub', 'reduce', 'exposure', 'sanction', 'hit', 'country', 'limit', 'include', 'halt', 'issue', 'call', 'letter', 'credit', 'dollar']",
         "{'Materials', 'Energy', 'Financials'}"
        ]
       ],
       "shape": {
        "columns": 3,
        "rows": 5
       }
      },
      "text/html": [
       "<div>\n",
       "<style scoped>\n",
       "    .dataframe tbody tr th:only-of-type {\n",
       "        vertical-align: middle;\n",
       "    }\n",
       "\n",
       "    .dataframe tbody tr th {\n",
       "        vertical-align: top;\n",
       "    }\n",
       "\n",
       "    .dataframe thead th {\n",
       "        text-align: right;\n",
       "    }\n",
       "</style>\n",
       "<table border=\"1\" class=\"dataframe\">\n",
       "  <thead>\n",
       "    <tr style=\"text-align: right;\">\n",
       "      <th></th>\n",
       "      <th>stock_tickers</th>\n",
       "      <th>text_tokens</th>\n",
       "      <th>sectors</th>\n",
       "    </tr>\n",
       "    <tr>\n",
       "      <th>newsID</th>\n",
       "      <th></th>\n",
       "      <th></th>\n",
       "      <th></th>\n",
       "    </tr>\n",
       "  </thead>\n",
       "  <tbody>\n",
       "    <tr>\n",
       "      <th>1</th>\n",
       "      <td>[]</td>\n",
       "      <td>[oil, price, could, determine, market, react, ...</td>\n",
       "      <td>{Energy}</td>\n",
       "    </tr>\n",
       "    <tr>\n",
       "      <th>2</th>\n",
       "      <td>[]</td>\n",
       "      <td>[zoom, provide, disappointing, revenue, foreca...</td>\n",
       "      <td>{}</td>\n",
       "    </tr>\n",
       "    <tr>\n",
       "      <th>3</th>\n",
       "      <td>[]</td>\n",
       "      <td>[wall, street, rally, west, hit, russia, new, ...</td>\n",
       "      <td>{}</td>\n",
       "    </tr>\n",
       "    <tr>\n",
       "      <th>4</th>\n",
       "      <td>[]</td>\n",
       "      <td>[weak, manufacturing, drag, gdp, growth, oil, ...</td>\n",
       "      <td>{Industrials, Energy}</td>\n",
       "    </tr>\n",
       "    <tr>\n",
       "      <th>5</th>\n",
       "      <td>[]</td>\n",
       "      <td>[singapore, bank, halt, lend, russian, good, j...</td>\n",
       "      <td>{Materials, Energy, Financials}</td>\n",
       "    </tr>\n",
       "  </tbody>\n",
       "</table>\n",
       "</div>"
      ],
      "text/plain": [
       "       stock_tickers                                        text_tokens  \\\n",
       "newsID                                                                    \n",
       "1                 []  [oil, price, could, determine, market, react, ...   \n",
       "2                 []  [zoom, provide, disappointing, revenue, foreca...   \n",
       "3                 []  [wall, street, rally, west, hit, russia, new, ...   \n",
       "4                 []  [weak, manufacturing, drag, gdp, growth, oil, ...   \n",
       "5                 []  [singapore, bank, halt, lend, russian, good, j...   \n",
       "\n",
       "                                sectors  \n",
       "newsID                                   \n",
       "1                              {Energy}  \n",
       "2                                    {}  \n",
       "3                                    {}  \n",
       "4                 {Industrials, Energy}  \n",
       "5       {Materials, Energy, Financials}  "
      ]
     },
     "execution_count": 11,
     "metadata": {},
     "output_type": "execute_result"
    }
   ],
   "source": [
    "df_sector.head()"
   ]
  },
  {
   "cell_type": "code",
   "execution_count": 12,
   "id": "3123ace0",
   "metadata": {},
   "outputs": [
    {
     "data": {
      "application/vnd.microsoft.datawrangler.viewer.v0+json": {
       "columns": [
        {
         "name": "index",
         "rawType": "int64",
         "type": "integer"
        },
        {
         "name": "ticker",
         "rawType": "object",
         "type": "string"
        },
        {
         "name": "gics_sector_code",
         "rawType": "float64",
         "type": "float"
        },
        {
         "name": "gics_sector",
         "rawType": "object",
         "type": "string"
        }
       ],
       "conversionMethod": "pd.DataFrame",
       "ref": "94182099-93d5-4f84-bf4e-48b375a01668",
       "rows": [
        [
         "0",
         "0015B",
         "25.0",
         "Consumer Discretionary"
        ],
        [
         "1",
         "0030B",
         "45.0",
         "Information Technology"
        ],
        [
         "2",
         "0032A",
         "55.0",
         "Utilities"
        ],
        [
         "3",
         "0033A",
         "55.0",
         "Utilities"
        ],
        [
         "4",
         "0038A",
         "25.0",
         "Consumer Discretionary"
        ]
       ],
       "shape": {
        "columns": 3,
        "rows": 5
       }
      },
      "text/html": [
       "<div>\n",
       "<style scoped>\n",
       "    .dataframe tbody tr th:only-of-type {\n",
       "        vertical-align: middle;\n",
       "    }\n",
       "\n",
       "    .dataframe tbody tr th {\n",
       "        vertical-align: top;\n",
       "    }\n",
       "\n",
       "    .dataframe thead th {\n",
       "        text-align: right;\n",
       "    }\n",
       "</style>\n",
       "<table border=\"1\" class=\"dataframe\">\n",
       "  <thead>\n",
       "    <tr style=\"text-align: right;\">\n",
       "      <th></th>\n",
       "      <th>ticker</th>\n",
       "      <th>gics_sector_code</th>\n",
       "      <th>gics_sector</th>\n",
       "    </tr>\n",
       "  </thead>\n",
       "  <tbody>\n",
       "    <tr>\n",
       "      <th>0</th>\n",
       "      <td>0015B</td>\n",
       "      <td>25.0</td>\n",
       "      <td>Consumer Discretionary</td>\n",
       "    </tr>\n",
       "    <tr>\n",
       "      <th>1</th>\n",
       "      <td>0030B</td>\n",
       "      <td>45.0</td>\n",
       "      <td>Information Technology</td>\n",
       "    </tr>\n",
       "    <tr>\n",
       "      <th>2</th>\n",
       "      <td>0032A</td>\n",
       "      <td>55.0</td>\n",
       "      <td>Utilities</td>\n",
       "    </tr>\n",
       "    <tr>\n",
       "      <th>3</th>\n",
       "      <td>0033A</td>\n",
       "      <td>55.0</td>\n",
       "      <td>Utilities</td>\n",
       "    </tr>\n",
       "    <tr>\n",
       "      <th>4</th>\n",
       "      <td>0038A</td>\n",
       "      <td>25.0</td>\n",
       "      <td>Consumer Discretionary</td>\n",
       "    </tr>\n",
       "  </tbody>\n",
       "</table>\n",
       "</div>"
      ],
      "text/plain": [
       "  ticker  gics_sector_code             gics_sector\n",
       "0  0015B              25.0  Consumer Discretionary\n",
       "1  0030B              45.0  Information Technology\n",
       "2  0032A              55.0               Utilities\n",
       "3  0033A              55.0               Utilities\n",
       "4  0038A              25.0  Consumer Discretionary"
      ]
     },
     "execution_count": 12,
     "metadata": {},
     "output_type": "execute_result"
    }
   ],
   "source": [
    "df_compustat.head()"
   ]
  },
  {
   "cell_type": "code",
   "execution_count": 13,
   "id": "fda0d0db",
   "metadata": {},
   "outputs": [
    {
     "data": {
      "text/plain": [
       "'Information Technology'"
      ]
     },
     "execution_count": 13,
     "metadata": {},
     "output_type": "execute_result"
    }
   ],
   "source": [
    "# dictionary mapping ticker to sector\n",
    "ticker_sector_dict = df_compustat.set_index('ticker')['gics_sector'].to_dict()\n",
    "\n",
    "# test\n",
    "ticker_sector_dict.get(\"AAPL\")"
   ]
  },
  {
   "cell_type": "code",
   "execution_count": 14,
   "id": "74d52833",
   "metadata": {},
   "outputs": [
    {
     "name": "stderr",
     "output_type": "stream",
     "text": [
      "Pandas Apply: 100%|██████████| 1904665/1904665 [00:13<00:00, 139164.69it/s]\n"
     ]
    }
   ],
   "source": [
    "# Map ticker to GICS sector\n",
    "\n",
    "def update_sectors_with_ticker_info(row):\n",
    "  current_sectors = set(row['sectors']) if isinstance(row['sectors'], (set, list, tuple)) else set()\n",
    "  ticker_list = row['stock_tickers']\n",
    "\n",
    "  for ticker in ticker_list:\n",
    "    sector = ticker_sector_dict.get(ticker)\n",
    "    if sector:\n",
    "      current_sectors.add(sector)\n",
    "      \n",
    "  return current_sectors\n",
    "\n",
    "df_sector['sectors'] = df_sector.swifter.apply(update_sectors_with_ticker_info, axis=1)"
   ]
  },
  {
   "cell_type": "code",
   "execution_count": 15,
   "id": "664cd902",
   "metadata": {},
   "outputs": [
    {
     "data": {
      "application/vnd.microsoft.datawrangler.viewer.v0+json": {
       "columns": [
        {
         "name": "newsID",
         "rawType": "int64",
         "type": "integer"
        },
        {
         "name": "stock_tickers",
         "rawType": "object",
         "type": "unknown"
        },
        {
         "name": "text_tokens",
         "rawType": "object",
         "type": "unknown"
        },
        {
         "name": "sectors",
         "rawType": "object",
         "type": "unknown"
        }
       ],
       "conversionMethod": "pd.DataFrame",
       "ref": "8571d5d6-7d1c-47e9-b046-c7cd629f2ea4",
       "rows": [
        [
         "1",
         "[]",
         "['oil', 'price', 'could', 'determine', 'market', 'react', 'russia', 'ukraine', 'invasion', 'heavy', 'new', 'round', 'sanction', 'russia', 'ally', 'likely', 'push', 'oil', 'price', 'inflation', 'even', 'high']",
         "{'Energy'}"
        ],
        [
         "2",
         "[]",
         "['zoom', 'provide', 'disappointing', 'revenue', 'forecast', 'first', 'quarter', 'full', 'year', 'zoom', 'revenue', 'growth', 'continue', 'slow', 'business', 'surge', 'first', 'year', 'covid', 'pandemic']",
         "set()"
        ],
        [
         "3",
         "[]",
         "['wall', 'street', 'rally', 'west', 'hit', 'russia', 'new', 'sanction', 'rise', 'end', 'four', 'day', 'slide', 'amid', 'worry', 'escalate', 'crisis', 'dow', 'also', 'end', 'positive', 'territory']",
         "set()"
        ],
        [
         "4",
         "[]",
         "['weak', 'manufacturing', 'drag', 'gdp', 'growth', 'oil', 'inflation', 'cast', 'shadow', 'future', 'growth', 'etcfo', 'india', 'economy', 'grow', 'three', 'month', 'end', 'december', 'shade', 'low', 'basis', 'point', 'expect']",
         "{'Industrials', 'Energy'}"
        ],
        [
         "5",
         "[]",
         "['singapore', 'bank', 'halt', 'lend', 'russian', 'good', 'japan', 'imposes', 'sanction', 'singapore', 'big', 'bank', 'restrict', 'trade', 'financing', 'russian', 'raw', 'material', 'war', 'ukraine', 'spur', 'lender', 'asia', 'large', 'energy', 'commodity', 'trade', 'hub', 'reduce', 'exposure', 'sanction', 'hit', 'country', 'limit', 'include', 'halt', 'issue', 'call', 'letter', 'credit', 'dollar']",
         "{'Materials', 'Energy', 'Financials'}"
        ]
       ],
       "shape": {
        "columns": 3,
        "rows": 5
       }
      },
      "text/html": [
       "<div>\n",
       "<style scoped>\n",
       "    .dataframe tbody tr th:only-of-type {\n",
       "        vertical-align: middle;\n",
       "    }\n",
       "\n",
       "    .dataframe tbody tr th {\n",
       "        vertical-align: top;\n",
       "    }\n",
       "\n",
       "    .dataframe thead th {\n",
       "        text-align: right;\n",
       "    }\n",
       "</style>\n",
       "<table border=\"1\" class=\"dataframe\">\n",
       "  <thead>\n",
       "    <tr style=\"text-align: right;\">\n",
       "      <th></th>\n",
       "      <th>stock_tickers</th>\n",
       "      <th>text_tokens</th>\n",
       "      <th>sectors</th>\n",
       "    </tr>\n",
       "    <tr>\n",
       "      <th>newsID</th>\n",
       "      <th></th>\n",
       "      <th></th>\n",
       "      <th></th>\n",
       "    </tr>\n",
       "  </thead>\n",
       "  <tbody>\n",
       "    <tr>\n",
       "      <th>1</th>\n",
       "      <td>[]</td>\n",
       "      <td>[oil, price, could, determine, market, react, ...</td>\n",
       "      <td>{Energy}</td>\n",
       "    </tr>\n",
       "    <tr>\n",
       "      <th>2</th>\n",
       "      <td>[]</td>\n",
       "      <td>[zoom, provide, disappointing, revenue, foreca...</td>\n",
       "      <td>{}</td>\n",
       "    </tr>\n",
       "    <tr>\n",
       "      <th>3</th>\n",
       "      <td>[]</td>\n",
       "      <td>[wall, street, rally, west, hit, russia, new, ...</td>\n",
       "      <td>{}</td>\n",
       "    </tr>\n",
       "    <tr>\n",
       "      <th>4</th>\n",
       "      <td>[]</td>\n",
       "      <td>[weak, manufacturing, drag, gdp, growth, oil, ...</td>\n",
       "      <td>{Industrials, Energy}</td>\n",
       "    </tr>\n",
       "    <tr>\n",
       "      <th>5</th>\n",
       "      <td>[]</td>\n",
       "      <td>[singapore, bank, halt, lend, russian, good, j...</td>\n",
       "      <td>{Materials, Energy, Financials}</td>\n",
       "    </tr>\n",
       "  </tbody>\n",
       "</table>\n",
       "</div>"
      ],
      "text/plain": [
       "       stock_tickers                                        text_tokens  \\\n",
       "newsID                                                                    \n",
       "1                 []  [oil, price, could, determine, market, react, ...   \n",
       "2                 []  [zoom, provide, disappointing, revenue, foreca...   \n",
       "3                 []  [wall, street, rally, west, hit, russia, new, ...   \n",
       "4                 []  [weak, manufacturing, drag, gdp, growth, oil, ...   \n",
       "5                 []  [singapore, bank, halt, lend, russian, good, j...   \n",
       "\n",
       "                                sectors  \n",
       "newsID                                   \n",
       "1                              {Energy}  \n",
       "2                                    {}  \n",
       "3                                    {}  \n",
       "4                 {Industrials, Energy}  \n",
       "5       {Materials, Energy, Financials}  "
      ]
     },
     "execution_count": 15,
     "metadata": {},
     "output_type": "execute_result"
    }
   ],
   "source": [
    "df_sector.head()"
   ]
  },
  {
   "cell_type": "code",
   "execution_count": 16,
   "id": "9190e22a",
   "metadata": {},
   "outputs": [],
   "source": [
    "df_sector.drop(columns=['text_tokens', 'stock_tickers'], inplace=True)"
   ]
  },
  {
   "cell_type": "code",
   "execution_count": 17,
   "id": "fc7879d6",
   "metadata": {},
   "outputs": [
    {
     "data": {
      "application/vnd.microsoft.datawrangler.viewer.v0+json": {
       "columns": [
        {
         "name": "newsID",
         "rawType": "int64",
         "type": "integer"
        },
        {
         "name": "sectors",
         "rawType": "object",
         "type": "unknown"
        }
       ],
       "conversionMethod": "pd.DataFrame",
       "ref": "62c21567-b20a-4e90-a9be-1e94f4ece06f",
       "rows": [
        [
         "1",
         "{'Energy'}"
        ],
        [
         "2",
         "set()"
        ],
        [
         "3",
         "set()"
        ],
        [
         "4",
         "{'Industrials', 'Energy'}"
        ],
        [
         "5",
         "{'Materials', 'Energy', 'Financials'}"
        ]
       ],
       "shape": {
        "columns": 1,
        "rows": 5
       }
      },
      "text/html": [
       "<div>\n",
       "<style scoped>\n",
       "    .dataframe tbody tr th:only-of-type {\n",
       "        vertical-align: middle;\n",
       "    }\n",
       "\n",
       "    .dataframe tbody tr th {\n",
       "        vertical-align: top;\n",
       "    }\n",
       "\n",
       "    .dataframe thead th {\n",
       "        text-align: right;\n",
       "    }\n",
       "</style>\n",
       "<table border=\"1\" class=\"dataframe\">\n",
       "  <thead>\n",
       "    <tr style=\"text-align: right;\">\n",
       "      <th></th>\n",
       "      <th>sectors</th>\n",
       "    </tr>\n",
       "    <tr>\n",
       "      <th>newsID</th>\n",
       "      <th></th>\n",
       "    </tr>\n",
       "  </thead>\n",
       "  <tbody>\n",
       "    <tr>\n",
       "      <th>1</th>\n",
       "      <td>{Energy}</td>\n",
       "    </tr>\n",
       "    <tr>\n",
       "      <th>2</th>\n",
       "      <td>{}</td>\n",
       "    </tr>\n",
       "    <tr>\n",
       "      <th>3</th>\n",
       "      <td>{}</td>\n",
       "    </tr>\n",
       "    <tr>\n",
       "      <th>4</th>\n",
       "      <td>{Industrials, Energy}</td>\n",
       "    </tr>\n",
       "    <tr>\n",
       "      <th>5</th>\n",
       "      <td>{Materials, Energy, Financials}</td>\n",
       "    </tr>\n",
       "  </tbody>\n",
       "</table>\n",
       "</div>"
      ],
      "text/plain": [
       "                                sectors\n",
       "newsID                                 \n",
       "1                              {Energy}\n",
       "2                                    {}\n",
       "3                                    {}\n",
       "4                 {Industrials, Energy}\n",
       "5       {Materials, Energy, Financials}"
      ]
     },
     "execution_count": 17,
     "metadata": {},
     "output_type": "execute_result"
    }
   ],
   "source": [
    "df_sector.head()"
   ]
  },
  {
   "cell_type": "code",
   "execution_count": 18,
   "id": "fe203381",
   "metadata": {},
   "outputs": [],
   "source": [
    "df_sector.to_parquet('data/sectors.parquet')"
   ]
  }
 ],
 "metadata": {
  "kernelspec": {
   "display_name": "Python 3",
   "language": "python",
   "name": "python3"
  },
  "language_info": {
   "codemirror_mode": {
    "name": "ipython",
    "version": 3
   },
   "file_extension": ".py",
   "mimetype": "text/x-python",
   "name": "python",
   "nbconvert_exporter": "python",
   "pygments_lexer": "ipython3",
   "version": "3.12.9"
  }
 },
 "nbformat": 4,
 "nbformat_minor": 5
}
